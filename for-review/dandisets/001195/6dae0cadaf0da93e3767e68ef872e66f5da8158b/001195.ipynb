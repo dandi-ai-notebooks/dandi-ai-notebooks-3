{
 "cells": [
  {
   "cell_type": "markdown",
   "id": "0b954d2f",
   "metadata": {},
   "source": [
    "# Exploring Dandiset 001195: Separable Dorsal Raphe Dopamine Projections Mediate the Facets of Loneliness-like State"
   ]
  },
  {
   "cell_type": "markdown",
   "id": "243a836f",
   "metadata": {},
   "source": [
    "**Disclaimer**: This notebook was AI-generated using dandi-notebook-gen and has not been fully verified. Please be cautious when interpreting the code or results."
   ]
  },
  {
   "cell_type": "markdown",
   "id": "c9c1b458",
   "metadata": {},
   "source": [
    "## Overview of the Dandiset\n",
    "This Dandiset contains data supporting the publication titled \"Separable Dorsal Raphe Dopamine Projections Mediate the Facets of Loneliness-like State\".\n",
    "[Dandiset 001195](https://dandiarchive.org/dandiset/001195)\n",
    "\n",
    "## What this Notebook Covers\n",
    "- Loading the Dandiset\n",
    "- Visualizing Current Clamp Responses\n",
    "- Analyzing Stimulus Series"
   ]
  },
  {
   "cell_type": "markdown",
   "id": "c970c295",
   "metadata": {},
   "source": [
    "## Required Packages\n",
    "Ensure the following packages are installed: `pynwb`, `h5py`, `matplotlib`, `remfile`, `dandi`."
   ]
  },
  {
   "cell_type": "code",
   "execution_count": 1,
   "id": "3624a174",
   "metadata": {
    "execution": {
     "iopub.execute_input": "2025-04-18T20:04:57.113944Z",
     "iopub.status.busy": "2025-04-18T20:04:57.113628Z",
     "iopub.status.idle": "2025-04-18T20:04:59.215282Z",
     "shell.execute_reply": "2025-04-18T20:04:59.214747Z"
    }
   },
   "outputs": [
    {
     "name": "stdout",
     "output_type": "stream",
     "text": [
      "Dandiset name: Separable Dorsal Raphe Dopamine Projections Mediate the Facets of Loneliness-like State\n",
      "Dandiset URL: https://dandiarchive.org/dandiset/001195/0.250408.1733\n",
      "\n",
      "Found 230 assets in the dataset\n",
      "\n",
      "First 5 assets:\n",
      "- sub-23/sub-23_ses-20150324T134114_slice-slice-1_cell-C1_icephys.nwb\n",
      "- sub-23/sub-23_ses-20150324T161217_slice-slice-2_cell-B3_icephys.nwb\n",
      "- sub-235/sub-235_ses-20200921T142415_slice-slice-1_cell-C3_icephys.nwb\n",
      "- sub-23/sub-23_ses-20150324T154615_slice-slice-2_cell-B2_icephys.nwb\n",
      "- sub-23/sub-23_ses-20150324T152016_slice-slice-2_cell-B1_icephys.nwb\n"
     ]
    }
   ],
   "source": [
    "from dandi.dandiapi import DandiAPIClient\n",
    "import pynwb\n",
    "import h5py\n",
    "import remfile\n",
    "import matplotlib.pyplot as plt\n",
    "import numpy as np\n",
    "\n",
    "# Connect to DANDI archive\n",
    "client = DandiAPIClient()\n",
    "dandiset = client.get_dandiset(\"001195\")\n",
    "\n",
    "# Print basic information about the Dandiset\n",
    "metadata = dandiset.get_raw_metadata()\n",
    "print(f\"Dandiset name: {metadata['name']}\")\n",
    "print(f\"Dandiset URL: {metadata['url']}\")\n",
    "\n",
    "# List the assets in the Dandiset\n",
    "assets = list(dandiset.get_assets())\n",
    "print(f\"\\nFound {len(assets)} assets in the dataset\")\n",
    "print(\"\\nFirst 5 assets:\")\n",
    "for asset in assets[:5]:\n",
    "    print(f\"- {asset.path}\")"
   ]
  },
  {
   "cell_type": "markdown",
   "id": "08d75186",
   "metadata": {},
   "source": [
    "## Loading NWB File"
   ]
  },
  {
   "cell_type": "code",
   "execution_count": 2,
   "id": "b8a36ea6",
   "metadata": {
    "execution": {
     "iopub.execute_input": "2025-04-18T20:04:59.217313Z",
     "iopub.status.busy": "2025-04-18T20:04:59.216825Z",
     "iopub.status.idle": "2025-04-18T20:05:13.032397Z",
     "shell.execute_reply": "2025-04-18T20:05:13.031877Z"
    }
   },
   "outputs": [
    {
     "name": "stdout",
     "output_type": "stream",
     "text": [
      "Session description: episodic stimulation\n",
      "Experimenter: ('Matthews, Gillian',)\n"
     ]
    }
   ],
   "source": [
    "# Load NWB file\n",
    "url = \"https://api.dandiarchive.org/api/assets/a243dde4-c270-42a9-8550-025f5ffcd5a7/download/\"\n",
    "remote_file = remfile.File(url)\n",
    "h5_file = h5py.File(remote_file)\n",
    "io = pynwb.NWBHDF5IO(file=h5_file)\n",
    "nwb = io.read()\n",
    "\n",
    "# Print session information\n",
    "print(f\"Session description: {nwb.session_description}\")\n",
    "print(f\"Experimenter: {nwb.experimenter}\")"
   ]
  },
  {
   "cell_type": "markdown",
   "id": "74e0f831",
   "metadata": {},
   "source": [
    "## Visualization\n",
    "\n",
    "Plot Current Clamp Response\n",
    "current_clamp_series = nwb.acquisition[\"current_clamp-response-01-ch-0\"]\n",
    "stimulus_series = nwb.stimulus[\"stimulus-01-ch-0\"]\n",
    "\n",
    "Time axis for the plot\n",
    "data_length = current_clamp_series.data.shape[0]\n",
    "time = np.arange(data_length) / current_clamp_series.rate\n",
    "\n",
    "Ensure the datasets are converted to NumPy arrays\n",
    "current_clamp_data = current_clamp_series.data[:]\n",
    "stimulus_data = stimulus_series.data[:]\n",
    "\n",
    "Plot current clamp response\n",
    "plt.figure(figsize=(12, 6))\n",
    "plt.plot(time, current_clamp_data, label=\"Response\", color='blue')\n",
    "plt.xlabel('Time (s)')\n",
    "plt.ylabel('Current (V)')\n",
    "plt.title('Current Clamp Response')\n",
    "plt.legend()\n",
    "plt.show()\n",
    "\n",
    "Plot stimulus series\n",
    "plt.figure(figsize=(12, 6))\n",
    "plt.plot(time, stimulus_data, label=\"Stimulus\", color='green')\n",
    "plt.xlabel('Time (s)')\n",
    "plt.ylabel('Current (A)')\n",
    "plt.title('Stimulus Series')\n",
    "plt.legend()\n",
    "plt.show()\n",
    "\n",
    "io.close()\n",
    "remote_file.close()"
   ]
  },
  {
   "cell_type": "markdown",
   "id": "9f8c6dea",
   "metadata": {},
   "source": [
    "## Summary\n",
    "The current clamp response and stimulus series were visualized to examine the dynamics of the NWB data. Further analyses can expand on different datasets or analysis techniques within the Dandiset to explore different facets of the research question."
   ]
  }
 ],
 "metadata": {
  "jupytext": {
   "cell_metadata_filter": "-all",
   "main_language": "python",
   "notebook_metadata_filter": "-all"
  },
  "language_info": {
   "codemirror_mode": {
    "name": "ipython",
    "version": 3
   },
   "file_extension": ".py",
   "mimetype": "text/x-python",
   "name": "python",
   "nbconvert_exporter": "python",
   "pygments_lexer": "ipython3",
   "version": "3.11.10"
  }
 },
 "nbformat": 4,
 "nbformat_minor": 5
}
