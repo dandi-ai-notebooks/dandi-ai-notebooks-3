{
 "cells": [
  {
   "cell_type": "markdown",
   "id": "dff6aedb",
   "metadata": {},
   "source": [
    "# Exploring Dandiset 001275: Mental Navigation in Primates\n",
    "\n",
    "This notebook was AI-generated using dandi-notebook-gen and has not been fully verified. Please be cautious when interpreting the code or results."
   ]
  },
  {
   "cell_type": "markdown",
   "id": "d56b66ab",
   "metadata": {},
   "source": [
    "## Overview\n",
    "- **Dataset Name**: Mental navigation primate PPC Neupane_Fiete_Jazayeri\n",
    "- **Dataset Description**: Neurophysiology data collected from two primates during a mental navigation task with data from the entorhinal cortex.\n",
    "- **Neurosift Link**: [https://neurosift.app/dandiset/001275](https://neurosift.app/dandiset/001275)\n",
    "\n",
    "This dataset contains data relevant for studying brain function and organization during a mental navigation task."
   ]
  },
  {
   "cell_type": "markdown",
   "id": "d5b0a06f",
   "metadata": {},
   "source": [
    "## Notebook Outline\n",
    "- Load the dataset using DANDI API\n",
    "- View metadata of the selected NWB file\n",
    "- Visualize selected data from the NWB file"
   ]
  },
  {
   "cell_type": "markdown",
   "id": "2b4df0af",
   "metadata": {},
   "source": [
    "## Required Packages\n",
    "- `dandi`\n",
    "- `pynwb`\n",
    "- `h5py`\n",
    "- `remfile`\n",
    "- `matplotlib` (for visualization)"
   ]
  },
  {
   "cell_type": "markdown",
   "id": "7da811f5",
   "metadata": {},
   "source": [
    "## Loading the Dandiset\n",
    "from dandi.dandiapi import DandiAPIClient\n",
    "\n",
    "Connect to DANDI archive\n",
    "client = DandiAPIClient()\n",
    "dandiset = client.get_dandiset(\"001275\")\n",
    "assets = list(dandiset.get_assets())\n",
    "\n",
    "print(f\"Found {len(assets)} assets in the dataset\")\n",
    "print(\"\\nFirst 5 assets:\")\n",
    "for asset in assets[:5]:\n",
    "    print(f\"- {asset.path}\")"
   ]
  },
  {
   "cell_type": "markdown",
   "id": "4dddc5e4",
   "metadata": {},
   "source": [
    "## Loading the NWB File\n",
    "import pynwb\n",
    "import h5py\n",
    "import remfile\n",
    "\n",
    "Specify the file URL\n",
    "url = \"https://api.dandiarchive.org/api/assets/b0bbeb4c-5e0d-4050-a993-798173797d94/download/\"\n",
    "\n",
    "Load the NWB file\n",
    "remote_file = remfile.File(url)\n",
    "h5_file = h5py.File(remote_file)\n",
    "io = pynwb.NWBHDF5IO(file=h5_file, mode='r')\n",
    "nwb = io.read()\n",
    "\n",
    "Display metadata\n",
    "print(nwb.session_description)\n",
    "print(nwb.identifier)\n",
    "print(nwb.session_id)\n",
    "print(nwb.session_start_time)"
   ]
  },
  {
   "cell_type": "markdown",
   "id": "fcefec53",
   "metadata": {},
   "source": [
    "## Data Visualization\n",
    "import matplotlib.pyplot as plt\n",
    "\n",
    "Access eye position data\n",
    "eye_position = nwb.processing[\"behavior\"].data_interfaces[\"eye_position\"]\n",
    "\n",
    "Plot eye position over time\n",
    "plt.figure(figsize=(10, 4))\n",
    "plt.plot(eye_position.timestamps[0:1000], eye_position.data[0:1000, 0], label=\"X position\")\n",
    "plt.plot(eye_position.timestamps[0:1000], eye_position.data[0:1000, 1], label=\"Y position\")\n",
    "plt.xlabel(\"Time (s)\")\n",
    "plt.ylabel(\"Position (m)\")\n",
    "plt.title(\"Eye Position Over Time\")\n",
    "plt.legend()\n",
    "plt.show()"
   ]
  },
  {
   "cell_type": "markdown",
   "id": "406f9bb1",
   "metadata": {},
   "source": [
    "## Summary\n",
    "This notebook provided an overview of the neurophysiology data in Dandiset 001275, demonstrated how to load data using the DANDI API, and visualized eye position data over time. Future analyses could explore more detailed behavioral patterns or electrophysiological data."
   ]
  }
 ],
 "metadata": {
  "jupytext": {
   "cell_metadata_filter": "-all",
   "main_language": "python",
   "notebook_metadata_filter": "-all"
  },
  "language_info": {
   "codemirror_mode": {
    "name": "ipython",
    "version": 3
   },
   "file_extension": ".py",
   "mimetype": "text/x-python",
   "name": "python",
   "nbconvert_exporter": "python",
   "pygments_lexer": "ipython3",
   "version": "3.11.10"
  }
 },
 "nbformat": 4,
 "nbformat_minor": 5
}
