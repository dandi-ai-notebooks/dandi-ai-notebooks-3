{
 "cells": [
  {
   "cell_type": "markdown",
   "id": "104982aa",
   "metadata": {},
   "source": [
    "# Dandiset 001275 Explorer Notebook\n",
    "\n",
    "**Important:** This notebook was automatically generated using *dandi-notebook-gen* and has not been fully reviewed or verified. Please exercise caution in interpreting code and results, and consider validating all analyses and conclusions yourself.\n",
    "\n",
    "---\n",
    "\n",
    "# Overview\n",
    "\n",
    "This notebook provides an introduction to **DANDI:001275**  \n",
    "**Title:** Mental navigation primate PPC Neupane_Fiete_Jazayeri  \n",
    "**Contributors:** Neupane, Sujaya  \n",
    "**Institution:** MIT, Jazayeri and Fiete Labs  \n",
    "\n",
    "This dataset contains neurophysiology recordings from two macaque monkeys performing a *mental navigation* task associated with this study: [Nature (2024)](https://doi.org/10.1038/s41586-024-07557-z).\n",
    "\n",
    "It includes:\n",
    "- Extracellular electrophysiology data\n",
    "- Behavioral signals (eye, hand movement)\n",
    "- Spike sorting results\n",
    "- Metadata on sessions, electrodes, trials\n",
    "\n",
    "**Note:** Data is streamed from the DANDI archive, so be mindful when loading large files or entire datasets."
   ]
  },
  {
   "cell_type": "markdown",
   "id": "c91678de",
   "metadata": {},
   "source": [
    "## Accessing the Dandiset assets\n",
    "\n",
    "Below we demonstrate how to use the DANDI API to list all assets/files in Dandiset `001275`:"
   ]
  },
  {
   "cell_type": "code",
   "execution_count": 1,
   "id": "a078c620",
   "metadata": {
    "execution": {
     "iopub.execute_input": "2025-04-10T18:51:15.275640Z",
     "iopub.status.busy": "2025-04-10T18:51:15.275265Z",
     "iopub.status.idle": "2025-04-10T18:51:16.316173Z",
     "shell.execute_reply": "2025-04-10T18:51:16.314734Z"
    }
   },
   "outputs": [
    {
     "name": "stdout",
     "output_type": "stream",
     "text": [
      "Total assets in Dandiset 001275: 20\n",
      "First 5 asset paths:\n",
      "- sub-mahler/sub-mahler_ses-03122021_behavior+ecephys.nwb\n",
      "- sub-mahler/sub-mahler_ses-03172021_behavior+ecephys.nwb\n",
      "- sub-mahler/sub-mahler_ses-03152021_behavior+ecephys.nwb\n",
      "- sub-mahler/sub-mahler_ses-03182021_behavior+ecephys.nwb\n",
      "- sub-mahler/sub-mahler_ses-03192021_behavior+ecephys.nwb\n"
     ]
    }
   ],
   "source": [
    "from dandi.dandiapi import DandiAPIClient\n",
    "\n",
    "client = DandiAPIClient()\n",
    "dandiset = client.get_dandiset(\"001275\", \"draft\")\n",
    "assets = list(dandiset.get_assets())\n",
    "print(f\"Total assets in Dandiset 001275: {len(assets)}\")\n",
    "print(\"First 5 asset paths:\")\n",
    "for a in assets[:5]:\n",
    "    print(\"-\", a.path)"
   ]
  },
  {
   "cell_type": "markdown",
   "id": "60d93410",
   "metadata": {},
   "source": [
    "## Selecting NWB files to explore\n",
    "\n",
    "This Dandiset contains multiple `.nwb` files, including recordings from different sessions and subjects.\n",
    "Full list of filenames was shown above.\n",
    "\n",
    "In this example, we will focus on one of the smaller files containing both behavioral and electrophysiology data:\n",
    "\n",
    "`sub-amadeus/sub-amadeus_ses-01042020_behavior+ecephys.nwb`"
   ]
  },
  {
   "cell_type": "markdown",
   "id": "61ef0abd",
   "metadata": {},
   "source": [
    "## Loading NWB file via PyNWB + remfile\n",
    "\n",
    "The cell below shows how to stream the NWB file remotely via DANDI without downloading the entire file locally:"
   ]
  },
  {
   "cell_type": "code",
   "execution_count": 2,
   "id": "323344e2",
   "metadata": {
    "execution": {
     "iopub.execute_input": "2025-04-10T18:51:16.319597Z",
     "iopub.status.busy": "2025-04-10T18:51:16.319254Z",
     "iopub.status.idle": "2025-04-10T18:51:20.553348Z",
     "shell.execute_reply": "2025-04-10T18:51:20.552651Z"
    }
   },
   "outputs": [
    {
     "name": "stderr",
     "output_type": "stream",
     "text": [
      "/home/magland/miniconda3/envs/dev/lib/python3.12/site-packages/hdmf/spec/namespace.py:535: UserWarning: Ignoring cached namespace 'core' version 2.6.0-alpha because version 2.7.0 is already loaded.\n",
      "  warn(\"Ignoring cached namespace '%s' version %s because version %s is already loaded.\"\n"
     ]
    },
    {
     "name": "stdout",
     "output_type": "stream",
     "text": [
      "Session ID: 01042020\n",
      "Subject ID: amadeus\n",
      "Start time: 2020-01-04 00:00:00-05:00\n",
      "Lab: Jazayeri, Fiete\n",
      "Institution: MIT\n"
     ]
    }
   ],
   "source": [
    "import pynwb\n",
    "import h5py\n",
    "import remfile\n",
    "\n",
    "nwb_url = \"https://api.dandiarchive.org/api/assets/b0bbeb4c-5e0d-4050-a993-798173797d94/download/\"\n",
    "file = remfile.File(nwb_url)\n",
    "f = h5py.File(file)\n",
    "io = pynwb.NWBHDF5IO(file=f, load_namespaces=True)\n",
    "nwbfile = io.read()\n",
    "\n",
    "print(\"Session ID:\", nwbfile.session_id)\n",
    "print(\"Subject ID:\", nwbfile.subject.subject_id if nwbfile.subject else \"N/A\")\n",
    "print(\"Start time:\", nwbfile.session_start_time)\n",
    "if hasattr(nwbfile, 'lab'):\n",
    "    print(\"Lab:\", nwbfile.lab)\n",
    "if hasattr(nwbfile, 'institution'):\n",
    "    print(\"Institution:\", nwbfile.institution)"
   ]
  },
  {
   "cell_type": "markdown",
   "id": "d58c84ce",
   "metadata": {},
   "source": [
    "## NWB file content overview\n",
    "\n",
    "Let's examine the key components of the NWB container, such as:\n",
    "- Trials\n",
    "- Units (spike times)\n",
    "- Electrodes\n",
    "- Processing modules (e.g., behavior, ecephys)"
   ]
  },
  {
   "cell_type": "code",
   "execution_count": 3,
   "id": "b7a252c7",
   "metadata": {
    "execution": {
     "iopub.execute_input": "2025-04-10T18:51:20.554816Z",
     "iopub.status.busy": "2025-04-10T18:51:20.554567Z",
     "iopub.status.idle": "2025-04-10T18:51:20.558071Z",
     "shell.execute_reply": "2025-04-10T18:51:20.557501Z"
    }
   },
   "outputs": [
    {
     "name": "stdout",
     "output_type": "stream",
     "text": [
      "Available intervals (TimeIntervals): ['trials']\n",
      "Available processing modules: ['behavior', 'ecephys']\n",
      "Ecephys module contents: ['units']\n",
      "Behavior module contents: ['eye_position', 'hand_position']\n"
     ]
    }
   ],
   "source": [
    "print(\"Available intervals (TimeIntervals):\", list(nwbfile.intervals.keys()))\n",
    "print(\"Available processing modules:\", list(nwbfile.processing.keys()))\n",
    "\n",
    "if \"ecephys\" in nwbfile.processing:\n",
    "    ecephys_mod = nwbfile.processing[\"ecephys\"]\n",
    "    print(\"Ecephys module contents:\", list(ecephys_mod.data_interfaces.keys()))\n",
    "\n",
    "if \"behavior\" in nwbfile.processing:\n",
    "    beh_mod = nwbfile.processing[\"behavior\"]\n",
    "    print(\"Behavior module contents:\", list(beh_mod.data_interfaces.keys()))"
   ]
  },
  {
   "cell_type": "markdown",
   "id": "234ecaa3",
   "metadata": {},
   "source": [
    "## Inspect spikes and unit information\n",
    "\n",
    "We can explore sorted units, their IDs, spike times, and (optionally) waveforms."
   ]
  },
  {
   "cell_type": "code",
   "execution_count": 4,
   "id": "f01f8b0c",
   "metadata": {
    "execution": {
     "iopub.execute_input": "2025-04-10T18:51:20.559498Z",
     "iopub.status.busy": "2025-04-10T18:51:20.559336Z",
     "iopub.status.idle": "2025-04-10T18:51:21.030705Z",
     "shell.execute_reply": "2025-04-10T18:51:21.029592Z"
    }
   },
   "outputs": [
    {
     "name": "stdout",
     "output_type": "stream",
     "text": [
      "Total units: 68\n",
      "First 10 unit IDs: [0 1 2 3 4 5 6 7 8 9]\n"
     ]
    },
    {
     "name": "stdout",
     "output_type": "stream",
     "text": [
      "Spike train length of unit 0: 97283\n",
      "First 10 spikes (s): [0.0065     1.21163333 1.24066667 1.24856667 1.34976667 1.3626\n",
      " 1.37153333 1.3757     1.48413333 1.50966667]\n"
     ]
    }
   ],
   "source": [
    "if \"ecephys\" in nwbfile.processing and \"units\" in nwbfile.processing[\"ecephys\"].data_interfaces:\n",
    "    units = nwbfile.processing[\"ecephys\"].data_interfaces[\"units\"]\n",
    "    unit_ids = units.id[:]\n",
    "    print(f\"Total units: {len(unit_ids)}\")\n",
    "    print(\"First 10 unit IDs:\", unit_ids[:10])\n",
    "\n",
    "    # Example: spike times for first unit (if available)\n",
    "    if len(unit_ids) > 0:\n",
    "        spike_train = units[\"spike_times\"][0][:]\n",
    "        print(f\"Spike train length of unit 0: {len(spike_train)}\")\n",
    "        print(\"First 10 spikes (s):\", spike_train[:10])"
   ]
  },
  {
   "cell_type": "markdown",
   "id": "318877f6",
   "metadata": {},
   "source": [
    "## Trials data\n",
    "\n",
    "Access the behavioral **trial events**:"
   ]
  },
  {
   "cell_type": "code",
   "execution_count": 5,
   "id": "0a1b0a19",
   "metadata": {
    "execution": {
     "iopub.execute_input": "2025-04-10T18:51:21.033157Z",
     "iopub.status.busy": "2025-04-10T18:51:21.032870Z",
     "iopub.status.idle": "2025-04-10T18:51:21.037843Z",
     "shell.execute_reply": "2025-04-10T18:51:21.037181Z"
    }
   },
   "outputs": [
    {
     "name": "stdout",
     "output_type": "stream",
     "text": [
      "Trial columns: ('start_time', 'stop_time', 'ta', 'tp', 'curr', 'target', 'rt', 'delay', 'trial_type', 'seqq', 'succ', 'attempt', 'numrepeat', 'validtrials_mm', 'gocuettl', 'joy1offttl', 'joy1onttl', 'stim1onttl')\n",
      "Number of trials: 1885\n",
      "First 5 trial IDs: [0 1 2 3 4]\n"
     ]
    }
   ],
   "source": [
    "if hasattr(nwbfile, 'trials') and nwbfile.trials is not None:\n",
    "    print(\"Trial columns:\", nwbfile.trials.colnames)\n",
    "    print(\"Number of trials:\", len(nwbfile.trials.id))\n",
    "    print(\"First 5 trial IDs:\", nwbfile.trials.id[:5])"
   ]
  },
  {
   "cell_type": "markdown",
   "id": "d99df34c",
   "metadata": {},
   "source": [
    "## Accessing behavioral timeseries: eye and hand position\n",
    "\n",
    "Behavior data may be found under the \"behavior\" processing module."
   ]
  },
  {
   "cell_type": "code",
   "execution_count": 6,
   "id": "66265141",
   "metadata": {
    "execution": {
     "iopub.execute_input": "2025-04-10T18:51:21.040220Z",
     "iopub.status.busy": "2025-04-10T18:51:21.039956Z",
     "iopub.status.idle": "2025-04-10T18:51:21.045280Z",
     "shell.execute_reply": "2025-04-10T18:51:21.044819Z"
    }
   },
   "outputs": [
    {
     "name": "stdout",
     "output_type": "stream",
     "text": [
      "Eye position data shape: (11891095, 2)\n",
      "Eye timestamps shape: (11891095,)\n",
      "Eye position units: meters\n",
      "Hand position data shape: (11810979,)\n",
      "Hand timestamps shape: (11810979,)\n",
      "Hand position units: voltage\n"
     ]
    }
   ],
   "source": [
    "try:\n",
    "    beh_mod = nwbfile.processing.get(\"behavior\", None)\n",
    "    if beh_mod:\n",
    "        eye = beh_mod.data_interfaces.get(\"eye_position\", None)\n",
    "        hand = beh_mod.data_interfaces.get(\"hand_position\", None)\n",
    "\n",
    "        if eye:\n",
    "            print(\"Eye position data shape:\", eye.data.shape)\n",
    "            print(\"Eye timestamps shape:\", eye.timestamps.shape)\n",
    "            print(f\"Eye position units: {eye.unit}\")\n",
    "\n",
    "        if hand:\n",
    "            print(\"Hand position data shape:\", hand.data.shape)\n",
    "            print(\"Hand timestamps shape:\", hand.timestamps.shape)\n",
    "            print(f\"Hand position units: {hand.unit}\")\n",
    "\n",
    "except Exception as e:\n",
    "    print(f\"Error loading behavioral data: {e}\")"
   ]
  },
  {
   "cell_type": "markdown",
   "id": "a0741fcd",
   "metadata": {},
   "source": [
    "## Plotting examples (customize with your own data inspection)\n",
    "\n",
    "Below code demonstrates *how* you might visualize behavioral data.\n",
    "However, the explored sample file contained no continuous eye or hand data in the snippets.\n",
    "\n",
    "Replace the indices or conditions as appropriate to your dataset."
   ]
  },
  {
   "cell_type": "code",
   "execution_count": 7,
   "id": "81052b37",
   "metadata": {
    "execution": {
     "iopub.execute_input": "2025-04-10T18:51:21.047726Z",
     "iopub.status.busy": "2025-04-10T18:51:21.047528Z",
     "iopub.status.idle": "2025-04-10T18:51:21.252750Z",
     "shell.execute_reply": "2025-04-10T18:51:21.252270Z"
    }
   },
   "outputs": [],
   "source": [
    "import matplotlib.pyplot as plt\n",
    "\n",
    "try:\n",
    "    # Example: select snippet indices with data\n",
    "    # eye_times = eye.timestamps[:]\n",
    "    # eye_data = eye.data[:]\n",
    "    # plt.plot(eye_times, eye_data[:,0], label='Eye X')\n",
    "    # plt.plot(eye_times, eye_data[:,1], label='Eye Y')\n",
    "    # plt.xlabel(\"Time (s)\")\n",
    "    # plt.ylabel(\"Eye position (meters)\")\n",
    "    # plt.legend()\n",
    "    # plt.show()\n",
    "\n",
    "    pass  # remove this and uncomment above as needed when data is available\n",
    "\n",
    "except Exception as e:\n",
    "    print(f\"No behavioral snippet to plot: {e}\")"
   ]
  },
  {
   "cell_type": "markdown",
   "id": "777bdbb8",
   "metadata": {},
   "source": [
    "## Summary and next steps\n",
    "\n",
    "This notebook demonstrated how to:\n",
    "- Connect to DANDI and list assets\n",
    "- Stream NWB files remotely\n",
    "- Access basic metadata: trials, units, electrodes\n",
    "- Explore the data hierarchy interactively\n",
    "\n",
    "**Next steps for researchers:**\n",
    "- Select sessions/files of interest\n",
    "- Explore spike data, LFP, behavioral traces in more depth\n",
    "- Perform unit quality control, waveform analysis\n",
    "- Cross-reference behavioral events and neural activity\n",
    "\n",
    "**Reminder:** This notebook is AI-generated and intended as a scaffold. Please customize, validate, and extend as needed for your scientific analyses."
   ]
  }
 ],
 "metadata": {
  "jupytext": {
   "cell_metadata_filter": "-all",
   "main_language": "python",
   "notebook_metadata_filter": "-all"
  },
  "language_info": {
   "codemirror_mode": {
    "name": "ipython",
    "version": 3
   },
   "file_extension": ".py",
   "mimetype": "text/x-python",
   "name": "python",
   "nbconvert_exporter": "python",
   "pygments_lexer": "ipython3",
   "version": "3.12.2"
  }
 },
 "nbformat": 4,
 "nbformat_minor": 5
}
