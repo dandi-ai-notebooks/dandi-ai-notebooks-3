{
 "cells": [
  {
   "cell_type": "markdown",
   "id": "a7ba8d11",
   "metadata": {},
   "source": [
    "# Calcium imaging in SMA and M1 of macaques (DANDI:001174)\n",
    "\n",
    "**Disclaimer:** This notebook was AI-generated using dandi-notebook-gen and has not been fully verified. Users should be cautious when interpreting results or code.\n",
    "\n",
    "This notebook explores a dataset of calcium imaging recordings in the supplementary motor area (SMA) and primary motor cortex (M1) of macaques during spontaneous activity and behavior. It guides you through loading the data, visualizing segmentation ROIs, and inspecting example calcium signals.\n",
    "\n",
    "**Dataset metadata:**\n",
    "- **DANDI ID:** 001174\n",
    "- **Title:** Calcium imaging in SMA and M1 of macaques\n",
    "- **Description:** Study of neuron activity via genetically encoded calcium indicators (GCaMP6f) imaged with GRIN-lens microendoscopes during reaching/rest.\n",
    "- **Species:** Macaca mulatta\n",
    "- **Methods:** One-photon miniaturized microscopy, segmentation of ROIs, extraction of calcium traces.\n",
    "- **Keywords:** one-photon imaging, NHPs, GCaMP, deep layer neurons\n",
    "- **License:** CC-BY-4.0\n",
    "- **Citation:**\n",
    "  Galvan *et al* (2025). Calcium imaging in SMA and M1 of macaques. DANDI Archive. Version draft. https://dandiarchive.org/dandiset/001174/draft"
   ]
  },
  {
   "cell_type": "markdown",
   "id": "ee015415",
   "metadata": {},
   "source": [
    "## Setup\n",
    "\n",
    "Below, we use the DANDI API to list assets in this dataset."
   ]
  },
  {
   "cell_type": "code",
   "execution_count": 1,
   "id": "0710b09b",
   "metadata": {
    "execution": {
     "iopub.execute_input": "2025-04-09T21:16:17.193042Z",
     "iopub.status.busy": "2025-04-09T21:16:17.192808Z",
     "iopub.status.idle": "2025-04-09T21:16:17.953161Z",
     "shell.execute_reply": "2025-04-09T21:16:17.952525Z"
    }
   },
   "outputs": [
    {
     "data": {
      "text/plain": [
       "[RemoteBlobAsset(client=<dandi.dandiapi.DandiAPIClient object at 0x7f65253243d0>, identifier='a2b04c7f-f671-4a55-ac36-5df4d842dfc2', path='sub-V/sub-V_ses-20230309T110929_ophys.nwb', size=10659709412, created=datetime.datetime(2024, 11, 22, 15, 1, 36, 265791, tzinfo=TzInfo(UTC)), modified=datetime.datetime(2025, 3, 31, 22, 18, 19, 797333, tzinfo=TzInfo(UTC)), blob='3096eb8b-ce71-44db-a7af-fcad51273109', dandiset_id='001174', version_id='0.250331.2218'),\n",
       " RemoteBlobAsset(client=<dandi.dandiapi.DandiAPIClient object at 0x7f65253243d0>, identifier='de07db56-e7f3-4809-9972-755c51598e8d', path='sub-Q/sub-Q_ophys.nwb', size=790140856, created=datetime.datetime(2025, 2, 2, 2, 8, 42, 723385, tzinfo=TzInfo(UTC)), modified=datetime.datetime(2025, 3, 31, 22, 18, 19, 819769, tzinfo=TzInfo(UTC)), blob='2a7ad2ae-e8a2-4d7f-bfb7-0d9c6cc6649f', dandiset_id='001174', version_id='0.250331.2218'),\n",
       " RemoteBlobAsset(client=<dandi.dandiapi.DandiAPIClient object at 0x7f65253243d0>, identifier='ac161d0e-7642-48bd-9bef-8eff59319d48', path='sub-Q/sub-Q_ses-20220922T131747_ophys.nwb', size=787845832, created=datetime.datetime(2025, 2, 2, 13, 58, 4, 55898, tzinfo=TzInfo(UTC)), modified=datetime.datetime(2025, 3, 31, 22, 18, 19, 834625, tzinfo=TzInfo(UTC)), blob='23eb120e-3a00-48a6-a59f-34629d416353', dandiset_id='001174', version_id='0.250331.2218'),\n",
       " RemoteBlobAsset(client=<dandi.dandiapi.DandiAPIClient object at 0x7f65253243d0>, identifier='9c3678d5-22c3-402c-8cd4-6bc38c4d61e3', path='sub-Q/sub-Q_ses-20221003T131952_ophys.nwb', size=1695928224, created=datetime.datetime(2025, 2, 2, 13, 58, 10, 626358, tzinfo=TzInfo(UTC)), modified=datetime.datetime(2025, 3, 31, 22, 18, 19, 847087, tzinfo=TzInfo(UTC)), blob='d4dfe6be-edd5-40d7-b09c-e65a6eff6140', dandiset_id='001174', version_id='0.250331.2218'),\n",
       " RemoteBlobAsset(client=<dandi.dandiapi.DandiAPIClient object at 0x7f65253243d0>, identifier='b4e6bbf7-0564-4628-b8f0-680fd9b8d4ea', path='sub-Q/sub-Q_ses-20221028T121142_ophys.nwb', size=1557206224, created=datetime.datetime(2025, 2, 2, 20, 53, 26, 302991, tzinfo=TzInfo(UTC)), modified=datetime.datetime(2025, 3, 31, 22, 18, 19, 855792, tzinfo=TzInfo(UTC)), blob='e2f2a689-7a73-45e8-ae10-9f0db67f2a3e', dandiset_id='001174', version_id='0.250331.2218')]"
      ]
     },
     "execution_count": 1,
     "metadata": {},
     "output_type": "execute_result"
    }
   ],
   "source": [
    "from dandi.dandiapi import DandiAPIClient\n",
    "client = DandiAPIClient()\n",
    "dandiset = client.get_dandiset(\"001174\")\n",
    "assets = list(dandiset.get_assets())\n",
    "assets[:5]  # Show first 5 assets"
   ]
  },
  {
   "cell_type": "markdown",
   "id": "34c11ab0",
   "metadata": {},
   "source": [
    "## Choosing an NWB file\n",
    "\n",
    "Here we focus on a smaller example file: `sub-Q/sub-Q_ophys.nwb`."
   ]
  },
  {
   "cell_type": "markdown",
   "id": "ccd5eed7",
   "metadata": {},
   "source": [
    "## Loading an NWB file remotely\n",
    "\n",
    "The following code loads the NWB file directly from the DANDI download URL using `remfile`, `h5py`, and `pynwb`. This is efficient for large remote files."
   ]
  },
  {
   "cell_type": "code",
   "execution_count": 2,
   "id": "e11ca746",
   "metadata": {
    "execution": {
     "iopub.execute_input": "2025-04-09T21:16:17.955576Z",
     "iopub.status.busy": "2025-04-09T21:16:17.955144Z",
     "iopub.status.idle": "2025-04-09T21:16:20.241497Z",
     "shell.execute_reply": "2025-04-09T21:16:20.240967Z"
    }
   },
   "outputs": [
    {
     "name": "stdout",
     "output_type": "stream",
     "text": [
      "Session description: Calcium imaging in SMA during the spontaneous condition\n",
      "Subject ID: Q, species: Macaca mulatta, sex: F\n",
      "Start time: 2022-09-15 13:16:33.129000+00:00\n",
      "NWB identifier: 5c2c4bb2-8310-4e0e-ae01-fd872edba928\n"
     ]
    }
   ],
   "source": [
    "import pynwb\n",
    "import h5py\n",
    "import remfile\n",
    "\n",
    "url = \"https://api.dandiarchive.org/api/assets/de07db56-e7f3-4809-9972-755c51598e8d/download/\"\n",
    "file = remfile.File(url)\n",
    "f = h5py.File(file)\n",
    "io = pynwb.NWBHDF5IO(file=f, load_namespaces=True)\n",
    "nwb = io.read()\n",
    "\n",
    "# Basic metadata\n",
    "print(f\"Session description: {nwb.session_description}\")\n",
    "print(f\"Subject ID: {nwb.subject.subject_id}, species: {nwb.subject.species}, sex: {nwb.subject.sex}\")\n",
    "print(f\"Start time: {nwb.session_start_time}\")\n",
    "print(f\"NWB identifier: {nwb.identifier}\")"
   ]
  },
  {
   "cell_type": "markdown",
   "id": "293e1399",
   "metadata": {},
   "source": [
    "## Exploring the segmentation masks\n",
    "\n",
    "Below is a heatmap summary projection of all ROI masks, showing spatial distributions of segmented cells."
   ]
  },
  {
   "cell_type": "markdown",
   "id": "7ebe7874",
   "metadata": {},
   "source": [
    "![](tmp_scripts/roi_masks_heatmap.png)\n",
    "\n",
    "The max projection illustrates many discrete ROIs distributed across the imaging field with minimal background noise, consistent with high-quality segmentation."
   ]
  },
  {
   "cell_type": "markdown",
   "id": "8515dc1e",
   "metadata": {},
   "source": [
    "## Example fluorescence traces and event amplitudes\n",
    "\n",
    "Here we display example fluorescence and event amplitude traces from five randomly selected ROIs, illustrating calcium activity dynamics."
   ]
  },
  {
   "cell_type": "markdown",
   "id": "f1e7b88b",
   "metadata": {},
   "source": [
    "![](tmp_scripts/fluor_events_examples.png)\n",
    "\n",
    "The fluorescence signals exhibit clear calcium transients, corresponding well with punctuated increases in event amplitudes. Variability across ROIs is visible and typical for neural data."
   ]
  },
  {
   "cell_type": "markdown",
   "id": "5139fc12",
   "metadata": {},
   "source": [
    "## Next steps\n",
    "\n",
    "This notebook provides starting points for exploring calcium imaging data:\n",
    "- Examine event amplitudes and fluorescence traces across conditions and ROIs\n",
    "- Quantify co-activity or correlation between ROIs\n",
    "- Extract features or epochs related to behavioral events (if available)\n",
    "- Overlays or mask-based plots with original imaging data\n",
    "\n",
    "**Remember:** This notebook is an AI-generated draft. Scripts should be adapted and verified carefully."
   ]
  },
  {
   "cell_type": "markdown",
   "id": "7331ce9d",
   "metadata": {},
   "source": [
    "## Closing\n",
    "\n",
    "The analyses here demonstrate how to access and visualize the NWB-formatted calcium imaging data. Full, rigorous analyses would involve additional quality control, statistical testing, and deeper neuroscientific questions."
   ]
  }
 ],
 "metadata": {
  "jupytext": {
   "cell_metadata_filter": "-all",
   "main_language": "python",
   "notebook_metadata_filter": "-all"
  },
  "language_info": {
   "codemirror_mode": {
    "name": "ipython",
    "version": 3
   },
   "file_extension": ".py",
   "mimetype": "text/x-python",
   "name": "python",
   "nbconvert_exporter": "python",
   "pygments_lexer": "ipython3",
   "version": "3.11.10"
  }
 },
 "nbformat": 4,
 "nbformat_minor": 5
}
