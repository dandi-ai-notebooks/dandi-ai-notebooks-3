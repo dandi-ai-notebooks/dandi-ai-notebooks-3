{
 "cells": [
  {
   "cell_type": "markdown",
   "id": "b4bb9be4",
   "metadata": {},
   "source": [
    "# Exploring Dandiset 000673: Control of Working Memory by Phase–Amplitude Coupling of Human Hippocampal Neurons\n",
    "\n",
    "**Note**: This notebook was AI-generated using dandi-notebook-gen and has not been fully verified. Please be cautious when interpreting the code or results."
   ]
  },
  {
   "cell_type": "markdown",
   "id": "bbfa77c8",
   "metadata": {},
   "source": [
    "## Overview\n",
    "This Dandiset explores the role of phase–amplitude coupling in the regulation of working memory. The dataset includes recordings from the medial temporal lobe and frontal lobe during a working memory task."
   ]
  },
  {
   "cell_type": "markdown",
   "id": "4ef6514d",
   "metadata": {},
   "source": [
    "The research involves:\n",
    "- Recording single neuron activities in human subjects performing cognitive tasks.\n",
    "- Exploring interactions using theta–gamma phase–amplitude coupling.\n",
    "- Utilizing LFP and event data for analysis."
   ]
  },
  {
   "cell_type": "markdown",
   "id": "ab030fdb",
   "metadata": {},
   "source": [
    "## Required Packages\n",
    "Ensure the following packages are installed: `pynwb`, `h5py`, `numpy`, `matplotlib`, `remfile`."
   ]
  },
  {
   "cell_type": "markdown",
   "id": "c89def7f",
   "metadata": {},
   "source": [
    "## Load Dandiset\n",
    "from dandi.dandiapi import DandiAPIClient\n",
    "\n",
    "Connect to DANDI archive\n",
    "client = DandiAPIClient()\n",
    "dandiset = client.get_dandiset(\"000673\")\n",
    "assets = list(dandiset.get_assets())\n",
    "\n",
    "print(f\"Found {len(assets)} assets in the dataset\")\n",
    "print(\"\\nFirst 5 assets:\")\n",
    "for asset in assets[:5]:\n",
    "    print(f\"- {asset.path}\")"
   ]
  },
  {
   "cell_type": "markdown",
   "id": "be618309",
   "metadata": {},
   "source": [
    "## Load and Explore LFP Data\n",
    "import numpy as np\n",
    "import matplotlib.pyplot as plt\n",
    "import pynwb\n",
    "import h5py\n",
    "import remfile\n",
    "\n",
    "URL to NWB file from sub-1 session 1\n",
    "url = \"https://api.dandiarchive.org/api/assets/65a7e913-45c7-48db-bf19-b9f5e910110a/download/\"\n",
    "\n",
    "Use remfile to handle remote file access\n",
    "remote_file = remfile.File(url)\n",
    "h5_file = h5py.File(remote_file, \"r\")\n",
    "io = pynwb.NWBHDF5IO(file=h5_file, load_namespaces=True)\n",
    "nwb_data = io.read()\n",
    "\n",
    "Access LFP data\n",
    "lfp_series = nwb_data.acquisition[\"LFPs\"]\n",
    "\n",
    "Extract data for the first 10 channels and first 1000 timepoints\n",
    "selected_data = lfp_series.data[:1000, :10]\n",
    "\n",
    "Create a time array for plotting\n",
    "time = np.arange(selected_data.shape[0]) / lfp_series.rate\n",
    "\n",
    "Plot the selected LFP data\n",
    "plt.figure(figsize=(15, 6))\n",
    "for i, channel_data in enumerate(selected_data.T):\n",
    "    plt.plot(time, channel_data + i*0.1, label=f\"Channel {i+1}\")\n",
    "plt.xlabel(\"Time [s]\")\n",
    "plt.ylabel(\"Voltage [V]\")\n",
    "plt.title(\"LFP Data: First 10 Channels\")\n",
    "plt.legend(loc=\"upper right\")\n",
    "plt.tight_layout()\n",
    "plt.show()"
   ]
  },
  {
   "cell_type": "markdown",
   "id": "ff7ea768",
   "metadata": {},
   "source": [
    "## Summary and Future Directions\n",
    "This analysis provides a starting point for exploring the Dandiset. Future work could include deeper analyses of phase–amplitude coupling across different cognitive tasks and comparisons between individuals.\n",
    "\n",
    "io.close()\n",
    "h5_file.close()"
   ]
  }
 ],
 "metadata": {
  "jupytext": {
   "cell_metadata_filter": "-all",
   "main_language": "python",
   "notebook_metadata_filter": "-all"
  },
  "language_info": {
   "codemirror_mode": {
    "name": "ipython",
    "version": 3
   },
   "file_extension": ".py",
   "mimetype": "text/x-python",
   "name": "python",
   "nbconvert_exporter": "python",
   "pygments_lexer": "ipython3",
   "version": "3.11.10"
  }
 },
 "nbformat": 4,
 "nbformat_minor": 5
}
