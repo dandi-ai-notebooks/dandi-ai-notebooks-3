{
 "cells": [
  {
   "cell_type": "markdown",
   "id": "4276de1d",
   "metadata": {
    "lines_to_next_cell": 0
   },
   "source": [
    "# Exploring Dandiset 000945: Neural Spiking Data in the Awake Rat Somatosensory Cortex Responding to Trials of Transcranial Focused Ultrasound Stimulation\n",
    "\n",
    "This notebook was AI-generated using dandi-notebook-gen and has not been fully verified.\n",
    "Use caution when interpreting the code or results.\n",
    "\n",
    "## Overview of Dandiset 000945\n",
    "\n",
    "This Dandiset contains neural spiking data recorded from the somatosensory cortex of awake rats during transcranial focused ultrasound stimulation (tFUS) trials.\n",
    "Researchers tested different pulse repetition frequencies (PRFs) of ultrasound stimulation using a 128-element random array ultrasound transducer.\n",
    "Chronic electrophysiological recordings were acquired using 32-channel NeuroNexus electrodes.\n",
    "Ultrasound stimulation was delivered every 2.5 seconds with a 10% jitter, and each recording has 500 trials.\n",
    "The PRFs tested were 30 Hz, 300 Hz, 1500 Hz, 3000 Hz, and 4500 Hz, each with a 200 microsecond pulse duration and a 67 ms ultrasound duration.\n",
    "Some recordings were performed under 2% isoflurane anesthesia for comparison.\n",
    "\n",
    "All 10 subjects were male rats, implanted with their chronic electrode at 6 months of age and then recordings taken first at 8-10 months, and then some repeats taken at 12 months.\n",
    "Within each subject's folder are recordings for the different PRFs.\n",
    "Most subjects have 5 recordings within, one for each PRF.\n",
    "Some subjects have duplicate recordings taken a few months after the original ones.\n",
    "A few recordings were not included due to excessive noise in the recordings.\n",
    "Files are named in the format SubjectName_PRF_PulseDuration.\n",
    "Each file contains spike time data with the cell type labels included for each neurons, as well as time series data for the onset of each trial of ultrasound stimulation.\n",
    "\n",
    "## What this notebook will cover\n",
    "\n",
    "This notebook will demonstrate how to:\n",
    "1. Load the Dandiset using the DANDI API.\n",
    "2. Access and explore the available assets (NWB files).\n",
    "3. Load metadata from a selected NWB file.\n",
    "4. Load and visualize electrophysiology data (spike times and cell type labels).\n",
    "5. Load and visualize trial information.\n",
    "\n",
    "## Required Packages\n",
    "\n",
    "The following packages are required to run this notebook:\n",
    "- pynwb\n",
    "- h5py\n",
    "- remfile\n",
    "- matplotlib\n",
    "- numpy\n",
    "- pandas\n",
    "- seaborn\n",
    "- dandi\n",
    "\n",
    "## Load Dandiset using the DANDI API\n"
   ]
  },
  {
   "cell_type": "code",
   "execution_count": 1,
   "id": "06c601c1",
   "metadata": {
    "execution": {
     "iopub.execute_input": "2025-04-15T12:19:49.549056Z",
     "iopub.status.busy": "2025-04-15T12:19:49.548789Z",
     "iopub.status.idle": "2025-04-15T12:19:50.454105Z",
     "shell.execute_reply": "2025-04-15T12:19:50.453100Z"
    }
   },
   "outputs": [
    {
     "name": "stdout",
     "output_type": "stream",
     "text": [
      "Found 75 assets in the dataset\n",
      "\\nFirst 5 assets:\n",
      "- sub-BH498/sub-BH498_ses-20240306T124227_ecephys.nwb\n",
      "- sub-BH498/sub-BH498_ses-20240305T200606_ecephys.nwb\n",
      "- sub-BH498/sub-BH498_ses-20240305T191833_ecephys.nwb\n",
      "- sub-BH498/sub-BH498_ses-20230906T180913_ecephys.nwb\n",
      "- sub-BH498/sub-BH498_ses-20240305T204552_ecephys.nwb\n"
     ]
    }
   ],
   "source": [
    "from dandi.dandiapi import DandiAPIClient\n",
    "\n",
    "# Connect to DANDI archive\n",
    "client = DandiAPIClient()\n",
    "dandiset = client.get_dandiset(\"000945\")\n",
    "assets = list(dandiset.get_assets())\n",
    "\n",
    "print(f\"Found {len(assets)} assets in the dataset\")\n",
    "print(\"\\\\nFirst 5 assets:\")\n",
    "for asset in assets[:5]:\n",
    "    print(f\"- {asset.path}\")"
   ]
  },
  {
   "cell_type": "markdown",
   "id": "d65a4b7c",
   "metadata": {},
   "source": [
    "## Load Metadata and Data from an NWB File\n",
    "\n",
    "We will now load the metadata and some example data from one of the NWB files in the Dandiset to demonstrate how to access the data. We will use the first NWB file in the assets list: `sub-BH497/sub-BH497_ses-20240310T143729_ecephys.nwb`.\n",
    "\n",
    "**Note:** This NWB file is stored remotely, so we will use `remfile` to stream the data."
   ]
  },
  {
   "cell_type": "code",
   "execution_count": 2,
   "id": "42c818f2",
   "metadata": {
    "execution": {
     "iopub.execute_input": "2025-04-15T12:19:50.457305Z",
     "iopub.status.busy": "2025-04-15T12:19:50.456861Z",
     "iopub.status.idle": "2025-04-15T12:19:52.643630Z",
     "shell.execute_reply": "2025-04-15T12:19:52.643143Z"
    },
    "lines_to_next_cell": 0
   },
   "outputs": [
    {
     "name": "stderr",
     "output_type": "stream",
     "text": [
      "/opt/conda/lib/python3.11/site-packages/hdmf/spec/namespace.py:535: UserWarning: Ignoring cached namespace 'hdmf-common' version 1.5.0 because version 1.8.0 is already loaded.\n",
      "  warn(\"Ignoring cached namespace '%s' version %s because version %s is already loaded.\"\n",
      "/opt/conda/lib/python3.11/site-packages/hdmf/spec/namespace.py:535: UserWarning: Ignoring cached namespace 'core' version 2.5.0 because version 2.7.0 is already loaded.\n",
      "  warn(\"Ignoring cached namespace '%s' version %s because version %s is already loaded.\"\n",
      "/opt/conda/lib/python3.11/site-packages/hdmf/spec/namespace.py:535: UserWarning: Ignoring cached namespace 'hdmf-experimental' version 0.1.0 because version 0.5.0 is already loaded.\n",
      "  warn(\"Ignoring cached namespace '%s' version %s because version %s is already loaded.\"\n"
     ]
    },
    {
     "data": {
      "text/html": [
       "\n",
       "        <style>\n",
       "            .container-fields {\n",
       "                font-family: \"Open Sans\", Arial, sans-serif;\n",
       "            }\n",
       "            .container-fields .field-value {\n",
       "                color: #00788E;\n",
       "            }\n",
       "            .container-fields details > summary {\n",
       "                cursor: pointer;\n",
       "                display: list-item;\n",
       "            }\n",
       "            .container-fields details > summary:hover {\n",
       "                color: #0A6EAA;\n",
       "            }\n",
       "        </style>\n",
       "        \n",
       "        <script>\n",
       "            function copyToClipboard(text) {\n",
       "                navigator.clipboard.writeText(text).then(function() {\n",
       "                    console.log('Copied to clipboard: ' + text);\n",
       "                }, function(err) {\n",
       "                    console.error('Could not copy text: ', err);\n",
       "                });\n",
       "            }\n",
       "\n",
       "            document.addEventListener('DOMContentLoaded', function() {\n",
       "                let fieldKeys = document.querySelectorAll('.container-fields .field-key');\n",
       "                fieldKeys.forEach(function(fieldKey) {\n",
       "                    fieldKey.addEventListener('click', function() {\n",
       "                        let accessCode = fieldKey.getAttribute('title').replace('Access code: ', '');\n",
       "                        copyToClipboard(accessCode);\n",
       "                    });\n",
       "                });\n",
       "            });\n",
       "        </script>\n",
       "        <div class='container-wrap'><div class='container-header'><div class='xr-obj-type'><h3>root (NWBFile)</h3></div></div><div style=\"margin-left: 0px;\" class=\"container-fields\"><span class=\"field-key\" title=\".session_description\">session_description: </span><span class=\"field-value\">Awake S1 Stimulation by tFUS</span></div><div style=\"margin-left: 0px;\" class=\"container-fields\"><span class=\"field-key\" title=\".identifier\">identifier: </span><span class=\"field-value\">BH498_3000_200_anes</span></div><details><summary style=\"display: list-item; margin-left: 0px;\" class=\"container-fields field-key\" title=\".session_start_time\"><b>session_start_time</b></summary><span class=\"field-key\">2024-03-10 14:37:29-04:00</span></details><details><summary style=\"display: list-item; margin-left: 0px;\" class=\"container-fields field-key\" title=\".timestamps_reference_time\"><b>timestamps_reference_time</b></summary><span class=\"field-key\">2024-03-10 14:37:29-04:00</span></details><details><summary style=\"display: list-item; margin-left: 0px;\" class=\"container-fields field-key\" title=\".file_create_date\"><b>file_create_date</b></summary><details><summary style=\"display: list-item; margin-left: 20px;\" class=\"container-fields field-key\" title=\".file_create_date[0]\"><b>0</b></summary><span class=\"field-key\">2024-03-29 23:25:55-04:00</span></details><details><summary style=\"display: list-item; margin-left: 20px;\" class=\"container-fields field-key\" title=\".file_create_date[0][1]\"><b>1</b></summary><span class=\"field-key\">2024-03-29 23:25:55.259000-04:00</span></details></details><details><summary style=\"display: list-item; margin-left: 0px;\" class=\"container-fields field-key\" title=\".electrodes\"><b>electrodes</b></summary><div style=\"margin-left: 20px;\" class=\"container-fields\"><span class=\"field-key\" title=\".electrodes\">description: </span><span class=\"field-value\">all electrodes</span></div><details><summary style=\"display: list-item; margin-left: 20px;\" class=\"container-fields field-key\" title=\".electrodes\"><b>table</b></summary><table border=\"1\" class=\"dataframe\">\n",
       "  <thead>\n",
       "    <tr style=\"text-align: right;\">\n",
       "      <th></th>\n",
       "      <th>x</th>\n",
       "      <th>y</th>\n",
       "      <th>z</th>\n",
       "      <th>imp</th>\n",
       "      <th>location</th>\n",
       "      <th>filtering</th>\n",
       "      <th>group</th>\n",
       "      <th>group_name</th>\n",
       "    </tr>\n",
       "    <tr>\n",
       "      <th>id</th>\n",
       "      <th></th>\n",
       "      <th></th>\n",
       "      <th></th>\n",
       "      <th></th>\n",
       "      <th></th>\n",
       "      <th></th>\n",
       "      <th></th>\n",
       "      <th></th>\n",
       "    </tr>\n",
       "  </thead>\n",
       "  <tbody>\n",
       "    <tr>\n",
       "      <th>0</th>\n",
       "      <td>1.0</td>\n",
       "      <td>10.0</td>\n",
       "      <td>0.0</td>\n",
       "      <td>NaN</td>\n",
       "      <td>unknown</td>\n",
       "      <td>unknown</td>\n",
       "      <td>shank1 pynwb.ecephys.ElectrodeGroup at 0x140405737699472\\nFields:\\n  description: electrode group for shank1\\n  device: array pynwb.device.Device at 0x140405737690128\\nFields:\\n  description: A1x32-Poly3-10mm-50-177-Z32\\n  manufacturer: Neuronexus\\n\\n  location: brain area\\n</td>\n",
       "      <td>shank1elec1</td>\n",
       "    </tr>\n",
       "    <tr>\n",
       "      <th>1</th>\n",
       "      <td>1.0</td>\n",
       "      <td>11.0</td>\n",
       "      <td>0.0</td>\n",
       "      <td>NaN</td>\n",
       "      <td>unknown</td>\n",
       "      <td>unknown</td>\n",
       "      <td>shank1 pynwb.ecephys.ElectrodeGroup at 0x140405737699472\\nFields:\\n  description: electrode group for shank1\\n  device: array pynwb.device.Device at 0x140405737690128\\nFields:\\n  description: A1x32-Poly3-10mm-50-177-Z32\\n  manufacturer: Neuronexus\\n\\n  location: brain area\\n</td>\n",
       "      <td>shank1elec2</td>\n",
       "    </tr>\n",
       "    <tr>\n",
       "      <th>2</th>\n",
       "      <td>1.0</td>\n",
       "      <td>9.0</td>\n",
       "      <td>0.0</td>\n",
       "      <td>NaN</td>\n",
       "      <td>unknown</td>\n",
       "      <td>unknown</td>\n",
       "      <td>shank1 pynwb.ecephys.ElectrodeGroup at 0x140405737699472\\nFields:\\n  description: electrode group for shank1\\n  device: array pynwb.device.Device at 0x140405737690128\\nFields:\\n  description: A1x32-Poly3-10mm-50-177-Z32\\n  manufacturer: Neuronexus\\n\\n  location: brain area\\n</td>\n",
       "      <td>shank1elec3</td>\n",
       "    </tr>\n",
       "    <tr>\n",
       "      <th>3</th>\n",
       "      <td>1.0</td>\n",
       "      <td>8.0</td>\n",
       "      <td>0.0</td>\n",
       "      <td>NaN</td>\n",
       "      <td>unknown</td>\n",
       "      <td>unknown</td>\n",
       "      <td>shank1 pynwb.ecephys.ElectrodeGroup at 0x140405737699472\\nFields:\\n  description: electrode group for shank1\\n  device: array pynwb.device.Device at 0x140405737690128\\nFields:\\n  description: A1x32-Poly3-10mm-50-177-Z32\\n  manufacturer: Neuronexus\\n\\n  location: brain area\\n</td>\n",
       "      <td>shank1elec4</td>\n",
       "    </tr>\n",
       "  </tbody>\n",
       "</table><p>... and 28 more rows.</p></details></details><details><summary style=\"display: list-item; margin-left: 0px;\" class=\"container-fields field-key\" title=\".electrode_groups\"><b>electrode_groups</b></summary><details><summary style=\"display: list-item; margin-left: 20px;\" class=\"container-fields field-key\" title=\".electrode_groups['shank1']\"><b>shank1</b></summary><div style=\"margin-left: 40px;\" class=\"container-fields\"><span class=\"field-key\" title=\".electrode_groups['shank1'].description\">description: </span><span class=\"field-value\">electrode group for shank1</span></div><div style=\"margin-left: 40px;\" class=\"container-fields\"><span class=\"field-key\" title=\".electrode_groups['shank1'].location\">location: </span><span class=\"field-value\">brain area</span></div><details><summary style=\"display: list-item; margin-left: 40px;\" class=\"container-fields field-key\" title=\".electrode_groups['shank1'].device\"><b>device</b></summary><div style=\"margin-left: 60px;\" class=\"container-fields\"><span class=\"field-key\" title=\".electrode_groups['shank1'].device.description\">description: </span><span class=\"field-value\">A1x32-Poly3-10mm-50-177-Z32</span></div><div style=\"margin-left: 60px;\" class=\"container-fields\"><span class=\"field-key\" title=\".electrode_groups['shank1'].device.manufacturer\">manufacturer: </span><span class=\"field-value\">Neuronexus</span></div></details></details></details><details><summary style=\"display: list-item; margin-left: 0px;\" class=\"container-fields field-key\" title=\".devices\"><b>devices</b></summary><details><summary style=\"display: list-item; margin-left: 20px;\" class=\"container-fields field-key\" title=\".devices['array']\"><b>array</b></summary><div style=\"margin-left: 40px;\" class=\"container-fields\"><span class=\"field-key\" title=\".devices['array'].description\">description: </span><span class=\"field-value\">A1x32-Poly3-10mm-50-177-Z32</span></div><div style=\"margin-left: 40px;\" class=\"container-fields\"><span class=\"field-key\" title=\".devices['array'].manufacturer\">manufacturer: </span><span class=\"field-value\">Neuronexus</span></div></details></details><details><summary style=\"display: list-item; margin-left: 0px;\" class=\"container-fields field-key\" title=\".intervals\"><b>intervals</b></summary><details><summary style=\"display: list-item; margin-left: 20px;\" class=\"container-fields field-key\" title=\".intervals['trials']\"><b>trials</b></summary><div style=\"margin-left: 40px;\" class=\"container-fields\"><span class=\"field-key\" title=\".intervals['trials']\">description: </span><span class=\"field-value\">tFUS stimulation trial onset and offset</span></div><details><summary style=\"display: list-item; margin-left: 40px;\" class=\"container-fields field-key\" title=\".intervals['trials']\"><b>table</b></summary><table border=\"1\" class=\"dataframe\">\n",
       "  <thead>\n",
       "    <tr style=\"text-align: right;\">\n",
       "      <th></th>\n",
       "      <th>start_time</th>\n",
       "      <th>stop_time</th>\n",
       "    </tr>\n",
       "    <tr>\n",
       "      <th>id</th>\n",
       "      <th></th>\n",
       "      <th></th>\n",
       "    </tr>\n",
       "  </thead>\n",
       "  <tbody>\n",
       "    <tr>\n",
       "      <th>1</th>\n",
       "      <td>0.408248</td>\n",
       "      <td>2.608248</td>\n",
       "    </tr>\n",
       "    <tr>\n",
       "      <th>2</th>\n",
       "      <td>3.050619</td>\n",
       "      <td>5.250619</td>\n",
       "    </tr>\n",
       "    <tr>\n",
       "      <th>3</th>\n",
       "      <td>5.559296</td>\n",
       "      <td>7.759296</td>\n",
       "    </tr>\n",
       "    <tr>\n",
       "      <th>4</th>\n",
       "      <td>8.108483</td>\n",
       "      <td>10.308483</td>\n",
       "    </tr>\n",
       "  </tbody>\n",
       "</table><p>... and 496 more rows.</p></details></details></details><details><summary style=\"display: list-item; margin-left: 0px;\" class=\"container-fields field-key\" title=\".subject\"><b>subject</b></summary><div style=\"margin-left: 20px;\" class=\"container-fields\"><span class=\"field-key\" title=\".subject.age\">age: </span><span class=\"field-value\">P24W</span></div><div style=\"margin-left: 20px;\" class=\"container-fields\"><span class=\"field-key\" title=\".subject.description\">description: </span><span class=\"field-value\">HSD:WI rat</span></div><div style=\"margin-left: 20px;\" class=\"container-fields\"><span class=\"field-key\" title=\".subject.sex\">sex: </span><span class=\"field-value\">M</span></div><div style=\"margin-left: 20px;\" class=\"container-fields\"><span class=\"field-key\" title=\".subject.species\">species: </span><span class=\"field-value\">Rattus norvegicus</span></div><div style=\"margin-left: 20px;\" class=\"container-fields\"><span class=\"field-key\" title=\".subject.subject_id\">subject_id: </span><span class=\"field-value\">BH497</span></div></details><details><summary style=\"display: list-item; margin-left: 0px;\" class=\"container-fields field-key\" title=\".trials\"><b>trials</b></summary><div style=\"margin-left: 20px;\" class=\"container-fields\"><span class=\"field-key\" title=\".trials\">description: </span><span class=\"field-value\">tFUS stimulation trial onset and offset</span></div><details><summary style=\"display: list-item; margin-left: 20px;\" class=\"container-fields field-key\" title=\".trials\"><b>table</b></summary><table border=\"1\" class=\"dataframe\">\n",
       "  <thead>\n",
       "    <tr style=\"text-align: right;\">\n",
       "      <th></th>\n",
       "      <th>start_time</th>\n",
       "      <th>stop_time</th>\n",
       "    </tr>\n",
       "    <tr>\n",
       "      <th>id</th>\n",
       "      <th></th>\n",
       "      <th></th>\n",
       "    </tr>\n",
       "  </thead>\n",
       "  <tbody>\n",
       "    <tr>\n",
       "      <th>1</th>\n",
       "      <td>0.408248</td>\n",
       "      <td>2.608248</td>\n",
       "    </tr>\n",
       "    <tr>\n",
       "      <th>2</th>\n",
       "      <td>3.050619</td>\n",
       "      <td>5.250619</td>\n",
       "    </tr>\n",
       "    <tr>\n",
       "      <th>3</th>\n",
       "      <td>5.559296</td>\n",
       "      <td>7.759296</td>\n",
       "    </tr>\n",
       "    <tr>\n",
       "      <th>4</th>\n",
       "      <td>8.108483</td>\n",
       "      <td>10.308483</td>\n",
       "    </tr>\n",
       "  </tbody>\n",
       "</table><p>... and 496 more rows.</p></details></details><details><summary style=\"display: list-item; margin-left: 0px;\" class=\"container-fields field-key\" title=\".units\"><b>units</b></summary><div style=\"margin-left: 20px;\" class=\"container-fields\"><span class=\"field-key\" title=\".units\">description: </span><span class=\"field-value\">units table</span></div><div style=\"margin-left: 20px;\" class=\"container-fields\"><span class=\"field-key\" title=\".units\">waveform_unit: </span><span class=\"field-value\">volts</span></div><details><summary style=\"display: list-item; margin-left: 20px;\" class=\"container-fields field-key\" title=\".units\"><b>table</b></summary><table border=\"1\" class=\"dataframe\">\n",
       "  <thead>\n",
       "    <tr style=\"text-align: right;\">\n",
       "      <th></th>\n",
       "      <th>spike_times</th>\n",
       "      <th>celltype_label</th>\n",
       "    </tr>\n",
       "    <tr>\n",
       "      <th>id</th>\n",
       "      <th></th>\n",
       "      <th></th>\n",
       "    </tr>\n",
       "  </thead>\n",
       "  <tbody>\n",
       "    <tr>\n",
       "      <th>0</th>\n",
       "      <td>[0.07421952, 0.1521664, 0.1650688, 0.21364736, 0.33599488, 0.40730624, 0.59469824, 0.6424576, 0.7450624, 0.82542592, 0.8648704, 0.94691328, 1.0082304, 1.29581056, 1.39481088, 1.4733312, 1.606656, 1.77954816, 1.8624512, 1.93368064, 2.02940416, 2.15887872, 2.30670336, 2.34819584, 2.38338048, 2.46038528, 2.54189568, 2.55926272, 2.76545536, 2.7717632, 2.8727296, 3.11599104, 3.18042112, 3.28708096, 3.3206272, 3.50789632, 3.55741696, 3.61783296, 3.66657536, 3.74050816, 3.94309632, 4.05766144, 4.10185728, 4.2252288, 4.48835584, 4.5162496, 4.56962048, 4.6739456, 4.8252928, 5.05606144, 5.28162816, 5.30563072, 5.3415936, 5.35437312, 5.41200384, 5.56068864, 5.59853568, 5.63003392, 5.68864768, 5.78408448, 5.99498752, 6.0741632, 6.10430976, 6.18704896, 6.20232704, 6.28789248, 6.64035328, 6.65030656, 6.73927168, 6.83593728, 6.89700864, 6.93133312, 7.16263424, 7.25385216, 7.30472448, 7.54036736, 7.68741376, 7.8227456, 7.87017728, 8.00903168, 8.09467904, 8.12638208, 8.14055424, 8.23549952, 8.28162048, 8.29018112, 8.2919424, 8.33998848, 8.45594624, 8.51185664, 8.60827648, 8.68122624, 8.7713792, 8.77309952, 9.07882496, 9.12007168, 9.22816512, 9.23004928, 9.2659712, 9.37488384, ...]</td>\n",
       "      <td>2.0</td>\n",
       "    </tr>\n",
       "    <tr>\n",
       "      <th>1</th>\n",
       "      <td>[0.11517952, 0.16883712, 0.24428544, 0.25112576, 0.4612096, 0.47529984, 0.58744832, 0.74883072, 0.81895424, 0.95809536, 1.05537536, 1.07937792, 1.2343296, 1.32091904, 1.3631488, 1.48668416, 1.52920064, 1.83078912, 1.92454656, 1.9470336, 2.011136, 2.01834496, 2.03157504, 2.05254656, 2.05553664, 2.07081472, 2.14409216, 2.26787328, 2.28962304, 2.36343296, 2.38063616, 2.55361024, 2.7031552, 2.80317952, 2.82202112, 2.86633984, 3.0707712, 3.272704, 3.2950272, 3.41495808, 3.49069312, 3.5907584, 3.59931904, 3.64486656, 3.68812032, 3.77593856, 3.88640768, 3.96324864, 4.1033728, 4.15137792, 4.17042432, 4.22064128, 4.32914432, 4.38923264, 4.41335808, 4.69655552, 4.727808, 4.7423488, 4.77032448, 4.85593088, 5.03148544, 5.29702912, 5.36784896, 5.3966848, 5.42810112, 5.51784448, 5.57232128, 5.64690944, 5.75705088, 5.81296128, 5.86432512, 5.90839808, 6.05356032, 6.05802496, 6.10582528, 6.29264384, 6.68258304, 6.75557376, 6.7923968, 6.83839488, 6.87624192, 7.03488, 7.07948544, 7.14121216, 7.22591744, 7.39168256, 7.40098048, 7.41343232, 7.42055936, 7.46098688, 7.47741184, 7.66836736, 7.86477056, 8.04564992, 8.04999168, 8.13056, 8.1352704, 8.16693248, 8.1758208, 8.2450432, ...]</td>\n",
       "      <td>1.0</td>\n",
       "    </tr>\n",
       "    <tr>\n",
       "      <th>2</th>\n",
       "      <td>[0.02265088, 0.06856704, 0.21602304, 0.32260096, 0.35500032, 0.479232, 0.61792256, 0.63787008, 0.65888256, 0.67940352, 0.75943936, 0.8757248, 0.974848, 0.99221504, 1.0082304, 1.4184448, 1.48680704, 1.6226304, 1.6879616, 1.86261504, 1.87604992, 1.89681664, 2.15891968, 2.16080384, 2.23285248, 2.26983936, 2.4031232, 2.69266944, 2.70323712, 2.85999104, 3.0763008, 3.09878784, 3.3222656, 3.33778944, 3.36740352, 3.38366464, 3.40709376, 3.51780864, 3.69266688, 3.8223872, 4.1822208, 4.32705536, 4.34720768, 4.37743616, 4.51149824, 4.56032256, 4.60009472, 4.7110144, 4.73714688, 4.77282304, 4.80579584, 4.81275904, 4.85085184, 4.9938432, 5.00473856, 5.1083264, 5.12909312, 5.17050368, 5.199872, 5.36690688, 5.46254848, 5.59939584, 5.83634944, 5.99883776, 6.11393536, 6.12478976, 6.22043136, 6.38976, 6.4149504, 6.72206848, 6.73849344, 6.81955328, 6.84650496, 7.19888384, 7.33679616, 7.37562624, 7.74791168, 7.84044032, 8.05060608, 8.33339392, 8.97323008, 9.08050432, 9.16701184, 9.41293568, 9.59873024, 9.62670592, 9.66889472, 9.86083328, 10.22754816, 10.5115648, 10.51766784, 10.53323264, 10.75380224, 10.7995136, 10.9295616, 11.23147776, 11.37590272, 11.42427648, 11.49345792, 11.4972672, ...]</td>\n",
       "      <td>2.0</td>\n",
       "    </tr>\n",
       "    <tr>\n",
       "      <th>3</th>\n",
       "      <td>[0.11517952, 0.11943936, 0.86482944, 0.9811968, 1.0246144, 1.0493952, 1.26316544, 1.6058368, 1.94359296, 2.10661376, 2.22027776, 2.2562816, 2.3066624, 2.4713216, 2.56712704, 2.57798144, 2.5894912, 2.63016448, 2.73567744, 2.78196224, 3.03017984, 3.24292608, 3.26721536, 3.385344, 3.48008448, 3.58354944, 3.59698432, 3.7115904, 3.79441152, 3.96353536, 4.1179136, 4.12332032, 4.21400576, 4.22064128, 4.24374272, 4.31992832, 4.37469184, 4.39451648, 4.62618624, 4.74681344, 4.76168192, 5.01727232, 5.03140352, 5.16145152, 5.18864896, 5.30223104, 5.32332544, 5.49216256, 5.54172416, 5.55757568, 5.59017984, 5.60390144, 5.61741824, 5.72100608, 5.7481216, 5.8058752, 6.00326144, 6.05364224, 6.29387264, 6.43702784, 6.62028288, 6.73386496, 6.80869888, 6.90511872, 6.9423104, 7.12769536, 7.215104, 7.45299968, 7.50440448, 7.5067392, 7.51591424, 7.52340992, 7.52775168, 7.5812864, 7.6683264, 7.86296832, 8.2397184, 8.29284352, 8.32016384, 8.4338688, 8.50014208, 8.51283968, 8.9001984, 8.92084224, 8.93530112, 8.98039808, 9.05691136, 9.17049344, 9.2147712, 9.3251584, 9.37775104, 9.44627712, 9.51648256, 9.80054016, 9.98703104, 10.07706112, 10.31417856, 10.346496, 10.66614784, 10.77182464, ...]</td>\n",
       "      <td>1.0</td>\n",
       "    </tr>\n",
       "  </tbody>\n",
       "</table><p>... and 60 more rows.</p></details></details><div style=\"margin-left: 0px;\" class=\"container-fields\"><span class=\"field-key\" title=\".institution\">institution: </span><span class=\"field-value\">Carnegie Mellon University</span></div></div>"
      ],
      "text/plain": [
       "root pynwb.file.NWBFile at 0x140405737537296\n",
       "Fields:\n",
       "  devices: {\n",
       "    array <class 'pynwb.device.Device'>\n",
       "  }\n",
       "  electrode_groups: {\n",
       "    shank1 <class 'pynwb.ecephys.ElectrodeGroup'>\n",
       "  }\n",
       "  electrodes: electrodes <class 'hdmf.common.table.DynamicTable'>\n",
       "  file_create_date: [datetime.datetime(2024, 3, 29, 23, 25, 55, tzinfo=tzoffset(None, -14400))\n",
       " datetime.datetime(2024, 3, 29, 23, 25, 55, 259000, tzinfo=tzoffset(None, -14400))]\n",
       "  identifier: BH498_3000_200_anes\n",
       "  institution: Carnegie Mellon University\n",
       "  intervals: {\n",
       "    trials <class 'pynwb.epoch.TimeIntervals'>\n",
       "  }\n",
       "  session_description: Awake S1 Stimulation by tFUS\n",
       "  session_start_time: 2024-03-10 14:37:29-04:00\n",
       "  subject: subject pynwb.file.Subject at 0x140405737694096\n",
       "Fields:\n",
       "  age: P24W\n",
       "  description: HSD:WI rat\n",
       "  sex: M\n",
       "  species: Rattus norvegicus\n",
       "  subject_id: BH497\n",
       "\n",
       "  timestamps_reference_time: 2024-03-10 14:37:29-04:00\n",
       "  trials: trials <class 'pynwb.epoch.TimeIntervals'>\n",
       "  units: units <class 'pynwb.misc.Units'>"
      ]
     },
     "execution_count": 2,
     "metadata": {},
     "output_type": "execute_result"
    }
   ],
   "source": [
    "import pynwb\n",
    "import h5py\n",
    "import remfile\n",
    "import matplotlib.pyplot as plt\n",
    "import numpy as np\n",
    "import pandas as pd\n",
    "import seaborn as sns\n",
    "sns.set_theme()\n",
    "\n",
    "# Load the NWB file\n",
    "url = \"https://api.dandiarchive.org/api/assets/a4e04662-e4cb-49f3-9076-41e04e833a11/download/\"\n",
    "remote_file = remfile.File(url)\n",
    "h5_file = h5py.File(remote_file)\n",
    "io = pynwb.NWBHDF5IO(file=h5_file)\n",
    "nwb = io.read()\n",
    "\n",
    "nwb # (NWBFile)"
   ]
  },
  {
   "cell_type": "markdown",
   "id": "1aa5c38f",
   "metadata": {
    "lines_to_next_cell": 0
   },
   "source": [
    "Show some basic information about the NWB file:"
   ]
  },
  {
   "cell_type": "code",
   "execution_count": 3,
   "id": "c76e8da6",
   "metadata": {
    "execution": {
     "iopub.execute_input": "2025-04-15T12:19:52.645634Z",
     "iopub.status.busy": "2025-04-15T12:19:52.645149Z",
     "iopub.status.idle": "2025-04-15T12:19:52.648826Z",
     "shell.execute_reply": "2025-04-15T12:19:52.648357Z"
    },
    "lines_to_next_cell": 0
   },
   "outputs": [
    {
     "data": {
      "text/plain": [
       "'Awake S1 Stimulation by tFUS'"
      ]
     },
     "execution_count": 3,
     "metadata": {},
     "output_type": "execute_result"
    }
   ],
   "source": [
    "nwb.session_description # (str) Awake S1 Stimulation by tFUS"
   ]
  },
  {
   "cell_type": "code",
   "execution_count": 4,
   "id": "efd5d69a",
   "metadata": {
    "execution": {
     "iopub.execute_input": "2025-04-15T12:19:52.650424Z",
     "iopub.status.busy": "2025-04-15T12:19:52.650207Z",
     "iopub.status.idle": "2025-04-15T12:19:52.653228Z",
     "shell.execute_reply": "2025-04-15T12:19:52.652836Z"
    },
    "lines_to_next_cell": 0
   },
   "outputs": [
    {
     "data": {
      "text/plain": [
       "'BH498_3000_200_anes'"
      ]
     },
     "execution_count": 4,
     "metadata": {},
     "output_type": "execute_result"
    }
   ],
   "source": [
    "nwb.identifier # (str) BH498_3000_200_anes"
   ]
  },
  {
   "cell_type": "code",
   "execution_count": 5,
   "id": "f9528ad3",
   "metadata": {
    "execution": {
     "iopub.execute_input": "2025-04-15T12:19:52.654685Z",
     "iopub.status.busy": "2025-04-15T12:19:52.654472Z",
     "iopub.status.idle": "2025-04-15T12:19:52.657452Z",
     "shell.execute_reply": "2025-04-15T12:19:52.657063Z"
    },
    "lines_to_next_cell": 0
   },
   "outputs": [
    {
     "data": {
      "text/plain": [
       "datetime.datetime(2024, 3, 10, 14, 37, 29, tzinfo=tzoffset(None, -14400))"
      ]
     },
     "execution_count": 5,
     "metadata": {},
     "output_type": "execute_result"
    }
   ],
   "source": [
    "nwb.session_start_time # (datetime) 2024-03-10T14:37:29-04:00"
   ]
  },
  {
   "cell_type": "code",
   "execution_count": 6,
   "id": "df13b583",
   "metadata": {
    "execution": {
     "iopub.execute_input": "2025-04-15T12:19:52.658929Z",
     "iopub.status.busy": "2025-04-15T12:19:52.658708Z",
     "iopub.status.idle": "2025-04-15T12:19:52.661725Z",
     "shell.execute_reply": "2025-04-15T12:19:52.661292Z"
    },
    "lines_to_next_cell": 0
   },
   "outputs": [
    {
     "data": {
      "text/plain": [
       "datetime.datetime(2024, 3, 10, 14, 37, 29, tzinfo=tzoffset(None, -14400))"
      ]
     },
     "execution_count": 6,
     "metadata": {},
     "output_type": "execute_result"
    }
   ],
   "source": [
    "nwb.timestamps_reference_time # (datetime) 2024-03-10T14:37:29-04:00"
   ]
  },
  {
   "cell_type": "markdown",
   "id": "4f7bbead",
   "metadata": {
    "lines_to_next_cell": 0
   },
   "source": [
    "## Explore Electrode Groups"
   ]
  },
  {
   "cell_type": "code",
   "execution_count": 7,
   "id": "6c537348",
   "metadata": {
    "execution": {
     "iopub.execute_input": "2025-04-15T12:19:52.663115Z",
     "iopub.status.busy": "2025-04-15T12:19:52.662928Z",
     "iopub.status.idle": "2025-04-15T12:19:52.665932Z",
     "shell.execute_reply": "2025-04-15T12:19:52.665538Z"
    },
    "lines_to_next_cell": 0
   },
   "outputs": [
    {
     "data": {
      "text/plain": [
       "{'shank1': shank1 pynwb.ecephys.ElectrodeGroup at 0x140405737699472\n",
       " Fields:\n",
       "   description: electrode group for shank1\n",
       "   device: array pynwb.device.Device at 0x140405737690128\n",
       " Fields:\n",
       "   description: A1x32-Poly3-10mm-50-177-Z32\n",
       "   manufacturer: Neuronexus\n",
       " \n",
       "   location: brain area}"
      ]
     },
     "execution_count": 7,
     "metadata": {},
     "output_type": "execute_result"
    }
   ],
   "source": [
    "nwb.electrode_groups # (LabelledDict)"
   ]
  },
  {
   "cell_type": "code",
   "execution_count": 8,
   "id": "a9331cb9",
   "metadata": {
    "execution": {
     "iopub.execute_input": "2025-04-15T12:19:52.667283Z",
     "iopub.status.busy": "2025-04-15T12:19:52.667073Z",
     "iopub.status.idle": "2025-04-15T12:19:52.670243Z",
     "shell.execute_reply": "2025-04-15T12:19:52.669847Z"
    },
    "lines_to_next_cell": 0
   },
   "outputs": [
    {
     "data": {
      "text/html": [
       "\n",
       "        <style>\n",
       "            .container-fields {\n",
       "                font-family: \"Open Sans\", Arial, sans-serif;\n",
       "            }\n",
       "            .container-fields .field-value {\n",
       "                color: #00788E;\n",
       "            }\n",
       "            .container-fields details > summary {\n",
       "                cursor: pointer;\n",
       "                display: list-item;\n",
       "            }\n",
       "            .container-fields details > summary:hover {\n",
       "                color: #0A6EAA;\n",
       "            }\n",
       "        </style>\n",
       "        \n",
       "        <script>\n",
       "            function copyToClipboard(text) {\n",
       "                navigator.clipboard.writeText(text).then(function() {\n",
       "                    console.log('Copied to clipboard: ' + text);\n",
       "                }, function(err) {\n",
       "                    console.error('Could not copy text: ', err);\n",
       "                });\n",
       "            }\n",
       "\n",
       "            document.addEventListener('DOMContentLoaded', function() {\n",
       "                let fieldKeys = document.querySelectorAll('.container-fields .field-key');\n",
       "                fieldKeys.forEach(function(fieldKey) {\n",
       "                    fieldKey.addEventListener('click', function() {\n",
       "                        let accessCode = fieldKey.getAttribute('title').replace('Access code: ', '');\n",
       "                        copyToClipboard(accessCode);\n",
       "                    });\n",
       "                });\n",
       "            });\n",
       "        </script>\n",
       "        <div class='container-wrap'><div class='container-header'><div class='xr-obj-type'><h3>shank1 (ElectrodeGroup)</h3></div></div><div style=\"margin-left: 0px;\" class=\"container-fields\"><span class=\"field-key\" title=\".description\">description: </span><span class=\"field-value\">electrode group for shank1</span></div><div style=\"margin-left: 0px;\" class=\"container-fields\"><span class=\"field-key\" title=\".location\">location: </span><span class=\"field-value\">brain area</span></div><details><summary style=\"display: list-item; margin-left: 0px;\" class=\"container-fields field-key\" title=\".device\"><b>device</b></summary><div style=\"margin-left: 20px;\" class=\"container-fields\"><span class=\"field-key\" title=\".device.description\">description: </span><span class=\"field-value\">A1x32-Poly3-10mm-50-177-Z32</span></div><div style=\"margin-left: 20px;\" class=\"container-fields\"><span class=\"field-key\" title=\".device.manufacturer\">manufacturer: </span><span class=\"field-value\">Neuronexus</span></div></details></div>"
      ],
      "text/plain": [
       "shank1 pynwb.ecephys.ElectrodeGroup at 0x140405737699472\n",
       "Fields:\n",
       "  description: electrode group for shank1\n",
       "  device: array pynwb.device.Device at 0x140405737690128\n",
       "Fields:\n",
       "  description: A1x32-Poly3-10mm-50-177-Z32\n",
       "  manufacturer: Neuronexus\n",
       "\n",
       "  location: brain area"
      ]
     },
     "execution_count": 8,
     "metadata": {},
     "output_type": "execute_result"
    }
   ],
   "source": [
    "nwb.electrode_groups[\"shank1\"] # (ElectrodeGroup)"
   ]
  },
  {
   "cell_type": "code",
   "execution_count": 9,
   "id": "2f2db983",
   "metadata": {
    "execution": {
     "iopub.execute_input": "2025-04-15T12:19:52.671584Z",
     "iopub.status.busy": "2025-04-15T12:19:52.671400Z",
     "iopub.status.idle": "2025-04-15T12:19:52.674362Z",
     "shell.execute_reply": "2025-04-15T12:19:52.673970Z"
    },
    "lines_to_next_cell": 0
   },
   "outputs": [
    {
     "data": {
      "text/plain": [
       "'electrode group for shank1'"
      ]
     },
     "execution_count": 9,
     "metadata": {},
     "output_type": "execute_result"
    }
   ],
   "source": [
    "nwb.electrode_groups[\"shank1\"].description # (str) electrode group for shank1"
   ]
  },
  {
   "cell_type": "code",
   "execution_count": 10,
   "id": "21397f1f",
   "metadata": {
    "execution": {
     "iopub.execute_input": "2025-04-15T12:19:52.675898Z",
     "iopub.status.busy": "2025-04-15T12:19:52.675696Z",
     "iopub.status.idle": "2025-04-15T12:19:52.678688Z",
     "shell.execute_reply": "2025-04-15T12:19:52.678297Z"
    },
    "lines_to_next_cell": 0
   },
   "outputs": [
    {
     "data": {
      "text/plain": [
       "'brain area'"
      ]
     },
     "execution_count": 10,
     "metadata": {},
     "output_type": "execute_result"
    }
   ],
   "source": [
    "nwb.electrode_groups[\"shank1\"].location # (str) brain area"
   ]
  },
  {
   "cell_type": "code",
   "execution_count": 11,
   "id": "9e11208b",
   "metadata": {
    "execution": {
     "iopub.execute_input": "2025-04-15T12:19:52.680153Z",
     "iopub.status.busy": "2025-04-15T12:19:52.679949Z",
     "iopub.status.idle": "2025-04-15T12:19:52.683068Z",
     "shell.execute_reply": "2025-04-15T12:19:52.682668Z"
    },
    "lines_to_next_cell": 0
   },
   "outputs": [
    {
     "data": {
      "text/html": [
       "\n",
       "        <style>\n",
       "            .container-fields {\n",
       "                font-family: \"Open Sans\", Arial, sans-serif;\n",
       "            }\n",
       "            .container-fields .field-value {\n",
       "                color: #00788E;\n",
       "            }\n",
       "            .container-fields details > summary {\n",
       "                cursor: pointer;\n",
       "                display: list-item;\n",
       "            }\n",
       "            .container-fields details > summary:hover {\n",
       "                color: #0A6EAA;\n",
       "            }\n",
       "        </style>\n",
       "        \n",
       "        <script>\n",
       "            function copyToClipboard(text) {\n",
       "                navigator.clipboard.writeText(text).then(function() {\n",
       "                    console.log('Copied to clipboard: ' + text);\n",
       "                }, function(err) {\n",
       "                    console.error('Could not copy text: ', err);\n",
       "                });\n",
       "            }\n",
       "\n",
       "            document.addEventListener('DOMContentLoaded', function() {\n",
       "                let fieldKeys = document.querySelectorAll('.container-fields .field-key');\n",
       "                fieldKeys.forEach(function(fieldKey) {\n",
       "                    fieldKey.addEventListener('click', function() {\n",
       "                        let accessCode = fieldKey.getAttribute('title').replace('Access code: ', '');\n",
       "                        copyToClipboard(accessCode);\n",
       "                    });\n",
       "                });\n",
       "            });\n",
       "        </script>\n",
       "        <div class='container-wrap'><div class='container-header'><div class='xr-obj-type'><h3>array (Device)</h3></div></div><div style=\"margin-left: 0px;\" class=\"container-fields\"><span class=\"field-key\" title=\".description\">description: </span><span class=\"field-value\">A1x32-Poly3-10mm-50-177-Z32</span></div><div style=\"margin-left: 0px;\" class=\"container-fields\"><span class=\"field-key\" title=\".manufacturer\">manufacturer: </span><span class=\"field-value\">Neuronexus</span></div></div>"
      ],
      "text/plain": [
       "array pynwb.device.Device at 0x140405737690128\n",
       "Fields:\n",
       "  description: A1x32-Poly3-10mm-50-177-Z32\n",
       "  manufacturer: Neuronexus"
      ]
     },
     "execution_count": 11,
     "metadata": {},
     "output_type": "execute_result"
    }
   ],
   "source": [
    "nwb.electrode_groups[\"shank1\"].device # (Device)"
   ]
  },
  {
   "cell_type": "code",
   "execution_count": 12,
   "id": "a2734833",
   "metadata": {
    "execution": {
     "iopub.execute_input": "2025-04-15T12:19:52.684523Z",
     "iopub.status.busy": "2025-04-15T12:19:52.684323Z",
     "iopub.status.idle": "2025-04-15T12:19:52.687378Z",
     "shell.execute_reply": "2025-04-15T12:19:52.686985Z"
    },
    "lines_to_next_cell": 0
   },
   "outputs": [
    {
     "data": {
      "text/plain": [
       "'A1x32-Poly3-10mm-50-177-Z32'"
      ]
     },
     "execution_count": 12,
     "metadata": {},
     "output_type": "execute_result"
    }
   ],
   "source": [
    "nwb.electrode_groups[\"shank1\"].device.description # (str) A1x32-Poly3-10mm-50-177-Z32"
   ]
  },
  {
   "cell_type": "code",
   "execution_count": 13,
   "id": "5cd2a4e8",
   "metadata": {
    "execution": {
     "iopub.execute_input": "2025-04-15T12:19:52.688838Z",
     "iopub.status.busy": "2025-04-15T12:19:52.688618Z",
     "iopub.status.idle": "2025-04-15T12:19:52.691662Z",
     "shell.execute_reply": "2025-04-15T12:19:52.691275Z"
    },
    "lines_to_next_cell": 0
   },
   "outputs": [
    {
     "data": {
      "text/plain": [
       "'Neuronexus'"
      ]
     },
     "execution_count": 13,
     "metadata": {},
     "output_type": "execute_result"
    }
   ],
   "source": [
    "nwb.electrode_groups[\"shank1\"].device.manufacturer # (str) Neuronexus"
   ]
  },
  {
   "cell_type": "markdown",
   "id": "09056734",
   "metadata": {
    "lines_to_next_cell": 0
   },
   "source": [
    "## Explore Devices"
   ]
  },
  {
   "cell_type": "code",
   "execution_count": 14,
   "id": "5337f24a",
   "metadata": {
    "execution": {
     "iopub.execute_input": "2025-04-15T12:19:52.693140Z",
     "iopub.status.busy": "2025-04-15T12:19:52.692937Z",
     "iopub.status.idle": "2025-04-15T12:19:52.695929Z",
     "shell.execute_reply": "2025-04-15T12:19:52.695539Z"
    },
    "lines_to_next_cell": 0
   },
   "outputs": [
    {
     "data": {
      "text/plain": [
       "{'array': array pynwb.device.Device at 0x140405737690128\n",
       " Fields:\n",
       "   description: A1x32-Poly3-10mm-50-177-Z32\n",
       "   manufacturer: Neuronexus}"
      ]
     },
     "execution_count": 14,
     "metadata": {},
     "output_type": "execute_result"
    }
   ],
   "source": [
    "nwb.devices # (LabelledDict)"
   ]
  },
  {
   "cell_type": "code",
   "execution_count": 15,
   "id": "d3076a33",
   "metadata": {
    "execution": {
     "iopub.execute_input": "2025-04-15T12:19:52.697414Z",
     "iopub.status.busy": "2025-04-15T12:19:52.697211Z",
     "iopub.status.idle": "2025-04-15T12:19:52.700276Z",
     "shell.execute_reply": "2025-04-15T12:19:52.699882Z"
    },
    "lines_to_next_cell": 0
   },
   "outputs": [
    {
     "data": {
      "text/html": [
       "\n",
       "        <style>\n",
       "            .container-fields {\n",
       "                font-family: \"Open Sans\", Arial, sans-serif;\n",
       "            }\n",
       "            .container-fields .field-value {\n",
       "                color: #00788E;\n",
       "            }\n",
       "            .container-fields details > summary {\n",
       "                cursor: pointer;\n",
       "                display: list-item;\n",
       "            }\n",
       "            .container-fields details > summary:hover {\n",
       "                color: #0A6EAA;\n",
       "            }\n",
       "        </style>\n",
       "        \n",
       "        <script>\n",
       "            function copyToClipboard(text) {\n",
       "                navigator.clipboard.writeText(text).then(function() {\n",
       "                    console.log('Copied to clipboard: ' + text);\n",
       "                }, function(err) {\n",
       "                    console.error('Could not copy text: ', err);\n",
       "                });\n",
       "            }\n",
       "\n",
       "            document.addEventListener('DOMContentLoaded', function() {\n",
       "                let fieldKeys = document.querySelectorAll('.container-fields .field-key');\n",
       "                fieldKeys.forEach(function(fieldKey) {\n",
       "                    fieldKey.addEventListener('click', function() {\n",
       "                        let accessCode = fieldKey.getAttribute('title').replace('Access code: ', '');\n",
       "                        copyToClipboard(accessCode);\n",
       "                    });\n",
       "                });\n",
       "            });\n",
       "        </script>\n",
       "        <div class='container-wrap'><div class='container-header'><div class='xr-obj-type'><h3>array (Device)</h3></div></div><div style=\"margin-left: 0px;\" class=\"container-fields\"><span class=\"field-key\" title=\".description\">description: </span><span class=\"field-value\">A1x32-Poly3-10mm-50-177-Z32</span></div><div style=\"margin-left: 0px;\" class=\"container-fields\"><span class=\"field-key\" title=\".manufacturer\">manufacturer: </span><span class=\"field-value\">Neuronexus</span></div></div>"
      ],
      "text/plain": [
       "array pynwb.device.Device at 0x140405737690128\n",
       "Fields:\n",
       "  description: A1x32-Poly3-10mm-50-177-Z32\n",
       "  manufacturer: Neuronexus"
      ]
     },
     "execution_count": 15,
     "metadata": {},
     "output_type": "execute_result"
    }
   ],
   "source": [
    "nwb.devices[\"array\"] # (Device)"
   ]
  },
  {
   "cell_type": "code",
   "execution_count": 16,
   "id": "5021ceba",
   "metadata": {
    "execution": {
     "iopub.execute_input": "2025-04-15T12:19:52.701803Z",
     "iopub.status.busy": "2025-04-15T12:19:52.701596Z",
     "iopub.status.idle": "2025-04-15T12:19:52.704576Z",
     "shell.execute_reply": "2025-04-15T12:19:52.704183Z"
    },
    "lines_to_next_cell": 0
   },
   "outputs": [
    {
     "data": {
      "text/plain": [
       "'A1x32-Poly3-10mm-50-177-Z32'"
      ]
     },
     "execution_count": 16,
     "metadata": {},
     "output_type": "execute_result"
    }
   ],
   "source": [
    "nwb.devices[\"array\"].description # (str) A1x32-Poly3-10mm-50-177-Z32"
   ]
  },
  {
   "cell_type": "code",
   "execution_count": 17,
   "id": "36c1a769",
   "metadata": {
    "execution": {
     "iopub.execute_input": "2025-04-15T12:19:52.706133Z",
     "iopub.status.busy": "2025-04-15T12:19:52.705924Z",
     "iopub.status.idle": "2025-04-15T12:19:52.708903Z",
     "shell.execute_reply": "2025-04-15T12:19:52.708498Z"
    },
    "lines_to_next_cell": 0
   },
   "outputs": [
    {
     "data": {
      "text/plain": [
       "'Neuronexus'"
      ]
     },
     "execution_count": 17,
     "metadata": {},
     "output_type": "execute_result"
    }
   ],
   "source": [
    "nwb.devices[\"array\"].manufacturer # (str) Neuronexus"
   ]
  },
  {
   "cell_type": "markdown",
   "id": "989add4e",
   "metadata": {
    "lines_to_next_cell": 0
   },
   "source": [
    "## Explore Trials"
   ]
  },
  {
   "cell_type": "code",
   "execution_count": 18,
   "id": "486514e5",
   "metadata": {
    "execution": {
     "iopub.execute_input": "2025-04-15T12:19:52.710308Z",
     "iopub.status.busy": "2025-04-15T12:19:52.710102Z",
     "iopub.status.idle": "2025-04-15T12:19:52.713183Z",
     "shell.execute_reply": "2025-04-15T12:19:52.712783Z"
    },
    "lines_to_next_cell": 0
   },
   "outputs": [
    {
     "data": {
      "text/plain": [
       "{'trials': trials pynwb.epoch.TimeIntervals at 0x140405737735824\n",
       " Fields:\n",
       "   colnames: ['start_time' 'stop_time']\n",
       "   columns: (\n",
       "     start_time <class 'hdmf.common.table.VectorData'>,\n",
       "     stop_time <class 'hdmf.common.table.VectorData'>\n",
       "   )\n",
       "   description: tFUS stimulation trial onset and offset\n",
       "   id: id <class 'hdmf.common.table.ElementIdentifiers'>}"
      ]
     },
     "execution_count": 18,
     "metadata": {},
     "output_type": "execute_result"
    }
   ],
   "source": [
    "nwb.intervals # (LabelledDict)"
   ]
  },
  {
   "cell_type": "code",
   "execution_count": 19,
   "id": "1e96e078",
   "metadata": {
    "execution": {
     "iopub.execute_input": "2025-04-15T12:19:52.714650Z",
     "iopub.status.busy": "2025-04-15T12:19:52.714443Z",
     "iopub.status.idle": "2025-04-15T12:19:52.718791Z",
     "shell.execute_reply": "2025-04-15T12:19:52.718392Z"
    },
    "lines_to_next_cell": 0
   },
   "outputs": [
    {
     "data": {
      "text/html": [
       "\n",
       "        <style>\n",
       "            .container-fields {\n",
       "                font-family: \"Open Sans\", Arial, sans-serif;\n",
       "            }\n",
       "            .container-fields .field-value {\n",
       "                color: #00788E;\n",
       "            }\n",
       "            .container-fields details > summary {\n",
       "                cursor: pointer;\n",
       "                display: list-item;\n",
       "            }\n",
       "            .container-fields details > summary:hover {\n",
       "                color: #0A6EAA;\n",
       "            }\n",
       "        </style>\n",
       "        \n",
       "        <script>\n",
       "            function copyToClipboard(text) {\n",
       "                navigator.clipboard.writeText(text).then(function() {\n",
       "                    console.log('Copied to clipboard: ' + text);\n",
       "                }, function(err) {\n",
       "                    console.error('Could not copy text: ', err);\n",
       "                });\n",
       "            }\n",
       "\n",
       "            document.addEventListener('DOMContentLoaded', function() {\n",
       "                let fieldKeys = document.querySelectorAll('.container-fields .field-key');\n",
       "                fieldKeys.forEach(function(fieldKey) {\n",
       "                    fieldKey.addEventListener('click', function() {\n",
       "                        let accessCode = fieldKey.getAttribute('title').replace('Access code: ', '');\n",
       "                        copyToClipboard(accessCode);\n",
       "                    });\n",
       "                });\n",
       "            });\n",
       "        </script>\n",
       "        <div class='container-wrap'><div class='container-header'><div class='xr-obj-type'><h3>trials (TimeIntervals)</h3></div></div><div style=\"margin-left: 0px;\" class=\"container-fields\"><span class=\"field-key\" title=\"\">description: </span><span class=\"field-value\">tFUS stimulation trial onset and offset</span></div><details><summary style=\"display: list-item; margin-left: 0px;\" class=\"container-fields field-key\" title=\"\"><b>table</b></summary><table border=\"1\" class=\"dataframe\">\n",
       "  <thead>\n",
       "    <tr style=\"text-align: right;\">\n",
       "      <th></th>\n",
       "      <th>start_time</th>\n",
       "      <th>stop_time</th>\n",
       "    </tr>\n",
       "    <tr>\n",
       "      <th>id</th>\n",
       "      <th></th>\n",
       "      <th></th>\n",
       "    </tr>\n",
       "  </thead>\n",
       "  <tbody>\n",
       "    <tr>\n",
       "      <th>1</th>\n",
       "      <td>0.408248</td>\n",
       "      <td>2.608248</td>\n",
       "    </tr>\n",
       "    <tr>\n",
       "      <th>2</th>\n",
       "      <td>3.050619</td>\n",
       "      <td>5.250619</td>\n",
       "    </tr>\n",
       "    <tr>\n",
       "      <th>3</th>\n",
       "      <td>5.559296</td>\n",
       "      <td>7.759296</td>\n",
       "    </tr>\n",
       "    <tr>\n",
       "      <th>4</th>\n",
       "      <td>8.108483</td>\n",
       "      <td>10.308483</td>\n",
       "    </tr>\n",
       "  </tbody>\n",
       "</table><p>... and 496 more rows.</p></details></div>"
      ],
      "text/plain": [
       "trials pynwb.epoch.TimeIntervals at 0x140405737735824\n",
       "Fields:\n",
       "  colnames: ['start_time' 'stop_time']\n",
       "  columns: (\n",
       "    start_time <class 'hdmf.common.table.VectorData'>,\n",
       "    stop_time <class 'hdmf.common.table.VectorData'>\n",
       "  )\n",
       "  description: tFUS stimulation trial onset and offset\n",
       "  id: id <class 'hdmf.common.table.ElementIdentifiers'>"
      ]
     },
     "execution_count": 19,
     "metadata": {},
     "output_type": "execute_result"
    }
   ],
   "source": [
    "nwb.intervals[\"trials\"] # (TimeIntervals)"
   ]
  },
  {
   "cell_type": "markdown",
   "id": "c71ee97f",
   "metadata": {
    "lines_to_next_cell": 0
   },
   "source": [
    "Convert to a pandas DataFrame with 500 rows and 2 columns"
   ]
  },
  {
   "cell_type": "code",
   "execution_count": 20,
   "id": "0697450a",
   "metadata": {
    "execution": {
     "iopub.execute_input": "2025-04-15T12:19:52.720241Z",
     "iopub.status.busy": "2025-04-15T12:19:52.720058Z",
     "iopub.status.idle": "2025-04-15T12:19:52.726587Z",
     "shell.execute_reply": "2025-04-15T12:19:52.726191Z"
    },
    "lines_to_next_cell": 0
   },
   "outputs": [
    {
     "data": {
      "text/html": [
       "<div>\n",
       "<style scoped>\n",
       "    .dataframe tbody tr th:only-of-type {\n",
       "        vertical-align: middle;\n",
       "    }\n",
       "\n",
       "    .dataframe tbody tr th {\n",
       "        vertical-align: top;\n",
       "    }\n",
       "\n",
       "    .dataframe thead th {\n",
       "        text-align: right;\n",
       "    }\n",
       "</style>\n",
       "<table border=\"1\" class=\"dataframe\">\n",
       "  <thead>\n",
       "    <tr style=\"text-align: right;\">\n",
       "      <th></th>\n",
       "      <th>start_time</th>\n",
       "      <th>stop_time</th>\n",
       "    </tr>\n",
       "    <tr>\n",
       "      <th>id</th>\n",
       "      <th></th>\n",
       "      <th></th>\n",
       "    </tr>\n",
       "  </thead>\n",
       "  <tbody>\n",
       "    <tr>\n",
       "      <th>1</th>\n",
       "      <td>0.408248</td>\n",
       "      <td>2.608248</td>\n",
       "    </tr>\n",
       "    <tr>\n",
       "      <th>2</th>\n",
       "      <td>3.050619</td>\n",
       "      <td>5.250619</td>\n",
       "    </tr>\n",
       "    <tr>\n",
       "      <th>3</th>\n",
       "      <td>5.559296</td>\n",
       "      <td>7.759296</td>\n",
       "    </tr>\n",
       "    <tr>\n",
       "      <th>4</th>\n",
       "      <td>8.108483</td>\n",
       "      <td>10.308483</td>\n",
       "    </tr>\n",
       "    <tr>\n",
       "      <th>5</th>\n",
       "      <td>10.392863</td>\n",
       "      <td>12.592863</td>\n",
       "    </tr>\n",
       "    <tr>\n",
       "      <th>...</th>\n",
       "      <td>...</td>\n",
       "      <td>...</td>\n",
       "    </tr>\n",
       "    <tr>\n",
       "      <th>496</th>\n",
       "      <td>1237.517148</td>\n",
       "      <td>1239.717148</td>\n",
       "    </tr>\n",
       "    <tr>\n",
       "      <th>497</th>\n",
       "      <td>1240.100045</td>\n",
       "      <td>1242.300045</td>\n",
       "    </tr>\n",
       "    <tr>\n",
       "      <th>498</th>\n",
       "      <td>1242.693468</td>\n",
       "      <td>1244.893468</td>\n",
       "    </tr>\n",
       "    <tr>\n",
       "      <th>499</th>\n",
       "      <td>1245.400351</td>\n",
       "      <td>1247.600351</td>\n",
       "    </tr>\n",
       "    <tr>\n",
       "      <th>500</th>\n",
       "      <td>1248.039526</td>\n",
       "      <td>1250.239526</td>\n",
       "    </tr>\n",
       "  </tbody>\n",
       "</table>\n",
       "<p>500 rows × 2 columns</p>\n",
       "</div>"
      ],
      "text/plain": [
       "      start_time    stop_time\n",
       "id                           \n",
       "1       0.408248     2.608248\n",
       "2       3.050619     5.250619\n",
       "3       5.559296     7.759296\n",
       "4       8.108483    10.308483\n",
       "5      10.392863    12.592863\n",
       "..           ...          ...\n",
       "496  1237.517148  1239.717148\n",
       "497  1240.100045  1242.300045\n",
       "498  1242.693468  1244.893468\n",
       "499  1245.400351  1247.600351\n",
       "500  1248.039526  1250.239526\n",
       "\n",
       "[500 rows x 2 columns]"
      ]
     },
     "execution_count": 20,
     "metadata": {},
     "output_type": "execute_result"
    }
   ],
   "source": [
    "nwb.trials.to_dataframe() # (DataFrame)"
   ]
  },
  {
   "cell_type": "markdown",
   "id": "4f679310",
   "metadata": {
    "lines_to_next_cell": 0
   },
   "source": [
    "Show the first few rows of the pandas DataFrame"
   ]
  },
  {
   "cell_type": "code",
   "execution_count": 21,
   "id": "ba679c91",
   "metadata": {
    "execution": {
     "iopub.execute_input": "2025-04-15T12:19:52.728139Z",
     "iopub.status.busy": "2025-04-15T12:19:52.727938Z",
     "iopub.status.idle": "2025-04-15T12:19:52.733595Z",
     "shell.execute_reply": "2025-04-15T12:19:52.733174Z"
    },
    "lines_to_next_cell": 0
   },
   "outputs": [
    {
     "data": {
      "text/html": [
       "<div>\n",
       "<style scoped>\n",
       "    .dataframe tbody tr th:only-of-type {\n",
       "        vertical-align: middle;\n",
       "    }\n",
       "\n",
       "    .dataframe tbody tr th {\n",
       "        vertical-align: top;\n",
       "    }\n",
       "\n",
       "    .dataframe thead th {\n",
       "        text-align: right;\n",
       "    }\n",
       "</style>\n",
       "<table border=\"1\" class=\"dataframe\">\n",
       "  <thead>\n",
       "    <tr style=\"text-align: right;\">\n",
       "      <th></th>\n",
       "      <th>start_time</th>\n",
       "      <th>stop_time</th>\n",
       "    </tr>\n",
       "    <tr>\n",
       "      <th>id</th>\n",
       "      <th></th>\n",
       "      <th></th>\n",
       "    </tr>\n",
       "  </thead>\n",
       "  <tbody>\n",
       "    <tr>\n",
       "      <th>1</th>\n",
       "      <td>0.408248</td>\n",
       "      <td>2.608248</td>\n",
       "    </tr>\n",
       "    <tr>\n",
       "      <th>2</th>\n",
       "      <td>3.050619</td>\n",
       "      <td>5.250619</td>\n",
       "    </tr>\n",
       "    <tr>\n",
       "      <th>3</th>\n",
       "      <td>5.559296</td>\n",
       "      <td>7.759296</td>\n",
       "    </tr>\n",
       "    <tr>\n",
       "      <th>4</th>\n",
       "      <td>8.108483</td>\n",
       "      <td>10.308483</td>\n",
       "    </tr>\n",
       "    <tr>\n",
       "      <th>5</th>\n",
       "      <td>10.392863</td>\n",
       "      <td>12.592863</td>\n",
       "    </tr>\n",
       "  </tbody>\n",
       "</table>\n",
       "</div>"
      ],
      "text/plain": [
       "    start_time  stop_time\n",
       "id                       \n",
       "1     0.408248   2.608248\n",
       "2     3.050619   5.250619\n",
       "3     5.559296   7.759296\n",
       "4     8.108483  10.308483\n",
       "5    10.392863  12.592863"
      ]
     },
     "execution_count": 21,
     "metadata": {},
     "output_type": "execute_result"
    }
   ],
   "source": [
    "nwb.trials.to_dataframe().head() # (DataFrame)"
   ]
  },
  {
   "cell_type": "code",
   "execution_count": 22,
   "id": "03b1c6c4",
   "metadata": {
    "execution": {
     "iopub.execute_input": "2025-04-15T12:19:52.734989Z",
     "iopub.status.busy": "2025-04-15T12:19:52.734787Z",
     "iopub.status.idle": "2025-04-15T12:19:52.737733Z",
     "shell.execute_reply": "2025-04-15T12:19:52.737312Z"
    },
    "lines_to_next_cell": 0
   },
   "outputs": [
    {
     "data": {
      "text/plain": [
       "'tFUS stimulation trial onset and offset'"
      ]
     },
     "execution_count": 22,
     "metadata": {},
     "output_type": "execute_result"
    }
   ],
   "source": [
    "nwb.trials.description # (str) tFUS stimulation trial onset and offset"
   ]
  },
  {
   "cell_type": "code",
   "execution_count": 23,
   "id": "05cd397d",
   "metadata": {
    "execution": {
     "iopub.execute_input": "2025-04-15T12:19:52.739069Z",
     "iopub.status.busy": "2025-04-15T12:19:52.738887Z",
     "iopub.status.idle": "2025-04-15T12:19:52.741822Z",
     "shell.execute_reply": "2025-04-15T12:19:52.741397Z"
    },
    "lines_to_next_cell": 0
   },
   "outputs": [
    {
     "data": {
      "text/plain": [
       "('start_time', 'stop_time')"
      ]
     },
     "execution_count": 23,
     "metadata": {},
     "output_type": "execute_result"
    }
   ],
   "source": [
    "nwb.trials.colnames # (tuple) ['start_time', 'stop_time']"
   ]
  },
  {
   "cell_type": "markdown",
   "id": "d2ac2df1",
   "metadata": {
    "lines_to_next_cell": 0
   },
   "source": [
    "## Explore Electrodes"
   ]
  },
  {
   "cell_type": "code",
   "execution_count": 24,
   "id": "63d1b145",
   "metadata": {
    "execution": {
     "iopub.execute_input": "2025-04-15T12:19:52.743201Z",
     "iopub.status.busy": "2025-04-15T12:19:52.743000Z",
     "iopub.status.idle": "2025-04-15T12:19:52.749619Z",
     "shell.execute_reply": "2025-04-15T12:19:52.749199Z"
    },
    "lines_to_next_cell": 0
   },
   "outputs": [
    {
     "data": {
      "text/html": [
       "\n",
       "        <style>\n",
       "            .container-fields {\n",
       "                font-family: \"Open Sans\", Arial, sans-serif;\n",
       "            }\n",
       "            .container-fields .field-value {\n",
       "                color: #00788E;\n",
       "            }\n",
       "            .container-fields details > summary {\n",
       "                cursor: pointer;\n",
       "                display: list-item;\n",
       "            }\n",
       "            .container-fields details > summary:hover {\n",
       "                color: #0A6EAA;\n",
       "            }\n",
       "        </style>\n",
       "        \n",
       "        <script>\n",
       "            function copyToClipboard(text) {\n",
       "                navigator.clipboard.writeText(text).then(function() {\n",
       "                    console.log('Copied to clipboard: ' + text);\n",
       "                }, function(err) {\n",
       "                    console.error('Could not copy text: ', err);\n",
       "                });\n",
       "            }\n",
       "\n",
       "            document.addEventListener('DOMContentLoaded', function() {\n",
       "                let fieldKeys = document.querySelectorAll('.container-fields .field-key');\n",
       "                fieldKeys.forEach(function(fieldKey) {\n",
       "                    fieldKey.addEventListener('click', function() {\n",
       "                        let accessCode = fieldKey.getAttribute('title').replace('Access code: ', '');\n",
       "                        copyToClipboard(accessCode);\n",
       "                    });\n",
       "                });\n",
       "            });\n",
       "        </script>\n",
       "        <div class='container-wrap'><div class='container-header'><div class='xr-obj-type'><h3>electrodes (DynamicTable)</h3></div></div><div style=\"margin-left: 0px;\" class=\"container-fields\"><span class=\"field-key\" title=\"\">description: </span><span class=\"field-value\">all electrodes</span></div><details><summary style=\"display: list-item; margin-left: 0px;\" class=\"container-fields field-key\" title=\"\"><b>table</b></summary><table border=\"1\" class=\"dataframe\">\n",
       "  <thead>\n",
       "    <tr style=\"text-align: right;\">\n",
       "      <th></th>\n",
       "      <th>x</th>\n",
       "      <th>y</th>\n",
       "      <th>z</th>\n",
       "      <th>imp</th>\n",
       "      <th>location</th>\n",
       "      <th>filtering</th>\n",
       "      <th>group</th>\n",
       "      <th>group_name</th>\n",
       "    </tr>\n",
       "    <tr>\n",
       "      <th>id</th>\n",
       "      <th></th>\n",
       "      <th></th>\n",
       "      <th></th>\n",
       "      <th></th>\n",
       "      <th></th>\n",
       "      <th></th>\n",
       "      <th></th>\n",
       "      <th></th>\n",
       "    </tr>\n",
       "  </thead>\n",
       "  <tbody>\n",
       "    <tr>\n",
       "      <th>0</th>\n",
       "      <td>1.0</td>\n",
       "      <td>10.0</td>\n",
       "      <td>0.0</td>\n",
       "      <td>NaN</td>\n",
       "      <td>unknown</td>\n",
       "      <td>unknown</td>\n",
       "      <td>shank1 pynwb.ecephys.ElectrodeGroup at 0x140405737699472\\nFields:\\n  description: electrode group for shank1\\n  device: array pynwb.device.Device at 0x140405737690128\\nFields:\\n  description: A1x32-Poly3-10mm-50-177-Z32\\n  manufacturer: Neuronexus\\n\\n  location: brain area\\n</td>\n",
       "      <td>shank1elec1</td>\n",
       "    </tr>\n",
       "    <tr>\n",
       "      <th>1</th>\n",
       "      <td>1.0</td>\n",
       "      <td>11.0</td>\n",
       "      <td>0.0</td>\n",
       "      <td>NaN</td>\n",
       "      <td>unknown</td>\n",
       "      <td>unknown</td>\n",
       "      <td>shank1 pynwb.ecephys.ElectrodeGroup at 0x140405737699472\\nFields:\\n  description: electrode group for shank1\\n  device: array pynwb.device.Device at 0x140405737690128\\nFields:\\n  description: A1x32-Poly3-10mm-50-177-Z32\\n  manufacturer: Neuronexus\\n\\n  location: brain area\\n</td>\n",
       "      <td>shank1elec2</td>\n",
       "    </tr>\n",
       "    <tr>\n",
       "      <th>2</th>\n",
       "      <td>1.0</td>\n",
       "      <td>9.0</td>\n",
       "      <td>0.0</td>\n",
       "      <td>NaN</td>\n",
       "      <td>unknown</td>\n",
       "      <td>unknown</td>\n",
       "      <td>shank1 pynwb.ecephys.ElectrodeGroup at 0x140405737699472\\nFields:\\n  description: electrode group for shank1\\n  device: array pynwb.device.Device at 0x140405737690128\\nFields:\\n  description: A1x32-Poly3-10mm-50-177-Z32\\n  manufacturer: Neuronexus\\n\\n  location: brain area\\n</td>\n",
       "      <td>shank1elec3</td>\n",
       "    </tr>\n",
       "    <tr>\n",
       "      <th>3</th>\n",
       "      <td>1.0</td>\n",
       "      <td>8.0</td>\n",
       "      <td>0.0</td>\n",
       "      <td>NaN</td>\n",
       "      <td>unknown</td>\n",
       "      <td>unknown</td>\n",
       "      <td>shank1 pynwb.ecephys.ElectrodeGroup at 0x140405737699472\\nFields:\\n  description: electrode group for shank1\\n  device: array pynwb.device.Device at 0x140405737690128\\nFields:\\n  description: A1x32-Poly3-10mm-50-177-Z32\\n  manufacturer: Neuronexus\\n\\n  location: brain area\\n</td>\n",
       "      <td>shank1elec4</td>\n",
       "    </tr>\n",
       "  </tbody>\n",
       "</table><p>... and 28 more rows.</p></details></div>"
      ],
      "text/plain": [
       "electrodes hdmf.common.table.DynamicTable at 0x140405737685904\n",
       "Fields:\n",
       "  colnames: ['x' 'y' 'z' 'imp' 'location' 'filtering' 'group' 'group_name']\n",
       "  columns: (\n",
       "    x <class 'hdmf.common.table.VectorData'>,\n",
       "    y <class 'hdmf.common.table.VectorData'>,\n",
       "    z <class 'hdmf.common.table.VectorData'>,\n",
       "    imp <class 'hdmf.common.table.VectorData'>,\n",
       "    location <class 'hdmf.common.table.VectorData'>,\n",
       "    filtering <class 'hdmf.common.table.VectorData'>,\n",
       "    group <class 'hdmf.common.table.VectorData'>,\n",
       "    group_name <class 'hdmf.common.table.VectorData'>\n",
       "  )\n",
       "  description: all electrodes\n",
       "  id: id <class 'hdmf.common.table.ElementIdentifiers'>"
      ]
     },
     "execution_count": 24,
     "metadata": {},
     "output_type": "execute_result"
    }
   ],
   "source": [
    "nwb.electrodes # (DynamicTable)"
   ]
  },
  {
   "cell_type": "markdown",
   "id": "091f7098",
   "metadata": {
    "lines_to_next_cell": 0
   },
   "source": [
    "Convert to a pandas DataFrame with 32 rows and 8 columns"
   ]
  },
  {
   "cell_type": "code",
   "execution_count": 25,
   "id": "6955f9cc",
   "metadata": {
    "execution": {
     "iopub.execute_input": "2025-04-15T12:19:52.751019Z",
     "iopub.status.busy": "2025-04-15T12:19:52.750818Z",
     "iopub.status.idle": "2025-04-15T12:19:52.767476Z",
     "shell.execute_reply": "2025-04-15T12:19:52.767091Z"
    },
    "lines_to_next_cell": 0
   },
   "outputs": [
    {
     "data": {
      "text/html": [
       "<div>\n",
       "<style scoped>\n",
       "    .dataframe tbody tr th:only-of-type {\n",
       "        vertical-align: middle;\n",
       "    }\n",
       "\n",
       "    .dataframe tbody tr th {\n",
       "        vertical-align: top;\n",
       "    }\n",
       "\n",
       "    .dataframe thead th {\n",
       "        text-align: right;\n",
       "    }\n",
       "</style>\n",
       "<table border=\"1\" class=\"dataframe\">\n",
       "  <thead>\n",
       "    <tr style=\"text-align: right;\">\n",
       "      <th></th>\n",
       "      <th>x</th>\n",
       "      <th>y</th>\n",
       "      <th>z</th>\n",
       "      <th>imp</th>\n",
       "      <th>location</th>\n",
       "      <th>filtering</th>\n",
       "      <th>group</th>\n",
       "      <th>group_name</th>\n",
       "    </tr>\n",
       "    <tr>\n",
       "      <th>id</th>\n",
       "      <th></th>\n",
       "      <th></th>\n",
       "      <th></th>\n",
       "      <th></th>\n",
       "      <th></th>\n",
       "      <th></th>\n",
       "      <th></th>\n",
       "      <th></th>\n",
       "    </tr>\n",
       "  </thead>\n",
       "  <tbody>\n",
       "    <tr>\n",
       "      <th>0</th>\n",
       "      <td>1.0</td>\n",
       "      <td>10.0</td>\n",
       "      <td>0.0</td>\n",
       "      <td>NaN</td>\n",
       "      <td>unknown</td>\n",
       "      <td>unknown</td>\n",
       "      <td>shank1 pynwb.ecephys.ElectrodeGroup at 0x14040...</td>\n",
       "      <td>shank1elec1</td>\n",
       "    </tr>\n",
       "    <tr>\n",
       "      <th>1</th>\n",
       "      <td>1.0</td>\n",
       "      <td>11.0</td>\n",
       "      <td>0.0</td>\n",
       "      <td>NaN</td>\n",
       "      <td>unknown</td>\n",
       "      <td>unknown</td>\n",
       "      <td>shank1 pynwb.ecephys.ElectrodeGroup at 0x14040...</td>\n",
       "      <td>shank1elec2</td>\n",
       "    </tr>\n",
       "    <tr>\n",
       "      <th>2</th>\n",
       "      <td>1.0</td>\n",
       "      <td>9.0</td>\n",
       "      <td>0.0</td>\n",
       "      <td>NaN</td>\n",
       "      <td>unknown</td>\n",
       "      <td>unknown</td>\n",
       "      <td>shank1 pynwb.ecephys.ElectrodeGroup at 0x14040...</td>\n",
       "      <td>shank1elec3</td>\n",
       "    </tr>\n",
       "    <tr>\n",
       "      <th>3</th>\n",
       "      <td>1.0</td>\n",
       "      <td>8.0</td>\n",
       "      <td>0.0</td>\n",
       "      <td>NaN</td>\n",
       "      <td>unknown</td>\n",
       "      <td>unknown</td>\n",
       "      <td>shank1 pynwb.ecephys.ElectrodeGroup at 0x14040...</td>\n",
       "      <td>shank1elec4</td>\n",
       "    </tr>\n",
       "    <tr>\n",
       "      <th>4</th>\n",
       "      <td>1.0</td>\n",
       "      <td>7.0</td>\n",
       "      <td>0.0</td>\n",
       "      <td>NaN</td>\n",
       "      <td>unknown</td>\n",
       "      <td>unknown</td>\n",
       "      <td>shank1 pynwb.ecephys.ElectrodeGroup at 0x14040...</td>\n",
       "      <td>shank1elec5</td>\n",
       "    </tr>\n",
       "    <tr>\n",
       "      <th>5</th>\n",
       "      <td>1.0</td>\n",
       "      <td>6.0</td>\n",
       "      <td>0.0</td>\n",
       "      <td>NaN</td>\n",
       "      <td>unknown</td>\n",
       "      <td>unknown</td>\n",
       "      <td>shank1 pynwb.ecephys.ElectrodeGroup at 0x14040...</td>\n",
       "      <td>shank1elec6</td>\n",
       "    </tr>\n",
       "    <tr>\n",
       "      <th>6</th>\n",
       "      <td>1.0</td>\n",
       "      <td>5.0</td>\n",
       "      <td>0.0</td>\n",
       "      <td>NaN</td>\n",
       "      <td>unknown</td>\n",
       "      <td>unknown</td>\n",
       "      <td>shank1 pynwb.ecephys.ElectrodeGroup at 0x14040...</td>\n",
       "      <td>shank1elec7</td>\n",
       "    </tr>\n",
       "    <tr>\n",
       "      <th>7</th>\n",
       "      <td>1.0</td>\n",
       "      <td>4.0</td>\n",
       "      <td>0.0</td>\n",
       "      <td>NaN</td>\n",
       "      <td>unknown</td>\n",
       "      <td>unknown</td>\n",
       "      <td>shank1 pynwb.ecephys.ElectrodeGroup at 0x14040...</td>\n",
       "      <td>shank1elec8</td>\n",
       "    </tr>\n",
       "    <tr>\n",
       "      <th>8</th>\n",
       "      <td>1.0</td>\n",
       "      <td>3.0</td>\n",
       "      <td>0.0</td>\n",
       "      <td>NaN</td>\n",
       "      <td>unknown</td>\n",
       "      <td>unknown</td>\n",
       "      <td>shank1 pynwb.ecephys.ElectrodeGroup at 0x14040...</td>\n",
       "      <td>shank1elec9</td>\n",
       "    </tr>\n",
       "    <tr>\n",
       "      <th>9</th>\n",
       "      <td>1.0</td>\n",
       "      <td>2.0</td>\n",
       "      <td>0.0</td>\n",
       "      <td>NaN</td>\n",
       "      <td>unknown</td>\n",
       "      <td>unknown</td>\n",
       "      <td>shank1 pynwb.ecephys.ElectrodeGroup at 0x14040...</td>\n",
       "      <td>shank1elec10</td>\n",
       "    </tr>\n",
       "    <tr>\n",
       "      <th>10</th>\n",
       "      <td>2.0</td>\n",
       "      <td>1.0</td>\n",
       "      <td>0.0</td>\n",
       "      <td>NaN</td>\n",
       "      <td>unknown</td>\n",
       "      <td>unknown</td>\n",
       "      <td>shank1 pynwb.ecephys.ElectrodeGroup at 0x14040...</td>\n",
       "      <td>shank1elec11</td>\n",
       "    </tr>\n",
       "    <tr>\n",
       "      <th>11</th>\n",
       "      <td>2.0</td>\n",
       "      <td>3.0</td>\n",
       "      <td>0.0</td>\n",
       "      <td>NaN</td>\n",
       "      <td>unknown</td>\n",
       "      <td>unknown</td>\n",
       "      <td>shank1 pynwb.ecephys.ElectrodeGroup at 0x14040...</td>\n",
       "      <td>shank1elec12</td>\n",
       "    </tr>\n",
       "    <tr>\n",
       "      <th>12</th>\n",
       "      <td>2.0</td>\n",
       "      <td>5.0</td>\n",
       "      <td>0.0</td>\n",
       "      <td>NaN</td>\n",
       "      <td>unknown</td>\n",
       "      <td>unknown</td>\n",
       "      <td>shank1 pynwb.ecephys.ElectrodeGroup at 0x14040...</td>\n",
       "      <td>shank1elec13</td>\n",
       "    </tr>\n",
       "    <tr>\n",
       "      <th>13</th>\n",
       "      <td>2.0</td>\n",
       "      <td>7.0</td>\n",
       "      <td>0.0</td>\n",
       "      <td>NaN</td>\n",
       "      <td>unknown</td>\n",
       "      <td>unknown</td>\n",
       "      <td>shank1 pynwb.ecephys.ElectrodeGroup at 0x14040...</td>\n",
       "      <td>shank1elec14</td>\n",
       "    </tr>\n",
       "    <tr>\n",
       "      <th>14</th>\n",
       "      <td>2.0</td>\n",
       "      <td>9.0</td>\n",
       "      <td>0.0</td>\n",
       "      <td>NaN</td>\n",
       "      <td>unknown</td>\n",
       "      <td>unknown</td>\n",
       "      <td>shank1 pynwb.ecephys.ElectrodeGroup at 0x14040...</td>\n",
       "      <td>shank1elec15</td>\n",
       "    </tr>\n",
       "    <tr>\n",
       "      <th>15</th>\n",
       "      <td>2.0</td>\n",
       "      <td>11.0</td>\n",
       "      <td>0.0</td>\n",
       "      <td>NaN</td>\n",
       "      <td>unknown</td>\n",
       "      <td>unknown</td>\n",
       "      <td>shank1 pynwb.ecephys.ElectrodeGroup at 0x14040...</td>\n",
       "      <td>shank1elec16</td>\n",
       "    </tr>\n",
       "    <tr>\n",
       "      <th>16</th>\n",
       "      <td>2.0</td>\n",
       "      <td>12.0</td>\n",
       "      <td>0.0</td>\n",
       "      <td>NaN</td>\n",
       "      <td>unknown</td>\n",
       "      <td>unknown</td>\n",
       "      <td>shank1 pynwb.ecephys.ElectrodeGroup at 0x14040...</td>\n",
       "      <td>shank1elec17</td>\n",
       "    </tr>\n",
       "    <tr>\n",
       "      <th>17</th>\n",
       "      <td>2.0</td>\n",
       "      <td>10.0</td>\n",
       "      <td>0.0</td>\n",
       "      <td>NaN</td>\n",
       "      <td>unknown</td>\n",
       "      <td>unknown</td>\n",
       "      <td>shank1 pynwb.ecephys.ElectrodeGroup at 0x14040...</td>\n",
       "      <td>shank1elec18</td>\n",
       "    </tr>\n",
       "    <tr>\n",
       "      <th>18</th>\n",
       "      <td>2.0</td>\n",
       "      <td>8.0</td>\n",
       "      <td>0.0</td>\n",
       "      <td>NaN</td>\n",
       "      <td>unknown</td>\n",
       "      <td>unknown</td>\n",
       "      <td>shank1 pynwb.ecephys.ElectrodeGroup at 0x14040...</td>\n",
       "      <td>shank1elec19</td>\n",
       "    </tr>\n",
       "    <tr>\n",
       "      <th>19</th>\n",
       "      <td>2.0</td>\n",
       "      <td>6.0</td>\n",
       "      <td>0.0</td>\n",
       "      <td>NaN</td>\n",
       "      <td>unknown</td>\n",
       "      <td>unknown</td>\n",
       "      <td>shank1 pynwb.ecephys.ElectrodeGroup at 0x14040...</td>\n",
       "      <td>shank1elec20</td>\n",
       "    </tr>\n",
       "    <tr>\n",
       "      <th>20</th>\n",
       "      <td>2.0</td>\n",
       "      <td>4.0</td>\n",
       "      <td>0.0</td>\n",
       "      <td>NaN</td>\n",
       "      <td>unknown</td>\n",
       "      <td>unknown</td>\n",
       "      <td>shank1 pynwb.ecephys.ElectrodeGroup at 0x14040...</td>\n",
       "      <td>shank1elec21</td>\n",
       "    </tr>\n",
       "    <tr>\n",
       "      <th>21</th>\n",
       "      <td>2.0</td>\n",
       "      <td>2.0</td>\n",
       "      <td>0.0</td>\n",
       "      <td>NaN</td>\n",
       "      <td>unknown</td>\n",
       "      <td>unknown</td>\n",
       "      <td>shank1 pynwb.ecephys.ElectrodeGroup at 0x14040...</td>\n",
       "      <td>shank1elec22</td>\n",
       "    </tr>\n",
       "    <tr>\n",
       "      <th>22</th>\n",
       "      <td>3.0</td>\n",
       "      <td>2.0</td>\n",
       "      <td>0.0</td>\n",
       "      <td>NaN</td>\n",
       "      <td>unknown</td>\n",
       "      <td>unknown</td>\n",
       "      <td>shank1 pynwb.ecephys.ElectrodeGroup at 0x14040...</td>\n",
       "      <td>shank1elec23</td>\n",
       "    </tr>\n",
       "    <tr>\n",
       "      <th>23</th>\n",
       "      <td>3.0</td>\n",
       "      <td>3.0</td>\n",
       "      <td>0.0</td>\n",
       "      <td>NaN</td>\n",
       "      <td>unknown</td>\n",
       "      <td>unknown</td>\n",
       "      <td>shank1 pynwb.ecephys.ElectrodeGroup at 0x14040...</td>\n",
       "      <td>shank1elec24</td>\n",
       "    </tr>\n",
       "    <tr>\n",
       "      <th>24</th>\n",
       "      <td>3.0</td>\n",
       "      <td>4.0</td>\n",
       "      <td>0.0</td>\n",
       "      <td>NaN</td>\n",
       "      <td>unknown</td>\n",
       "      <td>unknown</td>\n",
       "      <td>shank1 pynwb.ecephys.ElectrodeGroup at 0x14040...</td>\n",
       "      <td>shank1elec25</td>\n",
       "    </tr>\n",
       "    <tr>\n",
       "      <th>25</th>\n",
       "      <td>3.0</td>\n",
       "      <td>5.0</td>\n",
       "      <td>0.0</td>\n",
       "      <td>NaN</td>\n",
       "      <td>unknown</td>\n",
       "      <td>unknown</td>\n",
       "      <td>shank1 pynwb.ecephys.ElectrodeGroup at 0x14040...</td>\n",
       "      <td>shank1elec26</td>\n",
       "    </tr>\n",
       "    <tr>\n",
       "      <th>26</th>\n",
       "      <td>3.0</td>\n",
       "      <td>6.0</td>\n",
       "      <td>0.0</td>\n",
       "      <td>NaN</td>\n",
       "      <td>unknown</td>\n",
       "      <td>unknown</td>\n",
       "      <td>shank1 pynwb.ecephys.ElectrodeGroup at 0x14040...</td>\n",
       "      <td>shank1elec27</td>\n",
       "    </tr>\n",
       "    <tr>\n",
       "      <th>27</th>\n",
       "      <td>3.0</td>\n",
       "      <td>7.0</td>\n",
       "      <td>0.0</td>\n",
       "      <td>NaN</td>\n",
       "      <td>unknown</td>\n",
       "      <td>unknown</td>\n",
       "      <td>shank1 pynwb.ecephys.ElectrodeGroup at 0x14040...</td>\n",
       "      <td>shank1elec28</td>\n",
       "    </tr>\n",
       "    <tr>\n",
       "      <th>28</th>\n",
       "      <td>3.0</td>\n",
       "      <td>8.0</td>\n",
       "      <td>0.0</td>\n",
       "      <td>NaN</td>\n",
       "      <td>unknown</td>\n",
       "      <td>unknown</td>\n",
       "      <td>shank1 pynwb.ecephys.ElectrodeGroup at 0x14040...</td>\n",
       "      <td>shank1elec29</td>\n",
       "    </tr>\n",
       "    <tr>\n",
       "      <th>29</th>\n",
       "      <td>3.0</td>\n",
       "      <td>9.0</td>\n",
       "      <td>0.0</td>\n",
       "      <td>NaN</td>\n",
       "      <td>unknown</td>\n",
       "      <td>unknown</td>\n",
       "      <td>shank1 pynwb.ecephys.ElectrodeGroup at 0x14040...</td>\n",
       "      <td>shank1elec30</td>\n",
       "    </tr>\n",
       "    <tr>\n",
       "      <th>30</th>\n",
       "      <td>3.0</td>\n",
       "      <td>11.0</td>\n",
       "      <td>0.0</td>\n",
       "      <td>NaN</td>\n",
       "      <td>unknown</td>\n",
       "      <td>unknown</td>\n",
       "      <td>shank1 pynwb.ecephys.ElectrodeGroup at 0x14040...</td>\n",
       "      <td>shank1elec31</td>\n",
       "    </tr>\n",
       "    <tr>\n",
       "      <th>31</th>\n",
       "      <td>3.0</td>\n",
       "      <td>10.0</td>\n",
       "      <td>0.0</td>\n",
       "      <td>NaN</td>\n",
       "      <td>unknown</td>\n",
       "      <td>unknown</td>\n",
       "      <td>shank1 pynwb.ecephys.ElectrodeGroup at 0x14040...</td>\n",
       "      <td>shank1elec32</td>\n",
       "    </tr>\n",
       "  </tbody>\n",
       "</table>\n",
       "</div>"
      ],
      "text/plain": [
       "      x     y    z  imp location filtering  \\\n",
       "id                                           \n",
       "0   1.0  10.0  0.0  NaN  unknown   unknown   \n",
       "1   1.0  11.0  0.0  NaN  unknown   unknown   \n",
       "2   1.0   9.0  0.0  NaN  unknown   unknown   \n",
       "3   1.0   8.0  0.0  NaN  unknown   unknown   \n",
       "4   1.0   7.0  0.0  NaN  unknown   unknown   \n",
       "5   1.0   6.0  0.0  NaN  unknown   unknown   \n",
       "6   1.0   5.0  0.0  NaN  unknown   unknown   \n",
       "7   1.0   4.0  0.0  NaN  unknown   unknown   \n",
       "8   1.0   3.0  0.0  NaN  unknown   unknown   \n",
       "9   1.0   2.0  0.0  NaN  unknown   unknown   \n",
       "10  2.0   1.0  0.0  NaN  unknown   unknown   \n",
       "11  2.0   3.0  0.0  NaN  unknown   unknown   \n",
       "12  2.0   5.0  0.0  NaN  unknown   unknown   \n",
       "13  2.0   7.0  0.0  NaN  unknown   unknown   \n",
       "14  2.0   9.0  0.0  NaN  unknown   unknown   \n",
       "15  2.0  11.0  0.0  NaN  unknown   unknown   \n",
       "16  2.0  12.0  0.0  NaN  unknown   unknown   \n",
       "17  2.0  10.0  0.0  NaN  unknown   unknown   \n",
       "18  2.0   8.0  0.0  NaN  unknown   unknown   \n",
       "19  2.0   6.0  0.0  NaN  unknown   unknown   \n",
       "20  2.0   4.0  0.0  NaN  unknown   unknown   \n",
       "21  2.0   2.0  0.0  NaN  unknown   unknown   \n",
       "22  3.0   2.0  0.0  NaN  unknown   unknown   \n",
       "23  3.0   3.0  0.0  NaN  unknown   unknown   \n",
       "24  3.0   4.0  0.0  NaN  unknown   unknown   \n",
       "25  3.0   5.0  0.0  NaN  unknown   unknown   \n",
       "26  3.0   6.0  0.0  NaN  unknown   unknown   \n",
       "27  3.0   7.0  0.0  NaN  unknown   unknown   \n",
       "28  3.0   8.0  0.0  NaN  unknown   unknown   \n",
       "29  3.0   9.0  0.0  NaN  unknown   unknown   \n",
       "30  3.0  11.0  0.0  NaN  unknown   unknown   \n",
       "31  3.0  10.0  0.0  NaN  unknown   unknown   \n",
       "\n",
       "                                                group    group_name  \n",
       "id                                                                   \n",
       "0   shank1 pynwb.ecephys.ElectrodeGroup at 0x14040...   shank1elec1  \n",
       "1   shank1 pynwb.ecephys.ElectrodeGroup at 0x14040...   shank1elec2  \n",
       "2   shank1 pynwb.ecephys.ElectrodeGroup at 0x14040...   shank1elec3  \n",
       "3   shank1 pynwb.ecephys.ElectrodeGroup at 0x14040...   shank1elec4  \n",
       "4   shank1 pynwb.ecephys.ElectrodeGroup at 0x14040...   shank1elec5  \n",
       "5   shank1 pynwb.ecephys.ElectrodeGroup at 0x14040...   shank1elec6  \n",
       "6   shank1 pynwb.ecephys.ElectrodeGroup at 0x14040...   shank1elec7  \n",
       "7   shank1 pynwb.ecephys.ElectrodeGroup at 0x14040...   shank1elec8  \n",
       "8   shank1 pynwb.ecephys.ElectrodeGroup at 0x14040...   shank1elec9  \n",
       "9   shank1 pynwb.ecephys.ElectrodeGroup at 0x14040...  shank1elec10  \n",
       "10  shank1 pynwb.ecephys.ElectrodeGroup at 0x14040...  shank1elec11  \n",
       "11  shank1 pynwb.ecephys.ElectrodeGroup at 0x14040...  shank1elec12  \n",
       "12  shank1 pynwb.ecephys.ElectrodeGroup at 0x14040...  shank1elec13  \n",
       "13  shank1 pynwb.ecephys.ElectrodeGroup at 0x14040...  shank1elec14  \n",
       "14  shank1 pynwb.ecephys.ElectrodeGroup at 0x14040...  shank1elec15  \n",
       "15  shank1 pynwb.ecephys.ElectrodeGroup at 0x14040...  shank1elec16  \n",
       "16  shank1 pynwb.ecephys.ElectrodeGroup at 0x14040...  shank1elec17  \n",
       "17  shank1 pynwb.ecephys.ElectrodeGroup at 0x14040...  shank1elec18  \n",
       "18  shank1 pynwb.ecephys.ElectrodeGroup at 0x14040...  shank1elec19  \n",
       "19  shank1 pynwb.ecephys.ElectrodeGroup at 0x14040...  shank1elec20  \n",
       "20  shank1 pynwb.ecephys.ElectrodeGroup at 0x14040...  shank1elec21  \n",
       "21  shank1 pynwb.ecephys.ElectrodeGroup at 0x14040...  shank1elec22  \n",
       "22  shank1 pynwb.ecephys.ElectrodeGroup at 0x14040...  shank1elec23  \n",
       "23  shank1 pynwb.ecephys.ElectrodeGroup at 0x14040...  shank1elec24  \n",
       "24  shank1 pynwb.ecephys.ElectrodeGroup at 0x14040...  shank1elec25  \n",
       "25  shank1 pynwb.ecephys.ElectrodeGroup at 0x14040...  shank1elec26  \n",
       "26  shank1 pynwb.ecephys.ElectrodeGroup at 0x14040...  shank1elec27  \n",
       "27  shank1 pynwb.ecephys.ElectrodeGroup at 0x14040...  shank1elec28  \n",
       "28  shank1 pynwb.ecephys.ElectrodeGroup at 0x14040...  shank1elec29  \n",
       "29  shank1 pynwb.ecephys.ElectrodeGroup at 0x14040...  shank1elec30  \n",
       "30  shank1 pynwb.ecephys.ElectrodeGroup at 0x14040...  shank1elec31  \n",
       "31  shank1 pynwb.ecephys.ElectrodeGroup at 0x14040...  shank1elec32  "
      ]
     },
     "execution_count": 25,
     "metadata": {},
     "output_type": "execute_result"
    }
   ],
   "source": [
    "nwb.electrodes.to_dataframe() # (DataFrame)"
   ]
  },
  {
   "cell_type": "markdown",
   "id": "24fbb1fb",
   "metadata": {
    "lines_to_next_cell": 0
   },
   "source": [
    "Show the first few rows of the pandas DataFrame"
   ]
  },
  {
   "cell_type": "code",
   "execution_count": 26,
   "id": "b2438f0c",
   "metadata": {
    "execution": {
     "iopub.execute_input": "2025-04-15T12:19:52.768954Z",
     "iopub.status.busy": "2025-04-15T12:19:52.768739Z",
     "iopub.status.idle": "2025-04-15T12:19:52.781371Z",
     "shell.execute_reply": "2025-04-15T12:19:52.780981Z"
    },
    "lines_to_next_cell": 0
   },
   "outputs": [
    {
     "data": {
      "text/html": [
       "<div>\n",
       "<style scoped>\n",
       "    .dataframe tbody tr th:only-of-type {\n",
       "        vertical-align: middle;\n",
       "    }\n",
       "\n",
       "    .dataframe tbody tr th {\n",
       "        vertical-align: top;\n",
       "    }\n",
       "\n",
       "    .dataframe thead th {\n",
       "        text-align: right;\n",
       "    }\n",
       "</style>\n",
       "<table border=\"1\" class=\"dataframe\">\n",
       "  <thead>\n",
       "    <tr style=\"text-align: right;\">\n",
       "      <th></th>\n",
       "      <th>x</th>\n",
       "      <th>y</th>\n",
       "      <th>z</th>\n",
       "      <th>imp</th>\n",
       "      <th>location</th>\n",
       "      <th>filtering</th>\n",
       "      <th>group</th>\n",
       "      <th>group_name</th>\n",
       "    </tr>\n",
       "    <tr>\n",
       "      <th>id</th>\n",
       "      <th></th>\n",
       "      <th></th>\n",
       "      <th></th>\n",
       "      <th></th>\n",
       "      <th></th>\n",
       "      <th></th>\n",
       "      <th></th>\n",
       "      <th></th>\n",
       "    </tr>\n",
       "  </thead>\n",
       "  <tbody>\n",
       "    <tr>\n",
       "      <th>0</th>\n",
       "      <td>1.0</td>\n",
       "      <td>10.0</td>\n",
       "      <td>0.0</td>\n",
       "      <td>NaN</td>\n",
       "      <td>unknown</td>\n",
       "      <td>unknown</td>\n",
       "      <td>shank1 pynwb.ecephys.ElectrodeGroup at 0x14040...</td>\n",
       "      <td>shank1elec1</td>\n",
       "    </tr>\n",
       "    <tr>\n",
       "      <th>1</th>\n",
       "      <td>1.0</td>\n",
       "      <td>11.0</td>\n",
       "      <td>0.0</td>\n",
       "      <td>NaN</td>\n",
       "      <td>unknown</td>\n",
       "      <td>unknown</td>\n",
       "      <td>shank1 pynwb.ecephys.ElectrodeGroup at 0x14040...</td>\n",
       "      <td>shank1elec2</td>\n",
       "    </tr>\n",
       "    <tr>\n",
       "      <th>2</th>\n",
       "      <td>1.0</td>\n",
       "      <td>9.0</td>\n",
       "      <td>0.0</td>\n",
       "      <td>NaN</td>\n",
       "      <td>unknown</td>\n",
       "      <td>unknown</td>\n",
       "      <td>shank1 pynwb.ecephys.ElectrodeGroup at 0x14040...</td>\n",
       "      <td>shank1elec3</td>\n",
       "    </tr>\n",
       "    <tr>\n",
       "      <th>3</th>\n",
       "      <td>1.0</td>\n",
       "      <td>8.0</td>\n",
       "      <td>0.0</td>\n",
       "      <td>NaN</td>\n",
       "      <td>unknown</td>\n",
       "      <td>unknown</td>\n",
       "      <td>shank1 pynwb.ecephys.ElectrodeGroup at 0x14040...</td>\n",
       "      <td>shank1elec4</td>\n",
       "    </tr>\n",
       "    <tr>\n",
       "      <th>4</th>\n",
       "      <td>1.0</td>\n",
       "      <td>7.0</td>\n",
       "      <td>0.0</td>\n",
       "      <td>NaN</td>\n",
       "      <td>unknown</td>\n",
       "      <td>unknown</td>\n",
       "      <td>shank1 pynwb.ecephys.ElectrodeGroup at 0x14040...</td>\n",
       "      <td>shank1elec5</td>\n",
       "    </tr>\n",
       "  </tbody>\n",
       "</table>\n",
       "</div>"
      ],
      "text/plain": [
       "      x     y    z  imp location filtering  \\\n",
       "id                                           \n",
       "0   1.0  10.0  0.0  NaN  unknown   unknown   \n",
       "1   1.0  11.0  0.0  NaN  unknown   unknown   \n",
       "2   1.0   9.0  0.0  NaN  unknown   unknown   \n",
       "3   1.0   8.0  0.0  NaN  unknown   unknown   \n",
       "4   1.0   7.0  0.0  NaN  unknown   unknown   \n",
       "\n",
       "                                                group   group_name  \n",
       "id                                                                  \n",
       "0   shank1 pynwb.ecephys.ElectrodeGroup at 0x14040...  shank1elec1  \n",
       "1   shank1 pynwb.ecephys.ElectrodeGroup at 0x14040...  shank1elec2  \n",
       "2   shank1 pynwb.ecephys.ElectrodeGroup at 0x14040...  shank1elec3  \n",
       "3   shank1 pynwb.ecephys.ElectrodeGroup at 0x14040...  shank1elec4  \n",
       "4   shank1 pynwb.ecephys.ElectrodeGroup at 0x14040...  shank1elec5  "
      ]
     },
     "execution_count": 26,
     "metadata": {},
     "output_type": "execute_result"
    }
   ],
   "source": [
    "nwb.electrodes.to_dataframe().head() # (DataFrame)"
   ]
  },
  {
   "cell_type": "code",
   "execution_count": 27,
   "id": "10108e0b",
   "metadata": {
    "execution": {
     "iopub.execute_input": "2025-04-15T12:19:52.782778Z",
     "iopub.status.busy": "2025-04-15T12:19:52.782561Z",
     "iopub.status.idle": "2025-04-15T12:19:52.785496Z",
     "shell.execute_reply": "2025-04-15T12:19:52.785106Z"
    },
    "lines_to_next_cell": 0
   },
   "outputs": [
    {
     "data": {
      "text/plain": [
       "'all electrodes'"
      ]
     },
     "execution_count": 27,
     "metadata": {},
     "output_type": "execute_result"
    }
   ],
   "source": [
    "nwb.electrodes.description # (str) all electrodes"
   ]
  },
  {
   "cell_type": "code",
   "execution_count": 28,
   "id": "77bef240",
   "metadata": {
    "execution": {
     "iopub.execute_input": "2025-04-15T12:19:52.786861Z",
     "iopub.status.busy": "2025-04-15T12:19:52.786669Z",
     "iopub.status.idle": "2025-04-15T12:19:52.789644Z",
     "shell.execute_reply": "2025-04-15T12:19:52.789239Z"
    },
    "lines_to_next_cell": 0
   },
   "outputs": [
    {
     "data": {
      "text/plain": [
       "('x', 'y', 'z', 'imp', 'location', 'filtering', 'group', 'group_name')"
      ]
     },
     "execution_count": 28,
     "metadata": {},
     "output_type": "execute_result"
    }
   ],
   "source": [
    "nwb.electrodes.colnames # (tuple) ['x', 'y', 'z', 'imp', 'location', 'filtering', 'group', 'group_name']"
   ]
  },
  {
   "cell_type": "markdown",
   "id": "f4e57afa",
   "metadata": {
    "lines_to_next_cell": 0
   },
   "source": [
    "## Explore Subject"
   ]
  },
  {
   "cell_type": "code",
   "execution_count": 29,
   "id": "6fd945d1",
   "metadata": {
    "execution": {
     "iopub.execute_input": "2025-04-15T12:19:52.791041Z",
     "iopub.status.busy": "2025-04-15T12:19:52.790838Z",
     "iopub.status.idle": "2025-04-15T12:19:52.793881Z",
     "shell.execute_reply": "2025-04-15T12:19:52.793458Z"
    },
    "lines_to_next_cell": 0
   },
   "outputs": [
    {
     "data": {
      "text/html": [
       "\n",
       "        <style>\n",
       "            .container-fields {\n",
       "                font-family: \"Open Sans\", Arial, sans-serif;\n",
       "            }\n",
       "            .container-fields .field-value {\n",
       "                color: #00788E;\n",
       "            }\n",
       "            .container-fields details > summary {\n",
       "                cursor: pointer;\n",
       "                display: list-item;\n",
       "            }\n",
       "            .container-fields details > summary:hover {\n",
       "                color: #0A6EAA;\n",
       "            }\n",
       "        </style>\n",
       "        \n",
       "        <script>\n",
       "            function copyToClipboard(text) {\n",
       "                navigator.clipboard.writeText(text).then(function() {\n",
       "                    console.log('Copied to clipboard: ' + text);\n",
       "                }, function(err) {\n",
       "                    console.error('Could not copy text: ', err);\n",
       "                });\n",
       "            }\n",
       "\n",
       "            document.addEventListener('DOMContentLoaded', function() {\n",
       "                let fieldKeys = document.querySelectorAll('.container-fields .field-key');\n",
       "                fieldKeys.forEach(function(fieldKey) {\n",
       "                    fieldKey.addEventListener('click', function() {\n",
       "                        let accessCode = fieldKey.getAttribute('title').replace('Access code: ', '');\n",
       "                        copyToClipboard(accessCode);\n",
       "                    });\n",
       "                });\n",
       "            });\n",
       "        </script>\n",
       "        <div class='container-wrap'><div class='container-header'><div class='xr-obj-type'><h3>subject (Subject)</h3></div></div><div style=\"margin-left: 0px;\" class=\"container-fields\"><span class=\"field-key\" title=\".age\">age: </span><span class=\"field-value\">P24W</span></div><div style=\"margin-left: 0px;\" class=\"container-fields\"><span class=\"field-key\" title=\".description\">description: </span><span class=\"field-value\">HSD:WI rat</span></div><div style=\"margin-left: 0px;\" class=\"container-fields\"><span class=\"field-key\" title=\".sex\">sex: </span><span class=\"field-value\">M</span></div><div style=\"margin-left: 0px;\" class=\"container-fields\"><span class=\"field-key\" title=\".species\">species: </span><span class=\"field-value\">Rattus norvegicus</span></div><div style=\"margin-left: 0px;\" class=\"container-fields\"><span class=\"field-key\" title=\".subject_id\">subject_id: </span><span class=\"field-value\">BH497</span></div></div>"
      ],
      "text/plain": [
       "subject pynwb.file.Subject at 0x140405737694096\n",
       "Fields:\n",
       "  age: P24W\n",
       "  description: HSD:WI rat\n",
       "  sex: M\n",
       "  species: Rattus norvegicus\n",
       "  subject_id: BH497"
      ]
     },
     "execution_count": 29,
     "metadata": {},
     "output_type": "execute_result"
    }
   ],
   "source": [
    "nwb.subject # (Subject)"
   ]
  },
  {
   "cell_type": "code",
   "execution_count": 30,
   "id": "0f581435",
   "metadata": {
    "execution": {
     "iopub.execute_input": "2025-04-15T12:19:52.795246Z",
     "iopub.status.busy": "2025-04-15T12:19:52.795047Z",
     "iopub.status.idle": "2025-04-15T12:19:52.797951Z",
     "shell.execute_reply": "2025-04-15T12:19:52.797551Z"
    },
    "lines_to_next_cell": 0
   },
   "outputs": [
    {
     "data": {
      "text/plain": [
       "'P24W'"
      ]
     },
     "execution_count": 30,
     "metadata": {},
     "output_type": "execute_result"
    }
   ],
   "source": [
    "nwb.subject.age # (str) P24W"
   ]
  },
  {
   "cell_type": "code",
   "execution_count": 31,
   "id": "3d9c6c8c",
   "metadata": {
    "execution": {
     "iopub.execute_input": "2025-04-15T12:19:52.799293Z",
     "iopub.status.busy": "2025-04-15T12:19:52.799094Z",
     "iopub.status.idle": "2025-04-15T12:19:52.802009Z",
     "shell.execute_reply": "2025-04-15T12:19:52.801613Z"
    },
    "lines_to_next_cell": 0
   },
   "outputs": [
    {
     "data": {
      "text/plain": [
       "'HSD:WI rat'"
      ]
     },
     "execution_count": 31,
     "metadata": {},
     "output_type": "execute_result"
    }
   ],
   "source": [
    "nwb.subject.description # (str) HSD:WI rat"
   ]
  },
  {
   "cell_type": "code",
   "execution_count": 32,
   "id": "130a5da7",
   "metadata": {
    "execution": {
     "iopub.execute_input": "2025-04-15T12:19:52.803347Z",
     "iopub.status.busy": "2025-04-15T12:19:52.803150Z",
     "iopub.status.idle": "2025-04-15T12:19:52.806049Z",
     "shell.execute_reply": "2025-04-15T12:19:52.805652Z"
    },
    "lines_to_next_cell": 0
   },
   "outputs": [
    {
     "data": {
      "text/plain": [
       "'M'"
      ]
     },
     "execution_count": 32,
     "metadata": {},
     "output_type": "execute_result"
    }
   ],
   "source": [
    "nwb.subject.sex # (str) M"
   ]
  },
  {
   "cell_type": "code",
   "execution_count": 33,
   "id": "94cff50c",
   "metadata": {
    "execution": {
     "iopub.execute_input": "2025-04-15T12:19:52.807489Z",
     "iopub.status.busy": "2025-04-15T12:19:52.807205Z",
     "iopub.status.idle": "2025-04-15T12:19:52.810104Z",
     "shell.execute_reply": "2025-04-15T12:19:52.809707Z"
    },
    "lines_to_next_cell": 0
   },
   "outputs": [
    {
     "data": {
      "text/plain": [
       "'Rattus norvegicus'"
      ]
     },
     "execution_count": 33,
     "metadata": {},
     "output_type": "execute_result"
    }
   ],
   "source": [
    "nwb.subject.species # (str) Rattus norvegicus"
   ]
  },
  {
   "cell_type": "code",
   "execution_count": 34,
   "id": "e200fdc7",
   "metadata": {
    "execution": {
     "iopub.execute_input": "2025-04-15T12:19:52.811459Z",
     "iopub.status.busy": "2025-04-15T12:19:52.811260Z",
     "iopub.status.idle": "2025-04-15T12:19:52.814165Z",
     "shell.execute_reply": "2025-04-15T12:19:52.813763Z"
    },
    "lines_to_next_cell": 0
   },
   "outputs": [
    {
     "data": {
      "text/plain": [
       "'BH497'"
      ]
     },
     "execution_count": 34,
     "metadata": {},
     "output_type": "execute_result"
    }
   ],
   "source": [
    "nwb.subject.subject_id # (str) BH497"
   ]
  },
  {
   "cell_type": "markdown",
   "id": "a2cfb969",
   "metadata": {
    "lines_to_next_cell": 0
   },
   "source": [
    "## Explore Units"
   ]
  },
  {
   "cell_type": "code",
   "execution_count": 35,
   "id": "f63d3a60",
   "metadata": {
    "execution": {
     "iopub.execute_input": "2025-04-15T12:19:52.815486Z",
     "iopub.status.busy": "2025-04-15T12:19:52.815287Z",
     "iopub.status.idle": "2025-04-15T12:19:52.821304Z",
     "shell.execute_reply": "2025-04-15T12:19:52.820914Z"
    },
    "lines_to_next_cell": 0
   },
   "outputs": [
    {
     "data": {
      "text/html": [
       "\n",
       "        <style>\n",
       "            .container-fields {\n",
       "                font-family: \"Open Sans\", Arial, sans-serif;\n",
       "            }\n",
       "            .container-fields .field-value {\n",
       "                color: #00788E;\n",
       "            }\n",
       "            .container-fields details > summary {\n",
       "                cursor: pointer;\n",
       "                display: list-item;\n",
       "            }\n",
       "            .container-fields details > summary:hover {\n",
       "                color: #0A6EAA;\n",
       "            }\n",
       "        </style>\n",
       "        \n",
       "        <script>\n",
       "            function copyToClipboard(text) {\n",
       "                navigator.clipboard.writeText(text).then(function() {\n",
       "                    console.log('Copied to clipboard: ' + text);\n",
       "                }, function(err) {\n",
       "                    console.error('Could not copy text: ', err);\n",
       "                });\n",
       "            }\n",
       "\n",
       "            document.addEventListener('DOMContentLoaded', function() {\n",
       "                let fieldKeys = document.querySelectorAll('.container-fields .field-key');\n",
       "                fieldKeys.forEach(function(fieldKey) {\n",
       "                    fieldKey.addEventListener('click', function() {\n",
       "                        let accessCode = fieldKey.getAttribute('title').replace('Access code: ', '');\n",
       "                        copyToClipboard(accessCode);\n",
       "                    });\n",
       "                });\n",
       "            });\n",
       "        </script>\n",
       "        <div class='container-wrap'><div class='container-header'><div class='xr-obj-type'><h3>units (Units)</h3></div></div><div style=\"margin-left: 0px;\" class=\"container-fields\"><span class=\"field-key\" title=\"\">description: </span><span class=\"field-value\">units table</span></div><div style=\"margin-left: 0px;\" class=\"container-fields\"><span class=\"field-key\" title=\"\">waveform_unit: </span><span class=\"field-value\">volts</span></div><details><summary style=\"display: list-item; margin-left: 0px;\" class=\"container-fields field-key\" title=\"\"><b>table</b></summary><table border=\"1\" class=\"dataframe\">\n",
       "  <thead>\n",
       "    <tr style=\"text-align: right;\">\n",
       "      <th></th>\n",
       "      <th>spike_times</th>\n",
       "      <th>celltype_label</th>\n",
       "    </tr>\n",
       "    <tr>\n",
       "      <th>id</th>\n",
       "      <th></th>\n",
       "      <th></th>\n",
       "    </tr>\n",
       "  </thead>\n",
       "  <tbody>\n",
       "    <tr>\n",
       "      <th>0</th>\n",
       "      <td>[0.07421952, 0.1521664, 0.1650688, 0.21364736, 0.33599488, 0.40730624, 0.59469824, 0.6424576, 0.7450624, 0.82542592, 0.8648704, 0.94691328, 1.0082304, 1.29581056, 1.39481088, 1.4733312, 1.606656, 1.77954816, 1.8624512, 1.93368064, 2.02940416, 2.15887872, 2.30670336, 2.34819584, 2.38338048, 2.46038528, 2.54189568, 2.55926272, 2.76545536, 2.7717632, 2.8727296, 3.11599104, 3.18042112, 3.28708096, 3.3206272, 3.50789632, 3.55741696, 3.61783296, 3.66657536, 3.74050816, 3.94309632, 4.05766144, 4.10185728, 4.2252288, 4.48835584, 4.5162496, 4.56962048, 4.6739456, 4.8252928, 5.05606144, 5.28162816, 5.30563072, 5.3415936, 5.35437312, 5.41200384, 5.56068864, 5.59853568, 5.63003392, 5.68864768, 5.78408448, 5.99498752, 6.0741632, 6.10430976, 6.18704896, 6.20232704, 6.28789248, 6.64035328, 6.65030656, 6.73927168, 6.83593728, 6.89700864, 6.93133312, 7.16263424, 7.25385216, 7.30472448, 7.54036736, 7.68741376, 7.8227456, 7.87017728, 8.00903168, 8.09467904, 8.12638208, 8.14055424, 8.23549952, 8.28162048, 8.29018112, 8.2919424, 8.33998848, 8.45594624, 8.51185664, 8.60827648, 8.68122624, 8.7713792, 8.77309952, 9.07882496, 9.12007168, 9.22816512, 9.23004928, 9.2659712, 9.37488384, ...]</td>\n",
       "      <td>2.0</td>\n",
       "    </tr>\n",
       "    <tr>\n",
       "      <th>1</th>\n",
       "      <td>[0.11517952, 0.16883712, 0.24428544, 0.25112576, 0.4612096, 0.47529984, 0.58744832, 0.74883072, 0.81895424, 0.95809536, 1.05537536, 1.07937792, 1.2343296, 1.32091904, 1.3631488, 1.48668416, 1.52920064, 1.83078912, 1.92454656, 1.9470336, 2.011136, 2.01834496, 2.03157504, 2.05254656, 2.05553664, 2.07081472, 2.14409216, 2.26787328, 2.28962304, 2.36343296, 2.38063616, 2.55361024, 2.7031552, 2.80317952, 2.82202112, 2.86633984, 3.0707712, 3.272704, 3.2950272, 3.41495808, 3.49069312, 3.5907584, 3.59931904, 3.64486656, 3.68812032, 3.77593856, 3.88640768, 3.96324864, 4.1033728, 4.15137792, 4.17042432, 4.22064128, 4.32914432, 4.38923264, 4.41335808, 4.69655552, 4.727808, 4.7423488, 4.77032448, 4.85593088, 5.03148544, 5.29702912, 5.36784896, 5.3966848, 5.42810112, 5.51784448, 5.57232128, 5.64690944, 5.75705088, 5.81296128, 5.86432512, 5.90839808, 6.05356032, 6.05802496, 6.10582528, 6.29264384, 6.68258304, 6.75557376, 6.7923968, 6.83839488, 6.87624192, 7.03488, 7.07948544, 7.14121216, 7.22591744, 7.39168256, 7.40098048, 7.41343232, 7.42055936, 7.46098688, 7.47741184, 7.66836736, 7.86477056, 8.04564992, 8.04999168, 8.13056, 8.1352704, 8.16693248, 8.1758208, 8.2450432, ...]</td>\n",
       "      <td>1.0</td>\n",
       "    </tr>\n",
       "    <tr>\n",
       "      <th>2</th>\n",
       "      <td>[0.02265088, 0.06856704, 0.21602304, 0.32260096, 0.35500032, 0.479232, 0.61792256, 0.63787008, 0.65888256, 0.67940352, 0.75943936, 0.8757248, 0.974848, 0.99221504, 1.0082304, 1.4184448, 1.48680704, 1.6226304, 1.6879616, 1.86261504, 1.87604992, 1.89681664, 2.15891968, 2.16080384, 2.23285248, 2.26983936, 2.4031232, 2.69266944, 2.70323712, 2.85999104, 3.0763008, 3.09878784, 3.3222656, 3.33778944, 3.36740352, 3.38366464, 3.40709376, 3.51780864, 3.69266688, 3.8223872, 4.1822208, 4.32705536, 4.34720768, 4.37743616, 4.51149824, 4.56032256, 4.60009472, 4.7110144, 4.73714688, 4.77282304, 4.80579584, 4.81275904, 4.85085184, 4.9938432, 5.00473856, 5.1083264, 5.12909312, 5.17050368, 5.199872, 5.36690688, 5.46254848, 5.59939584, 5.83634944, 5.99883776, 6.11393536, 6.12478976, 6.22043136, 6.38976, 6.4149504, 6.72206848, 6.73849344, 6.81955328, 6.84650496, 7.19888384, 7.33679616, 7.37562624, 7.74791168, 7.84044032, 8.05060608, 8.33339392, 8.97323008, 9.08050432, 9.16701184, 9.41293568, 9.59873024, 9.62670592, 9.66889472, 9.86083328, 10.22754816, 10.5115648, 10.51766784, 10.53323264, 10.75380224, 10.7995136, 10.9295616, 11.23147776, 11.37590272, 11.42427648, 11.49345792, 11.4972672, ...]</td>\n",
       "      <td>2.0</td>\n",
       "    </tr>\n",
       "    <tr>\n",
       "      <th>3</th>\n",
       "      <td>[0.11517952, 0.11943936, 0.86482944, 0.9811968, 1.0246144, 1.0493952, 1.26316544, 1.6058368, 1.94359296, 2.10661376, 2.22027776, 2.2562816, 2.3066624, 2.4713216, 2.56712704, 2.57798144, 2.5894912, 2.63016448, 2.73567744, 2.78196224, 3.03017984, 3.24292608, 3.26721536, 3.385344, 3.48008448, 3.58354944, 3.59698432, 3.7115904, 3.79441152, 3.96353536, 4.1179136, 4.12332032, 4.21400576, 4.22064128, 4.24374272, 4.31992832, 4.37469184, 4.39451648, 4.62618624, 4.74681344, 4.76168192, 5.01727232, 5.03140352, 5.16145152, 5.18864896, 5.30223104, 5.32332544, 5.49216256, 5.54172416, 5.55757568, 5.59017984, 5.60390144, 5.61741824, 5.72100608, 5.7481216, 5.8058752, 6.00326144, 6.05364224, 6.29387264, 6.43702784, 6.62028288, 6.73386496, 6.80869888, 6.90511872, 6.9423104, 7.12769536, 7.215104, 7.45299968, 7.50440448, 7.5067392, 7.51591424, 7.52340992, 7.52775168, 7.5812864, 7.6683264, 7.86296832, 8.2397184, 8.29284352, 8.32016384, 8.4338688, 8.50014208, 8.51283968, 8.9001984, 8.92084224, 8.93530112, 8.98039808, 9.05691136, 9.17049344, 9.2147712, 9.3251584, 9.37775104, 9.44627712, 9.51648256, 9.80054016, 9.98703104, 10.07706112, 10.31417856, 10.346496, 10.66614784, 10.77182464, ...]</td>\n",
       "      <td>1.0</td>\n",
       "    </tr>\n",
       "  </tbody>\n",
       "</table><p>... and 60 more rows.</p></details></div>"
      ],
      "text/plain": [
       "units pynwb.misc.Units at 0x140405737745488\n",
       "Fields:\n",
       "  colnames: ['spike_times' 'celltype_label']\n",
       "  columns: (\n",
       "    spike_times_index <class 'hdmf.common.table.VectorIndex'>,\n",
       "    spike_times <class 'hdmf.common.table.VectorData'>,\n",
       "    celltype_label <class 'hdmf.common.table.VectorData'>\n",
       "  )\n",
       "  description: units table\n",
       "  id: id <class 'hdmf.common.table.ElementIdentifiers'>\n",
       "  waveform_unit: volts"
      ]
     },
     "execution_count": 35,
     "metadata": {},
     "output_type": "execute_result"
    }
   ],
   "source": [
    "nwb.units # (Units)"
   ]
  },
  {
   "cell_type": "markdown",
   "id": "f0083f90",
   "metadata": {
    "lines_to_next_cell": 0
   },
   "source": [
    "Convert to a pandas DataFrame"
   ]
  },
  {
   "cell_type": "code",
   "execution_count": 36,
   "id": "c5c1dda7",
   "metadata": {
    "execution": {
     "iopub.execute_input": "2025-04-15T12:19:52.822705Z",
     "iopub.status.busy": "2025-04-15T12:19:52.822506Z",
     "iopub.status.idle": "2025-04-15T12:19:53.181060Z",
     "shell.execute_reply": "2025-04-15T12:19:53.180581Z"
    },
    "lines_to_next_cell": 0
   },
   "outputs": [
    {
     "data": {
      "text/html": [
       "<div>\n",
       "<style scoped>\n",
       "    .dataframe tbody tr th:only-of-type {\n",
       "        vertical-align: middle;\n",
       "    }\n",
       "\n",
       "    .dataframe tbody tr th {\n",
       "        vertical-align: top;\n",
       "    }\n",
       "\n",
       "    .dataframe thead th {\n",
       "        text-align: right;\n",
       "    }\n",
       "</style>\n",
       "<table border=\"1\" class=\"dataframe\">\n",
       "  <thead>\n",
       "    <tr style=\"text-align: right;\">\n",
       "      <th></th>\n",
       "      <th>spike_times</th>\n",
       "      <th>celltype_label</th>\n",
       "    </tr>\n",
       "    <tr>\n",
       "      <th>id</th>\n",
       "      <th></th>\n",
       "      <th></th>\n",
       "    </tr>\n",
       "  </thead>\n",
       "  <tbody>\n",
       "    <tr>\n",
       "      <th>0</th>\n",
       "      <td>[0.07421952, 0.1521664, 0.1650688, 0.21364736,...</td>\n",
       "      <td>2.0</td>\n",
       "    </tr>\n",
       "    <tr>\n",
       "      <th>1</th>\n",
       "      <td>[0.11517952, 0.16883712, 0.24428544, 0.2511257...</td>\n",
       "      <td>1.0</td>\n",
       "    </tr>\n",
       "    <tr>\n",
       "      <th>2</th>\n",
       "      <td>[0.02265088, 0.06856704, 0.21602304, 0.3226009...</td>\n",
       "      <td>2.0</td>\n",
       "    </tr>\n",
       "    <tr>\n",
       "      <th>3</th>\n",
       "      <td>[0.11517952, 0.11943936, 0.86482944, 0.9811968...</td>\n",
       "      <td>1.0</td>\n",
       "    </tr>\n",
       "    <tr>\n",
       "      <th>4</th>\n",
       "      <td>[0.04317184, 0.16596992, 0.58380288, 0.6155878...</td>\n",
       "      <td>2.0</td>\n",
       "    </tr>\n",
       "    <tr>\n",
       "      <th>...</th>\n",
       "      <td>...</td>\n",
       "      <td>...</td>\n",
       "    </tr>\n",
       "    <tr>\n",
       "      <th>59</th>\n",
       "      <td>[0.0729088, 0.32329728, 0.35483648, 0.53952512...</td>\n",
       "      <td>1.0</td>\n",
       "    </tr>\n",
       "    <tr>\n",
       "      <th>60</th>\n",
       "      <td>[0.04583424, 0.35938304, 0.3864576, 0.40267776...</td>\n",
       "      <td>2.0</td>\n",
       "    </tr>\n",
       "    <tr>\n",
       "      <th>61</th>\n",
       "      <td>[0.006144, 0.28430336, 0.48566272, 0.51789824,...</td>\n",
       "      <td>1.0</td>\n",
       "    </tr>\n",
       "    <tr>\n",
       "      <th>62</th>\n",
       "      <td>[0.31617024, 0.36130816, 0.68386816, 0.7742668...</td>\n",
       "      <td>2.0</td>\n",
       "    </tr>\n",
       "    <tr>\n",
       "      <th>63</th>\n",
       "      <td>[0.19714048, 0.2070528, 0.23945216, 0.344064, ...</td>\n",
       "      <td>1.0</td>\n",
       "    </tr>\n",
       "  </tbody>\n",
       "</table>\n",
       "<p>64 rows × 2 columns</p>\n",
       "</div>"
      ],
      "text/plain": [
       "                                          spike_times  celltype_label\n",
       "id                                                                   \n",
       "0   [0.07421952, 0.1521664, 0.1650688, 0.21364736,...             2.0\n",
       "1   [0.11517952, 0.16883712, 0.24428544, 0.2511257...             1.0\n",
       "2   [0.02265088, 0.06856704, 0.21602304, 0.3226009...             2.0\n",
       "3   [0.11517952, 0.11943936, 0.86482944, 0.9811968...             1.0\n",
       "4   [0.04317184, 0.16596992, 0.58380288, 0.6155878...             2.0\n",
       "..                                                ...             ...\n",
       "59  [0.0729088, 0.32329728, 0.35483648, 0.53952512...             1.0\n",
       "60  [0.04583424, 0.35938304, 0.3864576, 0.40267776...             2.0\n",
       "61  [0.006144, 0.28430336, 0.48566272, 0.51789824,...             1.0\n",
       "62  [0.31617024, 0.36130816, 0.68386816, 0.7742668...             2.0\n",
       "63  [0.19714048, 0.2070528, 0.23945216, 0.344064, ...             1.0\n",
       "\n",
       "[64 rows x 2 columns]"
      ]
     },
     "execution_count": 36,
     "metadata": {},
     "output_type": "execute_result"
    }
   ],
   "source": [
    "nwb.units.to_dataframe()"
   ]
  },
  {
   "cell_type": "markdown",
   "id": "f3ff6760",
   "metadata": {
    "lines_to_next_cell": 0
   },
   "source": [
    "Show the first few rows of the pandas DataFrame"
   ]
  },
  {
   "cell_type": "code",
   "execution_count": 37,
   "id": "59b184a8",
   "metadata": {
    "execution": {
     "iopub.execute_input": "2025-04-15T12:19:53.182708Z",
     "iopub.status.busy": "2025-04-15T12:19:53.182459Z",
     "iopub.status.idle": "2025-04-15T12:19:53.200801Z",
     "shell.execute_reply": "2025-04-15T12:19:53.200383Z"
    },
    "lines_to_next_cell": 0
   },
   "outputs": [
    {
     "data": {
      "text/html": [
       "<div>\n",
       "<style scoped>\n",
       "    .dataframe tbody tr th:only-of-type {\n",
       "        vertical-align: middle;\n",
       "    }\n",
       "\n",
       "    .dataframe tbody tr th {\n",
       "        vertical-align: top;\n",
       "    }\n",
       "\n",
       "    .dataframe thead th {\n",
       "        text-align: right;\n",
       "    }\n",
       "</style>\n",
       "<table border=\"1\" class=\"dataframe\">\n",
       "  <thead>\n",
       "    <tr style=\"text-align: right;\">\n",
       "      <th></th>\n",
       "      <th>spike_times</th>\n",
       "      <th>celltype_label</th>\n",
       "    </tr>\n",
       "    <tr>\n",
       "      <th>id</th>\n",
       "      <th></th>\n",
       "      <th></th>\n",
       "    </tr>\n",
       "  </thead>\n",
       "  <tbody>\n",
       "    <tr>\n",
       "      <th>0</th>\n",
       "      <td>[0.07421952, 0.1521664, 0.1650688, 0.21364736,...</td>\n",
       "      <td>2.0</td>\n",
       "    </tr>\n",
       "    <tr>\n",
       "      <th>1</th>\n",
       "      <td>[0.11517952, 0.16883712, 0.24428544, 0.2511257...</td>\n",
       "      <td>1.0</td>\n",
       "    </tr>\n",
       "    <tr>\n",
       "      <th>2</th>\n",
       "      <td>[0.02265088, 0.06856704, 0.21602304, 0.3226009...</td>\n",
       "      <td>2.0</td>\n",
       "    </tr>\n",
       "    <tr>\n",
       "      <th>3</th>\n",
       "      <td>[0.11517952, 0.11943936, 0.86482944, 0.9811968...</td>\n",
       "      <td>1.0</td>\n",
       "    </tr>\n",
       "    <tr>\n",
       "      <th>4</th>\n",
       "      <td>[0.04317184, 0.16596992, 0.58380288, 0.6155878...</td>\n",
       "      <td>2.0</td>\n",
       "    </tr>\n",
       "  </tbody>\n",
       "</table>\n",
       "</div>"
      ],
      "text/plain": [
       "                                          spike_times  celltype_label\n",
       "id                                                                   \n",
       "0   [0.07421952, 0.1521664, 0.1650688, 0.21364736,...             2.0\n",
       "1   [0.11517952, 0.16883712, 0.24428544, 0.2511257...             1.0\n",
       "2   [0.02265088, 0.06856704, 0.21602304, 0.3226009...             2.0\n",
       "3   [0.11517952, 0.11943936, 0.86482944, 0.9811968...             1.0\n",
       "4   [0.04317184, 0.16596992, 0.58380288, 0.6155878...             2.0"
      ]
     },
     "execution_count": 37,
     "metadata": {},
     "output_type": "execute_result"
    }
   ],
   "source": [
    "nwb.units.to_dataframe().head()"
   ]
  },
  {
   "cell_type": "code",
   "execution_count": 38,
   "id": "d89e75d6",
   "metadata": {
    "execution": {
     "iopub.execute_input": "2025-04-15T12:19:53.202439Z",
     "iopub.status.busy": "2025-04-15T12:19:53.202214Z",
     "iopub.status.idle": "2025-04-15T12:19:53.205311Z",
     "shell.execute_reply": "2025-04-15T12:19:53.204895Z"
    },
    "lines_to_next_cell": 0
   },
   "outputs": [
    {
     "data": {
      "text/plain": [
       "'units table'"
      ]
     },
     "execution_count": 38,
     "metadata": {},
     "output_type": "execute_result"
    }
   ],
   "source": [
    "nwb.units.description # (str) units table"
   ]
  },
  {
   "cell_type": "code",
   "execution_count": 39,
   "id": "a3bd6e15",
   "metadata": {
    "execution": {
     "iopub.execute_input": "2025-04-15T12:19:53.206806Z",
     "iopub.status.busy": "2025-04-15T12:19:53.206579Z",
     "iopub.status.idle": "2025-04-15T12:19:53.209663Z",
     "shell.execute_reply": "2025-04-15T12:19:53.209225Z"
    },
    "lines_to_next_cell": 0
   },
   "outputs": [
    {
     "data": {
      "text/plain": [
       "('spike_times', 'celltype_label')"
      ]
     },
     "execution_count": 39,
     "metadata": {},
     "output_type": "execute_result"
    }
   ],
   "source": [
    "nwb.units.colnames # (tuple) ['spike_times', 'celltype_label']"
   ]
  },
  {
   "cell_type": "code",
   "execution_count": 40,
   "id": "67063ae5",
   "metadata": {
    "execution": {
     "iopub.execute_input": "2025-04-15T12:19:53.211125Z",
     "iopub.status.busy": "2025-04-15T12:19:53.210868Z",
     "iopub.status.idle": "2025-04-15T12:19:53.213786Z",
     "shell.execute_reply": "2025-04-15T12:19:53.213358Z"
    },
    "lines_to_next_cell": 0
   },
   "outputs": [
    {
     "data": {
      "text/plain": [
       "'volts'"
      ]
     },
     "execution_count": 40,
     "metadata": {},
     "output_type": "execute_result"
    }
   ],
   "source": [
    "nwb.units.waveform_unit # (str) volts"
   ]
  },
  {
   "cell_type": "markdown",
   "id": "c99b0086",
   "metadata": {},
   "source": [
    "## Load and Visualize Spike Times\n",
    "\n",
    "Here, we will load the spike times and cell type labels from the `units` table and plot the spike times for each cell type.\n",
    "\n",
    "**Note:** We are only loading the first 10 units to avoid loading too much data."
   ]
  },
  {
   "cell_type": "code",
   "execution_count": 41,
   "id": "6cf7cb90",
   "metadata": {
    "execution": {
     "iopub.execute_input": "2025-04-15T12:19:53.215231Z",
     "iopub.status.busy": "2025-04-15T12:19:53.215024Z",
     "iopub.status.idle": "2025-04-15T12:19:53.596099Z",
     "shell.execute_reply": "2025-04-15T12:19:53.595640Z"
    }
   },
   "outputs": [
    {
     "data": {
      "image/png": "[encoded data removed]",
      "text/plain": [
       "<Figure size 1000x600 with 1 Axes>"
      ]
     },
     "metadata": {},
     "output_type": "display_data"
    }
   ],
   "source": [
    "units_df = nwb.units.to_dataframe().head(10)\n",
    "spike_times = units_df['spike_times']\n",
    "celltype_labels = units_df['celltype_label']\n",
    "\n",
    "# Plot spike times for each cell type\n",
    "plt.figure(figsize=(10, 6))\n",
    "for i in range(len(units_df)):\n",
    "    plt.scatter(spike_times[i], np.ones_like(spike_times[i]) * i, label=celltype_labels[i], s=5)\n",
    "\n",
    "plt.xlabel('Time (s)')\n",
    "plt.ylabel('Unit Index')\n",
    "plt.title('Spike Times for First 10 Units')\n",
    "plt.legend(loc='upper right')\n",
    "plt.show()"
   ]
  },
  {
   "cell_type": "markdown",
   "id": "3cfd7a30",
   "metadata": {},
   "source": [
    "## Load and Visualize Trial Start and Stop Times\n",
    "\n",
    "Here, we will load the start and stop times for each trial from the `trials` table and plot them.\n",
    "\n",
    "**Note:** We are only loading the first 10 trials to avoid loading too much data."
   ]
  },
  {
   "cell_type": "code",
   "execution_count": 42,
   "id": "fbb05015",
   "metadata": {
    "execution": {
     "iopub.execute_input": "2025-04-15T12:19:53.597798Z",
     "iopub.status.busy": "2025-04-15T12:19:53.597567Z",
     "iopub.status.idle": "2025-04-15T12:19:53.711666Z",
     "shell.execute_reply": "2025-04-15T12:19:53.711234Z"
    }
   },
   "outputs": [
    {
     "data": {
      "image/png": "[encoded data removed]",
      "text/plain": [
       "<Figure size 1000x600 with 1 Axes>"
      ]
     },
     "metadata": {},
     "output_type": "display_data"
    }
   ],
   "source": [
    "trials_df = nwb.trials.to_dataframe().head(10)\n",
    "start_times = trials_df['start_time']\n",
    "stop_times = trials_df['stop_time']\n",
    "\n",
    "# Plot trial start and stop times\n",
    "plt.figure(figsize=(10, 6))\n",
    "plt.vlines(start_times, ymin=0, ymax=1, color='g', label='Start Time')\n",
    "plt.vlines(stop_times, ymin=0, ymax=1, color='r', label='Stop Time')\n",
    "plt.xlabel('Time (s)')\n",
    "plt.ylabel('Trial')\n",
    "plt.title('Trial Start and Stop Times for First 10 Trials')\n",
    "plt.legend()\n",
    "plt.yticks([])\n",
    "plt.show()"
   ]
  },
  {
   "cell_type": "markdown",
   "id": "617a7338",
   "metadata": {},
   "source": [
    "## Summary and Future Directions\n",
    "\n",
    "This notebook demonstrated how to load and explore data from Dandiset 000945, including:\n",
    "- Loading the Dandiset using the DANDI API.\n",
    "- Accessing and exploring the available assets (NWB files).\n",
    "- Loading metadata from a selected NWB file.\n",
    "- Loading and visualizing electrophysiology data (spike times and cell type labels).\n",
    "- Loading and visualizing trial information.\n",
    "\n",
    "Possible future directions for analysis include:\n",
    "- Performing more in-depth analysis of the electrophysiology data, such as spike sorting and analysis of firing rates.\n",
    "- Investigating the relationship between the ultrasound stimulation and the neural activity.\n",
    "- Comparing the neural activity across different PRFs and anesthesia conditions.\n",
    "- Analyzing the data from other NWB files in the Dandiset."
   ]
  }
 ],
 "metadata": {
  "jupytext": {
   "cell_metadata_filter": "-all",
   "main_language": "python",
   "notebook_metadata_filter": "-all"
  },
  "language_info": {
   "codemirror_mode": {
    "name": "ipython",
    "version": 3
   },
   "file_extension": ".py",
   "mimetype": "text/x-python",
   "name": "python",
   "nbconvert_exporter": "python",
   "pygments_lexer": "ipython3",
   "version": "3.11.10"
  }
 },
 "nbformat": 4,
 "nbformat_minor": 5
}
