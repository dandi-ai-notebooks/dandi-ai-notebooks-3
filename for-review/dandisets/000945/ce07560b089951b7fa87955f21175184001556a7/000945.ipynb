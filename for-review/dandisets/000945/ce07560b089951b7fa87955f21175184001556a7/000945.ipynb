{
 "cells": [
  {
   "cell_type": "markdown",
   "id": "c63ea0b5",
   "metadata": {},
   "source": [
    "# 🧠 Dandiset 000945 Data Exploration\n",
    "\n",
    "**This notebook was *AI-generated* using *dandi-notebook-gen* and has *not* been fully verified by a human. Use caution when interpreting its analyses.**\n",
    "\n",
    "---\n",
    "\n",
    "## Overview\n",
    "\n",
    "**Dandiset ID:** DANDI:000945  \n",
    "**Title:** Neural Spiking Data in the Awake Rat Somatosensory Cortex Responding to Trials of Transcranial Focused Ultrasound Stimulation\n",
    "\n",
    "**Citation:**  \n",
    "Ramachandran, Sandhya; Gao, Huan; Yu, Kai; He, Bin (2025). Neural Spiking Data in the Awake Rat Somatosensory Cortex Responding to Trials of Transcranial Focused Ultrasound Stimulation (Version draft) [Data set]. DANDI Archive. https://dandiarchive.org/dandiset/000945/draft\n",
    "\n",
    "**Description:**  \n",
    "Electrophysiological recordings acquired using 32-channel NeuroNexus electrodes implanted into awake rats, during trials of transcranial focused ultrasound stimulation (tFUS). Multiple pulse repetition frequencies (PRFs) were tested across repeated sessions. Data include spike times labeled with cell types and times for each trial onset.\n",
    "\n",
    "---\n",
    "\n",
    "## Getting started\n",
    "\n",
    "This notebook uses:\n",
    "- `dandi`\n",
    "- `pynwb`\n",
    "- `h5py`\n",
    "- `remfile`\n",
    "- `numpy`\n",
    "- `matplotlib`\n",
    "- `seaborn`\n",
    "\n",
    "Please ensure these are installed before continuing."
   ]
  },
  {
   "cell_type": "code",
   "execution_count": 1,
   "id": "91b05131",
   "metadata": {
    "execution": {
     "iopub.execute_input": "2025-04-10T17:54:43.043195Z",
     "iopub.status.busy": "2025-04-10T17:54:43.042887Z",
     "iopub.status.idle": "2025-04-10T17:54:44.074840Z",
     "shell.execute_reply": "2025-04-10T17:54:44.074170Z"
    }
   },
   "outputs": [],
   "source": [
    "import numpy as np\n",
    "import matplotlib.pyplot as plt\n",
    "import seaborn as sns\n",
    "import pynwb\n",
    "import h5py\n",
    "import remfile\n",
    "from dandi.dandiapi import DandiAPIClient\n",
    "\n",
    "sns.set_theme()\n",
    "plt.rcParams['figure.figsize'] = (10, 6)"
   ]
  },
  {
   "cell_type": "markdown",
   "id": "0dd3f4a7",
   "metadata": {},
   "source": [
    "## List all assets in the Dandiset"
   ]
  },
  {
   "cell_type": "code",
   "execution_count": 2,
   "id": "33961494",
   "metadata": {
    "execution": {
     "iopub.execute_input": "2025-04-10T17:54:44.076556Z",
     "iopub.status.busy": "2025-04-10T17:54:44.076314Z",
     "iopub.status.idle": "2025-04-10T17:54:47.479126Z",
     "shell.execute_reply": "2025-04-10T17:54:47.478184Z"
    }
   },
   "outputs": [
    {
     "name": "stdout",
     "output_type": "stream",
     "text": [
      "Found 75 assets.\n",
      "1: sub-BH498/sub-BH498_ses-20240306T124227_ecephys.nwb\n",
      "2: sub-BH498/sub-BH498_ses-20240305T200606_ecephys.nwb\n",
      "3: sub-BH498/sub-BH498_ses-20240305T191833_ecephys.nwb\n",
      "4: sub-BH498/sub-BH498_ses-20230906T180913_ecephys.nwb\n",
      "5: sub-BH498/sub-BH498_ses-20240305T204552_ecephys.nwb\n"
     ]
    }
   ],
   "source": [
    "client = DandiAPIClient()\n",
    "dandiset = client.get_dandiset(\"000945\")\n",
    "assets = list(dandiset.get_assets())\n",
    "print(f\"Found {len(assets)} assets.\")\n",
    "# Display first 5 asset paths\n",
    "for i, asset in enumerate(assets[:5]):\n",
    "    print(f\"{i+1}: {asset.path}\")"
   ]
  },
  {
   "cell_type": "markdown",
   "id": "77b53174",
   "metadata": {},
   "source": [
    "## Load selected NWB file\n",
    "\n",
    "We'll load one NWB file as an example. You can modify the URL or asset to explore others."
   ]
  },
  {
   "cell_type": "code",
   "execution_count": 3,
   "id": "bef5dbaf",
   "metadata": {
    "execution": {
     "iopub.execute_input": "2025-04-10T17:54:47.482765Z",
     "iopub.status.busy": "2025-04-10T17:54:47.481555Z",
     "iopub.status.idle": "2025-04-10T17:54:50.959424Z",
     "shell.execute_reply": "2025-04-10T17:54:50.958837Z"
    }
   },
   "outputs": [
    {
     "name": "stdout",
     "output_type": "stream",
     "text": [
      "Session description: Awake S1 Stimulation by tFUS\n",
      "Subject ID: BH497\n",
      "Subject species: Rattus norvegicus, Sex: M, Age: P24W\n",
      "Institution: Carnegie Mellon University\n"
     ]
    },
    {
     "name": "stderr",
     "output_type": "stream",
     "text": [
      "/home/magland/miniconda3/envs/dev/lib/python3.12/site-packages/hdmf/spec/namespace.py:535: UserWarning: Ignoring cached namespace 'hdmf-common' version 1.5.0 because version 1.8.0 is already loaded.\n",
      "  warn(\"Ignoring cached namespace '%s' version %s because version %s is already loaded.\"\n",
      "/home/magland/miniconda3/envs/dev/lib/python3.12/site-packages/hdmf/spec/namespace.py:535: UserWarning: Ignoring cached namespace 'core' version 2.5.0 because version 2.7.0 is already loaded.\n",
      "  warn(\"Ignoring cached namespace '%s' version %s because version %s is already loaded.\"\n",
      "/home/magland/miniconda3/envs/dev/lib/python3.12/site-packages/hdmf/spec/namespace.py:535: UserWarning: Ignoring cached namespace 'hdmf-experimental' version 0.1.0 because version 0.5.0 is already loaded.\n",
      "  warn(\"Ignoring cached namespace '%s' version %s because version %s is already loaded.\"\n"
     ]
    }
   ],
   "source": [
    "url = \"https://api.dandiarchive.org/api/assets/a4e04662-e4cb-49f3-9076-41e04e833a11/download/\"\n",
    "\n",
    "fileobj = remfile.File(url)\n",
    "f = h5py.File(fileobj)\n",
    "io = pynwb.NWBHDF5IO(file=f, load_namespaces=True)\n",
    "nwbfile = io.read()\n",
    "\n",
    "print(f\"Session description: {nwbfile.session_description}\")\n",
    "print(f\"Subject ID: {nwbfile.subject.subject_id}\")\n",
    "print(f\"Subject species: {nwbfile.subject.species}, Sex: {nwbfile.subject.sex}, Age: {nwbfile.subject.age}\")\n",
    "print(f\"Institution: {nwbfile.institution}\")"
   ]
  },
  {
   "cell_type": "markdown",
   "id": "21fc4950",
   "metadata": {},
   "source": [
    "## Trials metadata"
   ]
  },
  {
   "cell_type": "code",
   "execution_count": 4,
   "id": "52af245a",
   "metadata": {
    "execution": {
     "iopub.execute_input": "2025-04-10T17:54:50.961224Z",
     "iopub.status.busy": "2025-04-10T17:54:50.960951Z",
     "iopub.status.idle": "2025-04-10T17:54:50.968413Z",
     "shell.execute_reply": "2025-04-10T17:54:50.968132Z"
    }
   },
   "outputs": [
    {
     "name": "stdout",
     "output_type": "stream",
     "text": [
      "Number of trials: 500\n"
     ]
    },
    {
     "data": {
      "text/html": [
       "<div>\n",
       "<style scoped>\n",
       "    .dataframe tbody tr th:only-of-type {\n",
       "        vertical-align: middle;\n",
       "    }\n",
       "\n",
       "    .dataframe tbody tr th {\n",
       "        vertical-align: top;\n",
       "    }\n",
       "\n",
       "    .dataframe thead th {\n",
       "        text-align: right;\n",
       "    }\n",
       "</style>\n",
       "<table border=\"1\" class=\"dataframe\">\n",
       "  <thead>\n",
       "    <tr style=\"text-align: right;\">\n",
       "      <th></th>\n",
       "      <th>start_time</th>\n",
       "      <th>stop_time</th>\n",
       "    </tr>\n",
       "  </thead>\n",
       "  <tbody>\n",
       "    <tr>\n",
       "      <th>0</th>\n",
       "      <td>0.408248</td>\n",
       "      <td>2.608248</td>\n",
       "    </tr>\n",
       "    <tr>\n",
       "      <th>1</th>\n",
       "      <td>3.050619</td>\n",
       "      <td>5.250619</td>\n",
       "    </tr>\n",
       "    <tr>\n",
       "      <th>2</th>\n",
       "      <td>5.559296</td>\n",
       "      <td>7.759296</td>\n",
       "    </tr>\n",
       "    <tr>\n",
       "      <th>3</th>\n",
       "      <td>8.108483</td>\n",
       "      <td>10.308483</td>\n",
       "    </tr>\n",
       "    <tr>\n",
       "      <th>4</th>\n",
       "      <td>10.392863</td>\n",
       "      <td>12.592863</td>\n",
       "    </tr>\n",
       "  </tbody>\n",
       "</table>\n",
       "</div>"
      ],
      "text/plain": [
       "   start_time  stop_time\n",
       "0    0.408248   2.608248\n",
       "1    3.050619   5.250619\n",
       "2    5.559296   7.759296\n",
       "3    8.108483  10.308483\n",
       "4   10.392863  12.592863"
      ]
     },
     "execution_count": 4,
     "metadata": {},
     "output_type": "execute_result"
    }
   ],
   "source": [
    "trials = nwbfile.trials\n",
    "print(f\"Number of trials: {len(trials)}\")\n",
    "\n",
    "# Show start & stop times for first 10 trials\n",
    "import pandas as pd\n",
    "trial_df = pd.DataFrame({\n",
    "    'start_time': trials['start_time'][:10],\n",
    "    'stop_time': trials['stop_time'][:10]\n",
    "})\n",
    "trial_df.head()"
   ]
  },
  {
   "cell_type": "markdown",
   "id": "29642a1c",
   "metadata": {},
   "source": [
    "## Units (neurons) metadata"
   ]
  },
  {
   "cell_type": "code",
   "execution_count": 5,
   "id": "f48deb61",
   "metadata": {
    "execution": {
     "iopub.execute_input": "2025-04-10T17:54:50.970084Z",
     "iopub.status.busy": "2025-04-10T17:54:50.969977Z",
     "iopub.status.idle": "2025-04-10T17:54:50.974381Z",
     "shell.execute_reply": "2025-04-10T17:54:50.974121Z"
    }
   },
   "outputs": [
    {
     "name": "stdout",
     "output_type": "stream",
     "text": [
      "Number of units: 64\n",
      "Unit columns: ('spike_times', 'celltype_label')\n"
     ]
    },
    {
     "data": {
      "text/html": [
       "<div>\n",
       "<style scoped>\n",
       "    .dataframe tbody tr th:only-of-type {\n",
       "        vertical-align: middle;\n",
       "    }\n",
       "\n",
       "    .dataframe tbody tr th {\n",
       "        vertical-align: top;\n",
       "    }\n",
       "\n",
       "    .dataframe thead th {\n",
       "        text-align: right;\n",
       "    }\n",
       "</style>\n",
       "<table border=\"1\" class=\"dataframe\">\n",
       "  <thead>\n",
       "    <tr style=\"text-align: right;\">\n",
       "      <th></th>\n",
       "      <th>unit_id</th>\n",
       "      <th>celltype</th>\n",
       "    </tr>\n",
       "  </thead>\n",
       "  <tbody>\n",
       "    <tr>\n",
       "      <th>0</th>\n",
       "      <td>0</td>\n",
       "      <td>2.0</td>\n",
       "    </tr>\n",
       "    <tr>\n",
       "      <th>1</th>\n",
       "      <td>1</td>\n",
       "      <td>1.0</td>\n",
       "    </tr>\n",
       "    <tr>\n",
       "      <th>2</th>\n",
       "      <td>2</td>\n",
       "      <td>2.0</td>\n",
       "    </tr>\n",
       "    <tr>\n",
       "      <th>3</th>\n",
       "      <td>3</td>\n",
       "      <td>1.0</td>\n",
       "    </tr>\n",
       "    <tr>\n",
       "      <th>4</th>\n",
       "      <td>4</td>\n",
       "      <td>2.0</td>\n",
       "    </tr>\n",
       "  </tbody>\n",
       "</table>\n",
       "</div>"
      ],
      "text/plain": [
       "   unit_id  celltype\n",
       "0        0       2.0\n",
       "1        1       1.0\n",
       "2        2       2.0\n",
       "3        3       1.0\n",
       "4        4       2.0"
      ]
     },
     "execution_count": 5,
     "metadata": {},
     "output_type": "execute_result"
    }
   ],
   "source": [
    "units = nwbfile.units\n",
    "print(f\"Number of units: {len(units)}\")\n",
    "print(\"Unit columns:\", units.colnames)\n",
    "\n",
    "unit_ids = units.id[:]\n",
    "celltypes = units['celltype_label'][:]\n",
    "\n",
    "# Show first 10 unit IDs and cell types\n",
    "unit_table = pd.DataFrame({'unit_id': unit_ids[:10], 'celltype': celltypes[:10]})\n",
    "unit_table.head()"
   ]
  },
  {
   "cell_type": "markdown",
   "id": "2b177b1c",
   "metadata": {},
   "source": [
    "## Raster plot of spike times for a subset of units"
   ]
  },
  {
   "cell_type": "code",
   "execution_count": 6,
   "id": "21ce4a1f",
   "metadata": {
    "execution": {
     "iopub.execute_input": "2025-04-10T17:54:50.975703Z",
     "iopub.status.busy": "2025-04-10T17:54:50.975559Z",
     "iopub.status.idle": "2025-04-10T17:54:55.200051Z",
     "shell.execute_reply": "2025-04-10T17:54:55.199450Z"
    }
   },
   "outputs": [
    {
     "data": {
      "image/png": "[encoded data removed]",
      "text/plain": [
       "<Figure size 1200x600 with 1 Axes>"
      ]
     },
     "metadata": {},
     "output_type": "display_data"
    }
   ],
   "source": [
    "fig, ax = plt.subplots(figsize=(12,6))\n",
    "num_units_to_show = min(10, len(unit_ids))\n",
    "for i in range(num_units_to_show):\n",
    "    unit_id = unit_ids[i]\n",
    "    spike_times = units['spike_times'][i]  # This is an array of spike times for this unit\n",
    "    # For large spike trains, plot only first 1000 spikes to avoid overplotting\n",
    "    spike_times = spike_times[:1000] if len(spike_times) > 1000 else spike_times\n",
    "    ax.scatter(spike_times, np.full_like(spike_times, i), s=1)\n",
    "ax.set_xlabel('Time (s)')\n",
    "ax.set_ylabel('Unit index')\n",
    "ax.set_title('Raster plot of spike times (subset of units)')\n",
    "plt.show()"
   ]
  },
  {
   "cell_type": "markdown",
   "id": "2a439969",
   "metadata": {},
   "source": [
    "## Electrode information"
   ]
  },
  {
   "cell_type": "code",
   "execution_count": 7,
   "id": "c371658b",
   "metadata": {
    "execution": {
     "iopub.execute_input": "2025-04-10T17:54:55.201657Z",
     "iopub.status.busy": "2025-04-10T17:54:55.201493Z",
     "iopub.status.idle": "2025-04-10T17:54:55.213206Z",
     "shell.execute_reply": "2025-04-10T17:54:55.212587Z"
    }
   },
   "outputs": [
    {
     "name": "stdout",
     "output_type": "stream",
     "text": [
      "Number of electrodes: 32\n",
      "Electrode columns: ('x', 'y', 'z', 'imp', 'location', 'filtering', 'group', 'group_name')\n"
     ]
    },
    {
     "data": {
      "text/html": [
       "<div>\n",
       "<style scoped>\n",
       "    .dataframe tbody tr th:only-of-type {\n",
       "        vertical-align: middle;\n",
       "    }\n",
       "\n",
       "    .dataframe tbody tr th {\n",
       "        vertical-align: top;\n",
       "    }\n",
       "\n",
       "    .dataframe thead th {\n",
       "        text-align: right;\n",
       "    }\n",
       "</style>\n",
       "<table border=\"1\" class=\"dataframe\">\n",
       "  <thead>\n",
       "    <tr style=\"text-align: right;\">\n",
       "      <th></th>\n",
       "      <th>x</th>\n",
       "      <th>y</th>\n",
       "      <th>z</th>\n",
       "      <th>imp</th>\n",
       "      <th>location</th>\n",
       "      <th>filtering</th>\n",
       "      <th>group</th>\n",
       "      <th>group_name</th>\n",
       "    </tr>\n",
       "  </thead>\n",
       "  <tbody>\n",
       "    <tr>\n",
       "      <th>0</th>\n",
       "      <td>1.0</td>\n",
       "      <td>10.0</td>\n",
       "      <td>0.0</td>\n",
       "      <td>NaN</td>\n",
       "      <td>unknown</td>\n",
       "      <td>unknown</td>\n",
       "      <td>shank1 pynwb.ecephys.ElectrodeGroup at 0x13507...</td>\n",
       "      <td>shank1elec1</td>\n",
       "    </tr>\n",
       "    <tr>\n",
       "      <th>1</th>\n",
       "      <td>1.0</td>\n",
       "      <td>11.0</td>\n",
       "      <td>0.0</td>\n",
       "      <td>NaN</td>\n",
       "      <td>unknown</td>\n",
       "      <td>unknown</td>\n",
       "      <td>shank1 pynwb.ecephys.ElectrodeGroup at 0x13507...</td>\n",
       "      <td>shank1elec2</td>\n",
       "    </tr>\n",
       "    <tr>\n",
       "      <th>2</th>\n",
       "      <td>1.0</td>\n",
       "      <td>9.0</td>\n",
       "      <td>0.0</td>\n",
       "      <td>NaN</td>\n",
       "      <td>unknown</td>\n",
       "      <td>unknown</td>\n",
       "      <td>shank1 pynwb.ecephys.ElectrodeGroup at 0x13507...</td>\n",
       "      <td>shank1elec3</td>\n",
       "    </tr>\n",
       "    <tr>\n",
       "      <th>3</th>\n",
       "      <td>1.0</td>\n",
       "      <td>8.0</td>\n",
       "      <td>0.0</td>\n",
       "      <td>NaN</td>\n",
       "      <td>unknown</td>\n",
       "      <td>unknown</td>\n",
       "      <td>shank1 pynwb.ecephys.ElectrodeGroup at 0x13507...</td>\n",
       "      <td>shank1elec4</td>\n",
       "    </tr>\n",
       "    <tr>\n",
       "      <th>4</th>\n",
       "      <td>1.0</td>\n",
       "      <td>7.0</td>\n",
       "      <td>0.0</td>\n",
       "      <td>NaN</td>\n",
       "      <td>unknown</td>\n",
       "      <td>unknown</td>\n",
       "      <td>shank1 pynwb.ecephys.ElectrodeGroup at 0x13507...</td>\n",
       "      <td>shank1elec5</td>\n",
       "    </tr>\n",
       "  </tbody>\n",
       "</table>\n",
       "</div>"
      ],
      "text/plain": [
       "     x     y    z  imp location filtering  \\\n",
       "0  1.0  10.0  0.0  NaN  unknown   unknown   \n",
       "1  1.0  11.0  0.0  NaN  unknown   unknown   \n",
       "2  1.0   9.0  0.0  NaN  unknown   unknown   \n",
       "3  1.0   8.0  0.0  NaN  unknown   unknown   \n",
       "4  1.0   7.0  0.0  NaN  unknown   unknown   \n",
       "\n",
       "                                               group   group_name  \n",
       "0  shank1 pynwb.ecephys.ElectrodeGroup at 0x13507...  shank1elec1  \n",
       "1  shank1 pynwb.ecephys.ElectrodeGroup at 0x13507...  shank1elec2  \n",
       "2  shank1 pynwb.ecephys.ElectrodeGroup at 0x13507...  shank1elec3  \n",
       "3  shank1 pynwb.ecephys.ElectrodeGroup at 0x13507...  shank1elec4  \n",
       "4  shank1 pynwb.ecephys.ElectrodeGroup at 0x13507...  shank1elec5  "
      ]
     },
     "execution_count": 7,
     "metadata": {},
     "output_type": "execute_result"
    }
   ],
   "source": [
    "elecs = nwbfile.electrodes\n",
    "print(f\"Number of electrodes: {len(elecs)}\")\n",
    "print(\"Electrode columns:\", elecs.colnames)\n",
    "\n",
    "elec_df = pd.DataFrame({col: elecs[col][:] for col in elecs.colnames})\n",
    "elec_df.head()"
   ]
  },
  {
   "cell_type": "markdown",
   "id": "46648f06",
   "metadata": {},
   "source": [
    "## Plot electrode positions colored by impedance"
   ]
  },
  {
   "cell_type": "code",
   "execution_count": 8,
   "id": "24e53aff",
   "metadata": {
    "execution": {
     "iopub.execute_input": "2025-04-10T17:54:55.214536Z",
     "iopub.status.busy": "2025-04-10T17:54:55.214442Z",
     "iopub.status.idle": "2025-04-10T17:54:55.290032Z",
     "shell.execute_reply": "2025-04-10T17:54:55.289482Z"
    }
   },
   "outputs": [
    {
     "data": {
      "image/png": "[encoded data removed]",
      "text/plain": [
       "<Figure size 1000x600 with 2 Axes>"
      ]
     },
     "metadata": {},
     "output_type": "display_data"
    }
   ],
   "source": [
    "fig, ax = plt.subplots()\n",
    "scatter = ax.scatter(elec_df['x'], elec_df['y'], c=elec_df['imp'])\n",
    "ax.set_xlabel('x (um)')\n",
    "ax.set_ylabel('y (um)')\n",
    "ax.set_title('Electrode positions by impedance')\n",
    "cbar = plt.colorbar(scatter, ax=ax)\n",
    "cbar.set_label('Impedance (MOhm)')\n",
    "plt.show()"
   ]
  },
  {
   "cell_type": "markdown",
   "id": "98574eec",
   "metadata": {},
   "source": [
    "## Summary\n",
    "\n",
    "This notebook loaded a DANDI NWB file remotely, summarized metadata, listed trials, displayed unit info, and visualized spike times and electrode geometry.\n",
    "\n",
    "You can extend it by:\n",
    "- Looping over more sessions/files\n",
    "- Accessing LFP data if present\n",
    "- Performing spike count analyses by trial\n",
    "- Exploratory analyses of response by PRF condition\n",
    "- Other visualizations relevant to your research questions\n",
    "\n",
    "---\n",
    "\n",
    "Generated by *dandi-notebook-gen*."
   ]
  }
 ],
 "metadata": {
  "jupytext": {
   "cell_metadata_filter": "-all",
   "main_language": "python",
   "notebook_metadata_filter": "-all"
  },
  "language_info": {
   "codemirror_mode": {
    "name": "ipython",
    "version": 3
   },
   "file_extension": ".py",
   "mimetype": "text/x-python",
   "name": "python",
   "nbconvert_exporter": "python",
   "pygments_lexer": "ipython3",
   "version": "3.12.2"
  }
 },
 "nbformat": 4,
 "nbformat_minor": 5
}
