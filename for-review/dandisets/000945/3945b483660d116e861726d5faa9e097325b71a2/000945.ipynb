{
 "cells": [
  {
   "cell_type": "markdown",
   "id": "9c361717",
   "metadata": {},
   "source": [
    "Exploring Dandiset 000945: Neural Spiking Data in the Awake Rat Somatosensory Cortex Responding to Trials of Transcranial Focused Ultrasound Stimulation"
   ]
  },
  {
   "cell_type": "markdown",
   "id": "2ae20276",
   "metadata": {},
   "source": [
    "**Important:** This notebook was AI-generated using dandi-notebook-gen and has not been fully verified. Use caution when interpreting the code or results."
   ]
  },
  {
   "cell_type": "markdown",
   "id": "d5fe3de2",
   "metadata": {},
   "source": [
    "## Overview of the Dandiset\n",
    "\n",
    "This notebook explores the Neural Spiking Data in the Awake Rat Somatosensory Cortex Responding to Trials of Transcranial Focused Ultrasound Stimulation, available as Dandiset 000945 on the DANDI Archive.\n",
    "\n",
    "The data was collected by Ramachandran, Sandhya; Gao, Huan; Yu, Kai; He, Bin (2025) and is described as:\n",
    "\n",
    "> In these recordings, we tested different PRFs (pulse repetition frequencies) of ultrasound stimulation using a 128-element random array ultrasound transducer to stimulate the somatosensory cortex of awake head-fixed rats. Chronic electrophysiological recordings were acquired using 32-channel NeuroNexus electrodes (Model: A1x32-Poly3-10mm-50-177-Z32), chronically implanted into the rat brain. Ultrasound stimulation is delivered every 2.5 seconds with a 10% jitter, and each recording has 500 trials. The PRFs tested were 30 Hz, 300 Hz, 1500 Hz, 3000 Hz, and 4500 Hz, each with a 200 microsecond pulse duration and a 67 ms ultrasound duration. Anesthetized files were performed under 2% isoflurane anesthesia for comparison.\n",
    ">\n",
    "> File Information\n",
    "> All 10 subjects were male rats, implanted with their chronic electrode at 6 months of age and then recordings taken first at 8-10 months, and then some repeats taken at 12 months. Within each subject's folder are recordings for the different PRFs. Most subjects have 5 recordings within, one for each PRF. Some subjects have duplicate recordings taken a few months after the original ones. A few recordings were not included due to excessive noise in the recordings. Files are named in the format SubjectName_PRF_PulseDuration. Each file contains spike time data with the cell type labels included for each neurons, as well as time series data for the onset of each trial of ultrasound stimulation.\n",
    "\n",
    "A neurosift link for this Dandiset is available here: https://neurosift.app/dandiset/001176/000945\n",
    "\n",
    "## What this notebook covers\n",
    "\n",
    "This notebook demonstrates how to:\n",
    "\n",
    "*   Load the Dandiset using the DANDI API\n",
    "*   Access and explore the assets (files) within the Dandiset\n",
    "*   Load an NWB file from the Dandiset using remfile and pynwb\n",
    "*   Explore the metadata and data contained within the NWB file\n",
    "*   Visualize trial start and stop times\n",
    "*   Visualize unit spike times"
   ]
  },
  {
   "cell_type": "markdown",
   "id": "5b26640f",
   "metadata": {},
   "source": [
    "## Required Packages\n",
    "\n",
    "The following packages are required to run this notebook:\n",
    "\n",
    "*   dandi\n",
    "*   pynwb\n",
    "*   h5py\n",
    "*   remfile\n",
    "*   matplotlib\n",
    "*   seaborn"
   ]
  },
  {
   "cell_type": "code",
   "execution_count": 1,
   "id": "c607b565",
   "metadata": {
    "execution": {
     "iopub.execute_input": "2025-04-16T16:35:59.548753Z",
     "iopub.status.busy": "2025-04-16T16:35:59.548512Z",
     "iopub.status.idle": "2025-04-16T16:36:00.470799Z",
     "shell.execute_reply": "2025-04-16T16:36:00.470212Z"
    }
   },
   "outputs": [
    {
     "name": "stdout",
     "output_type": "stream",
     "text": [
      "Found 75 assets in the dataset\n",
      "\\nFirst 5 assets:\n",
      "- sub-BH498/sub-BH498_ses-20240306T124227_ecephys.nwb\n",
      "- sub-BH498/sub-BH498_ses-20240305T200606_ecephys.nwb\n",
      "- sub-BH498/sub-BH498_ses-20240305T191833_ecephys.nwb\n",
      "- sub-BH498/sub-BH498_ses-20230906T180913_ecephys.nwb\n",
      "- sub-BH498/sub-BH498_ses-20240305T204552_ecephys.nwb\n"
     ]
    }
   ],
   "source": [
    "from dandi.dandiapi import DandiAPIClient\n",
    "\n",
    "# Connect to DANDI archive\n",
    "client = DandiAPIClient()\n",
    "dandiset = client.get_dandiset(\"000945\")\n",
    "assets = list(dandiset.get_assets())\n",
    "\n",
    "print(f\"Found {len(assets)} assets in the dataset\")\n",
    "print(\"\\\\nFirst 5 assets:\")\n",
    "for asset in assets[:5]:\n",
    "    print(f\"- {asset.path}\")"
   ]
  },
  {
   "cell_type": "markdown",
   "id": "e27e3b86",
   "metadata": {},
   "source": [
    "## Loading an NWB file and exploring its metadata\n",
    "\n",
    "This section demonstrates how to load an NWB file from the Dandiset and explore its metadata.\n",
    "We will load the file `sub-BH497/sub-BH497_ses-20240310T143729_ecephys.nwb`.\n",
    "\n",
    "The URL for this asset is: `https://api.dandiarchive.org/api/assets/a4e04662-e4cb-49f3-9076-41e04e833a11/download/`"
   ]
  },
  {
   "cell_type": "code",
   "execution_count": 2,
   "id": "46d56b20",
   "metadata": {
    "execution": {
     "iopub.execute_input": "2025-04-16T16:36:00.472935Z",
     "iopub.status.busy": "2025-04-16T16:36:00.472603Z",
     "iopub.status.idle": "2025-04-16T16:36:02.091789Z",
     "shell.execute_reply": "2025-04-16T16:36:02.091039Z"
    }
   },
   "outputs": [
    {
     "name": "stdout",
     "output_type": "stream",
     "text": [
      "Session description: Awake S1 Stimulation by tFUS\n",
      "Identifier: BH498_3000_200_anes\n",
      "Session start time: 2024-03-10 14:37:29-04:00\n",
      "Institution: Carnegie Mellon University\n",
      "Subject ID: BH497\n"
     ]
    },
    {
     "name": "stderr",
     "output_type": "stream",
     "text": [
      "/opt/conda/lib/python3.11/site-packages/hdmf/spec/namespace.py:535: UserWarning: Ignoring cached namespace 'hdmf-common' version 1.5.0 because version 1.8.0 is already loaded.\n",
      "  warn(\"Ignoring cached namespace '%s' version %s because version %s is already loaded.\"\n",
      "/opt/conda/lib/python3.11/site-packages/hdmf/spec/namespace.py:535: UserWarning: Ignoring cached namespace 'core' version 2.5.0 because version 2.7.0 is already loaded.\n",
      "  warn(\"Ignoring cached namespace '%s' version %s because version %s is already loaded.\"\n",
      "/opt/conda/lib/python3.11/site-packages/hdmf/spec/namespace.py:535: UserWarning: Ignoring cached namespace 'hdmf-experimental' version 0.1.0 because version 0.5.0 is already loaded.\n",
      "  warn(\"Ignoring cached namespace '%s' version %s because version %s is already loaded.\"\n"
     ]
    }
   ],
   "source": [
    "import pynwb\n",
    "import h5py\n",
    "import remfile\n",
    "\n",
    "# Load the NWB file\n",
    "url = \"https://api.dandiarchive.org/api/assets/a4e04662-e4cb-49f3-9076-41e04e833a11/download/\"\n",
    "remote_file = remfile.File(url)\n",
    "h5_file = h5py.File(remote_file)\n",
    "io = pynwb.NWBHDF5IO(file=h5_file)\n",
    "nwb = io.read()\n",
    "\n",
    "# Print some metadata\n",
    "print(f\"Session description: {nwb.session_description}\")\n",
    "print(f\"Identifier: {nwb.identifier}\")\n",
    "print(f\"Session start time: {nwb.session_start_time}\")\n",
    "print(f\"Institution: {nwb.institution}\")\n",
    "print(f\"Subject ID: {nwb.subject.subject_id}\")"
   ]
  },
  {
   "cell_type": "markdown",
   "id": "dbbc8e0b",
   "metadata": {},
   "source": [
    "## Loading and visualizing trial data\n",
    "\n",
    "This section demonstrates how to load and visualize trial data from the NWB file."
   ]
  },
  {
   "cell_type": "code",
   "execution_count": 3,
   "id": "2072aaec",
   "metadata": {
    "execution": {
     "iopub.execute_input": "2025-04-16T16:36:02.094493Z",
     "iopub.status.busy": "2025-04-16T16:36:02.093901Z",
     "iopub.status.idle": "2025-04-16T16:36:02.919895Z",
     "shell.execute_reply": "2025-04-16T16:36:02.918929Z"
    }
   },
   "outputs": [
    {
     "data": {
      "image/png": "[encoded data removed]",
      "text/plain": [
       "<Figure size 1000x500 with 1 Axes>"
      ]
     },
     "metadata": {},
     "output_type": "display_data"
    }
   ],
   "source": [
    "import matplotlib.pyplot as plt\n",
    "import seaborn as sns\n",
    "sns.set_theme()\n",
    "import numpy as np\n",
    "\n",
    "# Load trial start and stop times\n",
    "trial_start_times = nwb.trials.start_time[:]\n",
    "trial_stop_times = nwb.trials.stop_time[:]\n",
    "\n",
    "# Plot trial durations\n",
    "trial_durations = trial_stop_times - trial_start_times\n",
    "plt.figure(figsize=(10, 5))\n",
    "plt.plot(trial_durations)\n",
    "plt.xlabel(\"Trial Number\")\n",
    "plt.ylabel(\"Trial Duration (s)\")\n",
    "plt.title(\"Trial Durations\")\n",
    "plt.show()"
   ]
  },
  {
   "cell_type": "markdown",
   "id": "3cd8ae8a",
   "metadata": {},
   "source": [
    "## Loading and visualizing unit spike times\n",
    "\n",
    "This section demonstrates how to load and visualize unit spike times from the NWB file."
   ]
  },
  {
   "cell_type": "code",
   "execution_count": 4,
   "id": "ad181d7d",
   "metadata": {
    "execution": {
     "iopub.execute_input": "2025-04-16T16:36:02.922157Z",
     "iopub.status.busy": "2025-04-16T16:36:02.921685Z",
     "iopub.status.idle": "2025-04-16T16:36:03.624382Z",
     "shell.execute_reply": "2025-04-16T16:36:03.623717Z"
    }
   },
   "outputs": [
    {
     "name": "stdout",
     "output_type": "stream",
     "text": [
      "Number of units: 64\n",
      "First 5 unit IDs: [0 1 2 3 4]\n",
      "Cell type labels: [1. 2.]\n"
     ]
    },
    {
     "data": {
      "image/png": "[encoded data removed]",
      "text/plain": [
       "<Figure size 1200x600 with 1 Axes>"
      ]
     },
     "metadata": {},
     "output_type": "display_data"
    }
   ],
   "source": [
    "# Load unit spike times and cell type labels\n",
    "unit_spike_times = nwb.units.spike_times[:]\n",
    "unit_celltype_labels = nwb.units.celltype_label[:]\n",
    "unit_ids = nwb.units.id[:]\n",
    "\n",
    "# Print some info about the units\n",
    "print(f\"Number of units: {len(unit_ids)}\")\n",
    "print(f\"First 5 unit IDs: {unit_ids[:5]}\")\n",
    "print(f\"Cell type labels: {np.unique(unit_celltype_labels)}\")\n",
    "\n",
    "# Select the first 10 units\n",
    "num_units_to_plot = 10\n",
    "selected_unit_ids = unit_ids[:num_units_to_plot]\n",
    "\n",
    "# Plot spike times for the selected units\n",
    "plt.figure(figsize=(12, 6))\n",
    "for unit_id in selected_unit_ids:\n",
    "    # Get the spike times for this unit\n",
    "    unit_index = np.where(unit_ids == unit_id)[0][0]\n",
    "    spike_times = unit_spike_times[unit_index]\n",
    "\n",
    "    # Plot the spike times as vertical lines\n",
    "    plt.vlines(spike_times, unit_id - 0.5, unit_id + 0.5, linewidth=0.5)\n",
    "\n",
    "plt.xlabel(\"Time (s)\")\n",
    "plt.ylabel(\"Unit ID\")\n",
    "plt.title(f\"Spike Times for First {num_units_to_plot} Units\")\n",
    "plt.yticks(selected_unit_ids)\n",
    "plt.show()"
   ]
  },
  {
   "cell_type": "markdown",
   "id": "40a59b65",
   "metadata": {},
   "source": [
    "## Summary and Future Directions\n",
    "\n",
    "This notebook has demonstrated how to load and explore data from Dandiset 000945, focusing on neural spiking data in the awake rat somatosensory cortex. We have shown how to:\n",
    "\n",
    "*   Load the Dandiset and its assets using the DANDI API\n",
    "*   Load an NWB file from the Dandiset\n",
    "*   Access and visualize trial data\n",
    "*   Access and visualize unit spike times\n",
    "\n",
    "Future directions for analysis could include:\n",
    "\n",
    "*   Analyzing the relationship between ultrasound stimulation and neural spiking activity\n",
    "*   Comparing neural activity across different PRFs\n",
    "*   Performing more advanced spike sorting and analysis\n",
    "*   Investigating the effects of anesthesia on neural activity"
   ]
  }
 ],
 "metadata": {
  "jupytext": {
   "cell_metadata_filter": "-all",
   "main_language": "python",
   "notebook_metadata_filter": "-all"
  },
  "kernelspec": {
   "display_name": "Python 3 (ipykernel)",
   "language": "python",
   "name": "python3"
  },
  "language_info": {
   "codemirror_mode": {
    "name": "ipython",
    "version": 3
   },
   "file_extension": ".py",
   "mimetype": "text/x-python",
   "name": "python",
   "nbconvert_exporter": "python",
   "pygments_lexer": "ipython3",
   "version": "3.11.10"
  }
 },
 "nbformat": 4,
 "nbformat_minor": 5
}
