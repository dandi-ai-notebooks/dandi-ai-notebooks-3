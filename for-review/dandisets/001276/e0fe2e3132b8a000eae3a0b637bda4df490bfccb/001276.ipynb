{
 "cells": [
  {
   "cell_type": "markdown",
   "id": "6582a431",
   "metadata": {},
   "source": [
    "# Exploring Dandiset 001276: Impact of Burst Number Variation on Permeabilization Distribution\n",
    "\n",
    "This Jupyter notebook was AI-generated using dandi-notebook-gen and has not been fully verified. Please use caution when interpreting the code or the results it produces."
   ]
  },
  {
   "cell_type": "markdown",
   "id": "9e2cb31a",
   "metadata": {},
   "source": [
    "## Overview of Dandiset 001276\n",
    "\n",
    "- **Title**: NG-CANCAN Remote Targeting Electroporation: Impact of Burst Number Variation on Permeabilization Distribution in Confluent Cell Monolayers\n",
    "- **Description**: Experiments were conducted using a four-electrode array focusing on optimizing the CANCAN protocol.\n",
    "- [Explore this Dandiset on Neurosift](https://neurosift.app/dandiset/001276)"
   ]
  },
  {
   "cell_type": "markdown",
   "id": "044c50df",
   "metadata": {},
   "source": [
    "## Summary of Notebook Coverage\n",
    "\n",
    "This notebook will demonstrate:\n",
    "- How to load and explore this dataset using the DANDI API\n",
    "- How to open and visualize NWB files\n",
    "- Insights into the data and possible directions for further analysis"
   ]
  },
  {
   "cell_type": "markdown",
   "id": "4b346166",
   "metadata": {},
   "source": [
    "## Required Packages\n",
    "\n",
    "The following packages are required to run this notebook:\n",
    "- pynwb\n",
    "- h5py\n",
    "- remfile"
   ]
  },
  {
   "cell_type": "markdown",
   "id": "e332b28f",
   "metadata": {},
   "source": [
    "## Load the Dandiset using the DANDI API"
   ]
  },
  {
   "cell_type": "code",
   "execution_count": 1,
   "id": "daaea7d9",
   "metadata": {
    "execution": {
     "iopub.execute_input": "2025-04-17T19:35:23.223314Z",
     "iopub.status.busy": "2025-04-17T19:35:23.222973Z",
     "iopub.status.idle": "2025-04-17T19:35:24.211450Z",
     "shell.execute_reply": "2025-04-17T19:35:24.210877Z"
    }
   },
   "outputs": [
    {
     "name": "stdout",
     "output_type": "stream",
     "text": [
      "Found 108 assets in the dataset\n",
      "\n",
      "First 5 assets:\n",
      "- sub-P1-20240627-A2/sub-P1-20240627-A2_obj-fniblx_image.nwb\n",
      "- sub-P1-20240627-A3/sub-P1-20240627-A3_obj-1h4rh2m_image.nwb\n",
      "- sub-P1-20240627-A2/sub-P1-20240627-A2_obj-1aoyzxh_image.nwb\n",
      "- sub-P1-20240627-A3/sub-P1-20240627-A3_obj-k9o87l_image.nwb\n",
      "- sub-P1-20240627-B1/sub-P1-20240627-B1_obj-1qpzwid_image.nwb\n"
     ]
    }
   ],
   "source": [
    "from dandi.dandiapi import DandiAPIClient\n",
    "\n",
    "# Connect to DANDI archive\n",
    "client = DandiAPIClient()\n",
    "dandiset = client.get_dandiset(\"001276\")\n",
    "assets = list(dandiset.get_assets())\n",
    "\n",
    "print(f\"Found {len(assets)} assets in the dataset\")\n",
    "print(\"\\nFirst 5 assets:\")\n",
    "for asset in assets[:5]:\n",
    "    print(f\"- {asset.path}\")"
   ]
  },
  {
   "cell_type": "markdown",
   "id": "e1e624b5",
   "metadata": {},
   "source": [
    "## Load the NWB File"
   ]
  },
  {
   "cell_type": "code",
   "execution_count": 2,
   "id": "21701815",
   "metadata": {
    "execution": {
     "iopub.execute_input": "2025-04-17T19:35:24.213692Z",
     "iopub.status.busy": "2025-04-17T19:35:24.213366Z",
     "iopub.status.idle": "2025-04-17T19:35:26.121383Z",
     "shell.execute_reply": "2025-04-17T19:35:26.120890Z"
    }
   },
   "outputs": [
    {
     "name": "stderr",
     "output_type": "stream",
     "text": [
      "/opt/conda/lib/python3.11/site-packages/hdmf/spec/namespace.py:535: UserWarning: Ignoring cached namespace 'core' version 2.6.0-alpha because version 2.7.0 is already loaded.\n",
      "  warn(\"Ignoring cached namespace '%s' version %s because version %s is already loaded.\"\n"
     ]
    },
    {
     "name": "stdout",
     "output_type": "stream",
     "text": [
      "Loaded NWB file with session ID: single_time_point\n"
     ]
    }
   ],
   "source": [
    "import pynwb\n",
    "import h5py\n",
    "import remfile\n",
    "\n",
    "# Load the NWB file from the asset URL\n",
    "url = \"https://api.dandiarchive.org/api/assets/95141d7a-82aa-4552-940a-1438a430a0d7/download/\"\n",
    "remote_file = remfile.File(url)\n",
    "h5_file = h5py.File(remote_file)\n",
    "io = pynwb.NWBHDF5IO(file=h5_file)\n",
    "nwb = io.read()\n",
    "\n",
    "print(f\"Loaded NWB file with session ID: {nwb.session_id}\")"
   ]
  },
  {
   "cell_type": "markdown",
   "id": "ad9b94c3",
   "metadata": {},
   "source": [
    "The NWB file is loaded from the path `sub-P1-20240627-A2/sub-P1-20240627-A2_obj-1aoyzxh_image.nwb`. It contains various metadata which will be accessed below."
   ]
  },
  {
   "cell_type": "markdown",
   "id": "a19d83cd",
   "metadata": {},
   "source": [
    "## Explore NWB Metadata and Data"
   ]
  },
  {
   "cell_type": "code",
   "execution_count": 3,
   "id": "d53012af",
   "metadata": {
    "execution": {
     "iopub.execute_input": "2025-04-17T19:35:26.123150Z",
     "iopub.status.busy": "2025-04-17T19:35:26.122753Z",
     "iopub.status.idle": "2025-04-17T19:35:26.888560Z",
     "shell.execute_reply": "2025-04-17T19:35:26.888104Z"
    }
   },
   "outputs": [
    {
     "name": "stdout",
     "output_type": "stream",
     "text": [
      "Metadata Summary:\n",
      "Session Description: Acquisition Description (Subject-Specific): Subject ID: P1_20240627_A2, Fluorescent Channel: DAPI, Phase: pre (where 'pre' indicates imaging prior to exposure and 'post' indicates imaging of the same well after exposure).  CanCan protocol (with canceling pulses),011: Protocol consisted of 9 packets of pulses delivered at 0.2MHz frequency, protocol repeated 2 times at 1Hz frequency. General Protocol Description (Subject-Independent): Experiments were conducted using a four-electrode stainless steel setup with an inter-electrode distance of 10.0 mm. The CanCan exposure protocol involved delivering packets of 600 ns pulses from four electrodes. Initially, a single 600 ns pulse (7.2 kV) was applied from one electrode (e.g., electrode 1), constituting phase 1. Subsequently, simultaneous 600 ns pulses with an amplitude reduced by 12.5% were delivered from two electrodes (e.g., electrodes 2 and 4), followed by another set of simultaneous pulses with an additional 12.5% amplitude reduction from electrodes 1 and 3. These simultaneous pulses represented phases 2, 3, and continued up to phase 8, with the amplitude reduced by 12.5% at each phase. After completing one packet of pulses, the sequence was repeated 9 times at a defined frequency. Upon completing these 9 repetitions, the protocol was either repeated 2, 4, or 6 times at a 1 Hz frequency or initiated anew from another electrode (e.g., electrode 2), ensuring that all four electrodes eventually served as the initiating electrode.Control protocols followed identical frequency and repetition schemes but lacked the subsequent, reduced-amplitude pulses delivered from the other electrodes. Before exposure, the growth medium was replaced with a physiological solution (in mM: 140 NaCl, 5.4 KCl, 2 CaCl2, 1.5 MgCl2, 10 D-glucose, and 10 HEPES; pH 7.3, 290–300 mOsm/kg) containing 1 µg/mL Hoechst and 1 µM YoPro-1 (YP). Hoechst, visualized via the DAPI channel, stained the nuclei of all cells. YP, visualized via the FITC channel, served as a semi-quantitative marker of membrane permeabilization induced by electroporation, as it has limited permeability into intact cells. Thirty minutes post-exposure, the dye-containing solution was replaced with dye-free physiological solution, and the monolayer was imaged to assess YP uptake.  OME metadata: <?xml version=\"1.0\" encoding=\"UTF-8\" standalone=\"yes\"?>\r\n",
      "<OME xmlns=\"http://www.openmicroscopy.org/Schemas/OME/2015-01\" xmlns:OME=\"http://www.openmicroscopy.org/Schemas/OME/2015-01\" xmlns:ROI=\"http://www.openmicroscopy.org/Schemas/ROI/2015-01\" xmlns:BIN=\"http://www.openmicroscopy.org/Schemas/BinaryFile/2015-01\" xmlns:SA=\"http://www.openmicroscopy.org/Schemas/SA/2015-01\" xmlns:xsi=\"http://www.w3.org/2001/XMLSchema-instance\" xsi:schemaLocation=\"http://www.openmicroscopy.org/Schemas/OME/2015-01 http://www.openmicroscopy.org/Schemas/OME/2015-01/ome.xsd\" Creator=\"HP Inc., XV - (4.1)\">\r\n",
      "\t<OME:Experimenter ID=\"Experimenter:0\" UserName=\"OlympusIX83\"/>\r\n",
      "\t<OME:Instrument ID=\"Instrument:0\">\r\n",
      "\t\t<OME:Microscope Manufacturer=\"Olympus\" Model=\"IX83 P2ZF\"/>\r\n",
      "\t\t<OME:LightSource Manufacturer=\"Olympus\" Model=\"IX3 LED\" ID=\"LightSource:0\">\r\n",
      "\t\t\t<OME:GenericExcitationSource/>\r\n",
      "\t\t</OME:LightSource>\r\n",
      "\t\t<OME:Detector Manufacturer=\"Hamamatsu\" Model=\"Hamamatsu ORCA-Flash4.0\" Gain=\"0\" Offset=\"0\" Zoom=\"1\" ID=\"Detector:0\"/>\r\n",
      "\t\t<OME:Objective Manufacturer=\"Olympus\" Model=\"IX3 Nosepiece\" LensNA=\"0.16\" NominalMagnification=\"4\" CalibratedMagnification=\"4\" WorkingDistance=\"13000\" WorkingDistanceUnit=\"µm\" ID=\"Objective:0\"/>\r\n",
      "\t</OME:Instrument>\r\n",
      "\t<OME:Image ID=\"Image:0\" Name=\"DAPI\">\r\n",
      "\t\t<OME:AcquisitionDate>2024-06-27T18:12:27Z</OME:AcquisitionDate>\r\n",
      "\t\t<OME:ExperimenterRef ID=\"Experimenter:0\"/>\r\n",
      "\t\t<OME:InstrumentRef ID=\"Instrument:0\"/>\r\n",
      "\t\t<OME:ObjectiveSettings ID=\"Objective:0\" Medium=\"Air\" RefractiveIndex=\"1\"/>\r\n",
      "\t\t<OME:Pixels ID=\"Pixels:0\" DimensionOrder=\"XYCZT\" Type=\"uint16\" SignificantBits=\"13\" Interleaved=\"false\" SizeX=\"19190\" SizeY=\"19190\" SizeC=\"1\" SizeZ=\"1\" SizeT=\"1\" PhysicalSizeX=\"1.6250000000000002\" PhysicalSizeXUnit=\"µm\" PhysicalSizeY=\"1.6250000000000002\" PhysicalSizeYUnit=\"µm\">\r\n",
      "\t\t\t<OME:Channel ID=\"Channel:0\" Name=\"DAPI\" SamplesPerPixel=\"1\" ContrastMethod=\"Fluorescence\" EmissionWavelength=\"455\" EmissionWavelengthUnit=\"nm\" Color=\"65535\">\r\n",
      "\t\t\t\t<LightSourceSettings ID=\"LightSource:0\"/>\r\n",
      "\t\t\t\t<DetectorSettings ID=\"Detector:0\" Binning=\"1x1\"/>\r\n",
      "\t\t\t</OME:Channel>\r\n",
      "\t\t\t<OME:TiffData IFD=\"0\" FirstZ=\"0\" FirstT=\"0\" FirstC=\"0\" PlaneCount=\"1\"/>\r\n",
      "\t\t\t<OME:Plane TheZ=\"0\" TheT=\"0\" TheC=\"0\" DeltaT=\"218.24000000000001\" DeltaTUnit=\"s\" PositionZ=\"6652.5100000000002\" PositionZUnit=\"µm\" PositionX=\"59255.531106488983\" PositionXUnit=\"µm\" PositionY=\"19879.826007724529\" PositionYUnit=\"µm\" ExposureTime=\"600\" ExposureTimeUnit=\"ms\"/>\r\n",
      "\t\t</OME:Pixels>\r\n",
      "\t</OME:Image>\r\n",
      "\t<SA:StructuredAnnotations/>\r\n",
      "</OME>\n",
      "Identifier: 441cb2b5-170d-4539-8f1f-731a5d1b3759\n",
      "Lab: Pakhomov Lab\n",
      "Institution: Old Dominion University\n",
      "Data shape: (1, 19190, 19190)\n"
     ]
    },
    {
     "data": {
      "image/png": "[encoded data removed]",
      "text/plain": [
       "<Figure size 640x480 with 1 Axes>"
      ]
     },
     "metadata": {},
     "output_type": "display_data"
    }
   ],
   "source": [
    "metadata = {\n",
    "    \"Session Description\": nwb.session_description,\n",
    "    \"Identifier\": nwb.identifier,\n",
    "    \"Lab\": nwb.lab,\n",
    "    \"Institution\": nwb.institution\n",
    "}\n",
    "print(\"Metadata Summary:\")\n",
    "for key, value in metadata.items():\n",
    "    print(f\"{key}: {value}\")\n",
    "\n",
    "# Access data from acquisition section\n",
    "imaging_data = nwb.acquisition[\"SingleTimePointImaging\"].data\n",
    "print(f\"Data shape: {imaging_data.shape}\")\n",
    "\n",
    "# Visualize a subset of the data\n",
    "import matplotlib.pyplot as plt\n",
    "\n",
    "plt.imshow(imaging_data[0, 0:500, 0:500], cmap='hot')\n",
    "plt.title(\"Visualization of a subset of imaging data\")\n",
    "plt.show()"
   ]
  },
  {
   "cell_type": "markdown",
   "id": "fd1d401a",
   "metadata": {},
   "source": [
    "## Conclusions and Future Directions\n",
    "\n",
    "This notebook has demonstrated how to access and explore parts of Dandiset 001276 using the DANDI API and NWB format. Future analysis can delve into specific experimental conditions and further statistical analyses of the imaging data."
   ]
  }
 ],
 "metadata": {
  "jupytext": {
   "cell_metadata_filter": "-all",
   "main_language": "python",
   "notebook_metadata_filter": "-all"
  },
  "language_info": {
   "codemirror_mode": {
    "name": "ipython",
    "version": 3
   },
   "file_extension": ".py",
   "mimetype": "text/x-python",
   "name": "python",
   "nbconvert_exporter": "python",
   "pygments_lexer": "ipython3",
   "version": "3.11.10"
  }
 },
 "nbformat": 4,
 "nbformat_minor": 5
}
