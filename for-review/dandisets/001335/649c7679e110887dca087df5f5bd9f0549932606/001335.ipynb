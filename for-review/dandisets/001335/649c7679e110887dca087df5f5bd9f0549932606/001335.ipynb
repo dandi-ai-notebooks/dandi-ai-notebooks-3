{
 "cells": [
  {
   "cell_type": "markdown",
   "id": "1423bc55",
   "metadata": {},
   "source": [
    "**NOTE: This automated notebook was AI-generated using dandi-notebook-gen. Please exercise caution when interpreting the code or scientific results. Manual review is strongly recommended.**\n",
    "\n",
    "# DANDI Dandiset 001335: Neuropixels Recordings from Hippocampus during Odor Presentation\n",
    "\n",
    "This tutorial demonstrates how to explore and analyze data from an openly shared neurophysiology dataset.\n",
    "\n",
    "**Citation:** Mohapatra, Manish; Halchenko, Yaroslav (2025). Neuropixels Recordings from Hippocampus of head-fixed mice during odor presentation (Version draft). DANDI Archive. https://dandiarchive.org/dandiset/001335/draft\n",
    "\n",
    "## Dandiset Description\n",
    "Head-fixed wild type male mice (~8 weeks old) were presented with various odor sequences while neural activity was recorded using Neuropixels probes targeting dorsal CA1.\n",
    "\n",
    "The available dataset contains LFP and spike data, with annotations for different odor presentation blocks.\n",
    "\n",
    "---\n",
    "\n",
    "## Import necessary packages\n",
    "(Please ensure the following packages are installed: `pynwb`, `remfile`, `h5py`, `dandi`, `numpy`, `matplotlib`)"
   ]
  },
  {
   "cell_type": "code",
   "execution_count": 1,
   "id": "5539a442",
   "metadata": {
    "execution": {
     "iopub.execute_input": "2025-04-10T20:45:35.022230Z",
     "iopub.status.busy": "2025-04-10T20:45:35.021934Z",
     "iopub.status.idle": "2025-04-10T20:45:35.953087Z",
     "shell.execute_reply": "2025-04-10T20:45:35.952380Z"
    }
   },
   "outputs": [],
   "source": [
    "import matplotlib.pyplot as plt\n",
    "import numpy as np\n",
    "import pynwb\n",
    "import remfile\n",
    "import h5py\n",
    "from dandi.dandiapi import DandiAPIClient"
   ]
  },
  {
   "cell_type": "markdown",
   "id": "9b3f0fa0",
   "metadata": {},
   "source": [
    "## Accessing Dandiset metadata through the DANDI API"
   ]
  },
  {
   "cell_type": "code",
   "execution_count": 2,
   "id": "a965f099",
   "metadata": {
    "execution": {
     "iopub.execute_input": "2025-04-10T20:45:35.954769Z",
     "iopub.status.busy": "2025-04-10T20:45:35.954536Z",
     "iopub.status.idle": "2025-04-10T20:45:36.733136Z",
     "shell.execute_reply": "2025-04-10T20:45:36.731999Z"
    }
   },
   "outputs": [
    {
     "name": "stdout",
     "output_type": "stream",
     "text": [
      "Number of assets in Dandiset: 1\n",
      "sub-M541/sub-M541_ecephys.nwb\n"
     ]
    }
   ],
   "source": [
    "client = DandiAPIClient()\n",
    "dandiset = client.get_dandiset(\"001335\", \"draft\")\n",
    "assets = list(dandiset.get_assets())\n",
    "print(f\"Number of assets in Dandiset: {len(assets)}\")\n",
    "for asset in assets:\n",
    "    print(asset.path)"
   ]
  },
  {
   "cell_type": "markdown",
   "id": "2e4535ed",
   "metadata": {},
   "source": [
    "## Load the NWB file remotely using PyNWB and remfile\n",
    "\n",
    "We are using the main NWB file `sub-M541/sub-M541_ecephys.nwb`."
   ]
  },
  {
   "cell_type": "code",
   "execution_count": 3,
   "id": "d17022ad",
   "metadata": {
    "execution": {
     "iopub.execute_input": "2025-04-10T20:45:36.736027Z",
     "iopub.status.busy": "2025-04-10T20:45:36.735812Z",
     "iopub.status.idle": "2025-04-10T20:45:39.898517Z",
     "shell.execute_reply": "2025-04-10T20:45:39.897790Z"
    }
   },
   "outputs": [],
   "source": [
    "url = \"https://api.dandiarchive.org/api/assets/aca66db7-4c02-4453-8dcb-a179d44b1c5d/download/\"\n",
    "\n",
    "rf = remfile.File(url)\n",
    "hf = h5py.File(rf)\n",
    "io = pynwb.NWBHDF5IO(file=hf, load_namespaces=True)\n",
    "nwb = io.read()"
   ]
  },
  {
   "cell_type": "markdown",
   "id": "9e406af0",
   "metadata": {},
   "source": [
    "## Explore session and subject metadata"
   ]
  },
  {
   "cell_type": "code",
   "execution_count": 4,
   "id": "208d1688",
   "metadata": {
    "execution": {
     "iopub.execute_input": "2025-04-10T20:45:39.900209Z",
     "iopub.status.busy": "2025-04-10T20:45:39.900094Z",
     "iopub.status.idle": "2025-04-10T20:45:39.903504Z",
     "shell.execute_reply": "2025-04-10T20:45:39.903086Z"
    }
   },
   "outputs": [
    {
     "name": "stdout",
     "output_type": "stream",
     "text": [
      "Session description: Block 1:UE (ABC), Block 2:SE (DEF), Block3:Localizer\n",
      "Experiment ID: M541-2024-08-31\n",
      "Session start time: 2025-02-14 10:53:25.647928-05:00\n",
      "Experiment keywords: ['ecephys' 'neuropixels' 'odor-sequences' 'hippocampus']\n",
      "Subject ID: M541\n",
      "Species: Mus musculus\n",
      "Sex: M\n",
      "Age: P8W/\n",
      "Subject description: Headbarr-ed mouse with craniotomies over dCA1\n"
     ]
    }
   ],
   "source": [
    "print(f\"Session description: {nwb.session_description}\")\n",
    "print(f\"Experiment ID: {nwb.identifier}\")\n",
    "print(f\"Session start time: {nwb.session_start_time}\")\n",
    "print(f\"Experiment keywords: {nwb.keywords[:]}\")\n",
    "if nwb.subject:\n",
    "    print(f\"Subject ID: {nwb.subject.subject_id}\")\n",
    "    print(f\"Species: {nwb.subject.species}\")\n",
    "    print(f\"Sex: {nwb.subject.sex}\")\n",
    "    print(f\"Age: {nwb.subject.age}\")\n",
    "    print(f\"Subject description: {nwb.subject.description}\")"
   ]
  },
  {
   "cell_type": "markdown",
   "id": "6be1c705",
   "metadata": {},
   "source": [
    "## Experimental blocks and odor intervals"
   ]
  },
  {
   "cell_type": "code",
   "execution_count": 5,
   "id": "fd4083be",
   "metadata": {
    "execution": {
     "iopub.execute_input": "2025-04-10T20:45:39.904997Z",
     "iopub.status.busy": "2025-04-10T20:45:39.904904Z",
     "iopub.status.idle": "2025-04-10T20:45:39.907425Z",
     "shell.execute_reply": "2025-04-10T20:45:39.907017Z"
    }
   },
   "outputs": [
    {
     "name": "stdout",
     "output_type": "stream",
     "text": [
      "All intervals/time segments:\n",
      "Block 1: Interval when Block 1 odors were being presented columns=('start_time', 'stop_time')\n",
      "Block 2: Interval when Block 2 odors were being presented columns=('start_time', 'stop_time')\n",
      "Block 3: Interval when Block 3 odors were being presented columns=('start_time', 'stop_time')\n",
      "Odor A ON: Intervals when Odor A was being presented columns=('start_time', 'stop_time')\n",
      "Odor B ON: Intervals when Odor B was being presented columns=('start_time', 'stop_time')\n",
      "Odor C ON: Intervals when Odor C was being presented columns=('start_time', 'stop_time')\n",
      "Odor D ON: Intervals when Odor D was being presented columns=('start_time', 'stop_time')\n",
      "Odor E ON: Intervals when Odor E was being presented columns=('start_time', 'stop_time')\n",
      "Odor F ON: Intervals when Odor F was being presented columns=('start_time', 'stop_time')\n"
     ]
    }
   ],
   "source": [
    "print(\"All intervals/time segments:\")\n",
    "for name, interval in nwb.intervals.items():\n",
    "    print(f\"{name}: {interval.description} columns={interval.colnames}\")"
   ]
  },
  {
   "cell_type": "markdown",
   "id": "68d9e94e",
   "metadata": {},
   "source": [
    "## Channels/electrodes table"
   ]
  },
  {
   "cell_type": "code",
   "execution_count": 6,
   "id": "adafd74e",
   "metadata": {
    "execution": {
     "iopub.execute_input": "2025-04-10T20:45:39.908898Z",
     "iopub.status.busy": "2025-04-10T20:45:39.908815Z",
     "iopub.status.idle": "2025-04-10T20:45:39.911130Z",
     "shell.execute_reply": "2025-04-10T20:45:39.910690Z"
    }
   },
   "outputs": [
    {
     "name": "stdout",
     "output_type": "stream",
     "text": [
      "Electrode table columns: ('location', 'group', 'group_name', 'label', 'depth', 'hemisphere')\n",
      "First 5 electrode IDs: [0 1 2 3 4]\n"
     ]
    }
   ],
   "source": [
    "etable = nwb.electrodes\n",
    "print(\"Electrode table columns:\", etable.colnames)\n",
    "print(\"First 5 electrode IDs:\", etable.id[:5])"
   ]
  },
  {
   "cell_type": "markdown",
   "id": "66d3ea89",
   "metadata": {},
   "source": [
    "## Spike Units Table"
   ]
  },
  {
   "cell_type": "code",
   "execution_count": 7,
   "id": "65b06b25",
   "metadata": {
    "execution": {
     "iopub.execute_input": "2025-04-10T20:45:39.912534Z",
     "iopub.status.busy": "2025-04-10T20:45:39.912448Z",
     "iopub.status.idle": "2025-04-10T20:45:39.914813Z",
     "shell.execute_reply": "2025-04-10T20:45:39.914513Z"
    }
   },
   "outputs": [
    {
     "name": "stdout",
     "output_type": "stream",
     "text": [
      "Spike unit columns: ('depth', 'hemisphere', 'global_id', 'spike_times', 'electrode_group', 'waveform_mean')\n",
      "First 5 unit IDs: [0 1 2 3 4]\n"
     ]
    }
   ],
   "source": [
    "units = nwb.units\n",
    "print(\"Spike unit columns:\", units.colnames)\n",
    "print(\"First 5 unit IDs:\", units.id[:5])"
   ]
  },
  {
   "cell_type": "markdown",
   "id": "92d19411",
   "metadata": {},
   "source": [
    "## Plot spike raster of 10 units over first 5 seconds\n",
    "Here we visualize the spiking activity of the first 10 identified units."
   ]
  },
  {
   "cell_type": "code",
   "execution_count": 8,
   "id": "9f4e5bc2",
   "metadata": {
    "execution": {
     "iopub.execute_input": "2025-04-10T20:45:39.916045Z",
     "iopub.status.busy": "2025-04-10T20:45:39.915965Z",
     "iopub.status.idle": "2025-04-10T20:45:41.755093Z",
     "shell.execute_reply": "2025-04-10T20:45:41.754611Z"
    }
   },
   "outputs": [
    {
     "data": {
      "image/png": "[encoded data removed]",
      "text/plain": [
       "<Figure size 1000x600 with 1 Axes>"
      ]
     },
     "metadata": {},
     "output_type": "display_data"
    }
   ],
   "source": [
    "unit_ids = list(units.id[:])\n",
    "max_units = min(10, len(unit_ids))\n",
    "time_window = 5  # seconds\n",
    "\n",
    "plt.figure(figsize=(10, 6))\n",
    "\n",
    "for idx in range(max_units):\n",
    "    unit_id = unit_ids[idx]\n",
    "    spike_times = units['spike_times'][idx]\n",
    "    mask = (spike_times >= 0) & (spike_times <= time_window)\n",
    "    plt.vlines(spike_times[mask], idx + 0.5, idx + 1.5)\n",
    "\n",
    "plt.xlabel('Time (s)')\n",
    "plt.ylabel('Unit ID')\n",
    "plt.yticks(np.arange(1, max_units + 1), unit_ids[:max_units])\n",
    "plt.title(f'Spike raster: first {max_units} units (first {time_window} seconds)')\n",
    "\n",
    "plt.tight_layout()\n",
    "plt.show()"
   ]
  },
  {
   "cell_type": "markdown",
   "id": "4b88c426",
   "metadata": {},
   "source": [
    "\n",
    "## Notes\n",
    "\n",
    "- This notebook illustrates how to load metadata, spike times, and basic interval information from the NWB file without downloading it entirely.\n",
    "- Because raw LFP data may be large and noisy/artifactual in this dataset, analysis focuses on sorted units here.\n",
    "- For your own analyses, consider segmenting by odor blocks, comparing spiking or LFP characteristics, or extracting aligned data snippets.\n",
    "- Extensive computational analyses such as spike sorting or LFP filtering are beyond this example scope.\n",
    "\n",
    "---\n",
    "\n",
    "**End of AI-generated example analysis notebook**."
   ]
  }
 ],
 "metadata": {
  "jupytext": {
   "cell_metadata_filter": "-all",
   "main_language": "python",
   "notebook_metadata_filter": "-all"
  },
  "language_info": {
   "codemirror_mode": {
    "name": "ipython",
    "version": 3
   },
   "file_extension": ".py",
   "mimetype": "text/x-python",
   "name": "python",
   "nbconvert_exporter": "python",
   "pygments_lexer": "ipython3",
   "version": "3.12.2"
  }
 },
 "nbformat": 4,
 "nbformat_minor": 5
}
