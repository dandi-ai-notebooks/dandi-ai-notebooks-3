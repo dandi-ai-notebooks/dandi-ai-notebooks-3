{
 "cells": [
  {
   "cell_type": "markdown",
   "id": "da6eb884",
   "metadata": {},
   "source": [
    "# Exploring Dandiset 001335: Neuropixels Recordings from Hippocampus of head-fixed mice during odor presentation"
   ]
  },
  {
   "cell_type": "markdown",
   "id": "4781c447",
   "metadata": {},
   "source": [
    "**NOTE**: This notebook was automatically generated using AI (dandi-notebook-gen) and has not been fully verified. Please exercise caution when interpreting the code or results. "
   ]
  },
  {
   "cell_type": "markdown",
   "id": "ab64dcee",
   "metadata": {},
   "source": [
    "## Dandiset Overview\n",
    "The dataset contains Neuropixels recordings from the hippocampus of head-fixed wild-type mice during odor presentation. The contributor of this dataset includes Mohapatra, Manish, and Halchenko, Yaroslav.\n",
    "\n",
    "DANDI ID: 001335/draft  \n",
    "License: CC-BY-4.0  \n",
    "Link: [View on DANDI](https://dandiarchive.org/dandiset/001335/draft)  \n",
    "Description: Head-fixed wild type mice were presented with various odor sequences, while neural activity was recorded from the hippocampus using Neuropixels probes."
   ]
  },
  {
   "cell_type": "markdown",
   "id": "dc0ea6fe",
   "metadata": {},
   "source": [
    "## Notebook Overview\n",
    "This notebook will cover the following:\n",
    "- Loading the Dandiset using the DANDI API.\n",
    "- Exploring metadata of NWB files.\n",
    "- Visualizing neuronal data such as Local Field Potentials (LFP).\n",
    "- Possible directions for future analysis."
   ]
  },
  {
   "cell_type": "markdown",
   "id": "23d88100",
   "metadata": {},
   "source": [
    "## Required Packages\n",
    "Ensure the following packages are available in your Python environment:\n",
    "- `dandi`\n",
    "- `pynwb`\n",
    "- `h5py`\n",
    "- `numpy`\n",
    "- `matplotlib`\n",
    "- `pandas`\n",
    "- `remfile`"
   ]
  },
  {
   "cell_type": "markdown",
   "id": "b2192a79",
   "metadata": {},
   "source": [
    "## Connecting to DANDI API and Loading the Dataset\n",
    "from dandi.dandiapi import DandiAPIClient\n",
    "import remfile\n",
    "import h5py\n",
    "import pynwb\n",
    "import numpy as np\n",
    "import matplotlib.pyplot as plt\n",
    "\n",
    "Connect to DANDI archive\n",
    "client = DandiAPIClient()\n",
    "dandiset = client.get_dandiset(\"001335\", \"draft\")\n",
    "assets = list(dandiset.get_assets())\n",
    "\n",
    "print(f\"Found {len(assets)} assets in the dataset\")\n",
    "print(\"\\nFirst 5 assets:\")\n",
    "for asset in assets[:5]:\n",
    "    print(f\"- {asset.path}\")"
   ]
  },
  {
   "cell_type": "markdown",
   "id": "61613740",
   "metadata": {},
   "source": [
    "## Loading Metadata from NWB File\n",
    "url = \"https://api.dandiarchive.org/api/assets/aca66db7-4c02-4453-8dcb-a179d44b1c5d/download/\"\n",
    "remote_file = remfile.File(url)\n",
    "h5_file = h5py.File(remote_file)\n",
    "io = pynwb.NWBHDF5IO(file=h5_file)\n",
    "nwb = io.read()\n",
    "\n",
    "print(f\"Session Description: {nwb.session_description}\")\n",
    "print(f\"Identifier: {nwb.identifier}\")\n",
    "print(f\"Experimenter: {nwb.experimenter}\")\n",
    "print(f\"Keywords: {nwb.keywords[:]}\")"
   ]
  },
  {
   "cell_type": "markdown",
   "id": "a1dde556",
   "metadata": {},
   "source": [
    "## Data Visualization: Local Field Potentials (LFP)\n",
    "Extracting and visualizing LFP data from the NWB file.\n",
    "\n",
    "lfp_data = nwb.processing[\"ecephys\"].data_interfaces[\"LFP\"].data[0:1000, 0:10] # First 1000 samples of first 10 electrodes\n",
    "time_series = np.arange(0, lfp_data.shape[0], 1) / nwb.processing[\"ecephys\"].data_interfaces[\"LFP\"].rate\n",
    "\n",
    "plt.figure(figsize=(15, 5))\n",
    "plt.plot(time_series, lfp_data)\n",
    "plt.title(\"LFP Data Sample\")\n",
    "plt.xlabel(\"Time (s)\")\n",
    "plt.ylabel(\"Voltage (V)\")\n",
    "plt.show()"
   ]
  },
  {
   "cell_type": "markdown",
   "id": "12d47a1d",
   "metadata": {},
   "source": [
    "## Summary and Future Directions\n",
    "In this notebook, we successfully loaded, explored, and visualized a subset of LFP data from the NWB file in Dandiset 001335. In future analysis, further exploration of the data, including firing rates, connectivity analysis, and cross-population correlations, could provide valuable insights into neural activity behaviors.\n",
    "\n",
    "Closing the file\n",
    "io.close()"
   ]
  }
 ],
 "metadata": {
  "jupytext": {
   "cell_metadata_filter": "-all",
   "main_language": "python",
   "notebook_metadata_filter": "-all"
  },
  "language_info": {
   "codemirror_mode": {
    "name": "ipython",
    "version": 3
   },
   "file_extension": ".py",
   "mimetype": "text/x-python",
   "name": "python",
   "nbconvert_exporter": "python",
   "pygments_lexer": "ipython3",
   "version": "3.11.10"
  }
 },
 "nbformat": 4,
 "nbformat_minor": 5
}
